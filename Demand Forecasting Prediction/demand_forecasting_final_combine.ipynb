{
 "cells": [
  {
   "cell_type": "code",
   "execution_count": 1,
   "metadata": {
    "colab": {},
    "colab_type": "code",
    "id": "n7YKFcthVM2m"
   },
   "outputs": [
    {
     "name": "stderr",
     "output_type": "stream",
     "text": [
      "Using TensorFlow backend.\n",
      "C:\\Users\\hhhwa\\anaconda3\\lib\\site-packages\\tensorflow\\python\\framework\\dtypes.py:516: FutureWarning: Passing (type, 1) or '1type' as a synonym of type is deprecated; in a future version of numpy, it will be understood as (type, (1,)) / '(1,)type'.\n",
      "  _np_qint8 = np.dtype([(\"qint8\", np.int8, 1)])\n",
      "C:\\Users\\hhhwa\\anaconda3\\lib\\site-packages\\tensorflow\\python\\framework\\dtypes.py:517: FutureWarning: Passing (type, 1) or '1type' as a synonym of type is deprecated; in a future version of numpy, it will be understood as (type, (1,)) / '(1,)type'.\n",
      "  _np_quint8 = np.dtype([(\"quint8\", np.uint8, 1)])\n",
      "C:\\Users\\hhhwa\\anaconda3\\lib\\site-packages\\tensorflow\\python\\framework\\dtypes.py:518: FutureWarning: Passing (type, 1) or '1type' as a synonym of type is deprecated; in a future version of numpy, it will be understood as (type, (1,)) / '(1,)type'.\n",
      "  _np_qint16 = np.dtype([(\"qint16\", np.int16, 1)])\n",
      "C:\\Users\\hhhwa\\anaconda3\\lib\\site-packages\\tensorflow\\python\\framework\\dtypes.py:519: FutureWarning: Passing (type, 1) or '1type' as a synonym of type is deprecated; in a future version of numpy, it will be understood as (type, (1,)) / '(1,)type'.\n",
      "  _np_quint16 = np.dtype([(\"quint16\", np.uint16, 1)])\n",
      "C:\\Users\\hhhwa\\anaconda3\\lib\\site-packages\\tensorflow\\python\\framework\\dtypes.py:520: FutureWarning: Passing (type, 1) or '1type' as a synonym of type is deprecated; in a future version of numpy, it will be understood as (type, (1,)) / '(1,)type'.\n",
      "  _np_qint32 = np.dtype([(\"qint32\", np.int32, 1)])\n",
      "C:\\Users\\hhhwa\\anaconda3\\lib\\site-packages\\tensorflow\\python\\framework\\dtypes.py:525: FutureWarning: Passing (type, 1) or '1type' as a synonym of type is deprecated; in a future version of numpy, it will be understood as (type, (1,)) / '(1,)type'.\n",
      "  np_resource = np.dtype([(\"resource\", np.ubyte, 1)])\n",
      "C:\\Users\\hhhwa\\anaconda3\\lib\\site-packages\\tensorboard\\compat\\tensorflow_stub\\dtypes.py:541: FutureWarning: Passing (type, 1) or '1type' as a synonym of type is deprecated; in a future version of numpy, it will be understood as (type, (1,)) / '(1,)type'.\n",
      "  _np_qint8 = np.dtype([(\"qint8\", np.int8, 1)])\n",
      "C:\\Users\\hhhwa\\anaconda3\\lib\\site-packages\\tensorboard\\compat\\tensorflow_stub\\dtypes.py:542: FutureWarning: Passing (type, 1) or '1type' as a synonym of type is deprecated; in a future version of numpy, it will be understood as (type, (1,)) / '(1,)type'.\n",
      "  _np_quint8 = np.dtype([(\"quint8\", np.uint8, 1)])\n",
      "C:\\Users\\hhhwa\\anaconda3\\lib\\site-packages\\tensorboard\\compat\\tensorflow_stub\\dtypes.py:543: FutureWarning: Passing (type, 1) or '1type' as a synonym of type is deprecated; in a future version of numpy, it will be understood as (type, (1,)) / '(1,)type'.\n",
      "  _np_qint16 = np.dtype([(\"qint16\", np.int16, 1)])\n",
      "C:\\Users\\hhhwa\\anaconda3\\lib\\site-packages\\tensorboard\\compat\\tensorflow_stub\\dtypes.py:544: FutureWarning: Passing (type, 1) or '1type' as a synonym of type is deprecated; in a future version of numpy, it will be understood as (type, (1,)) / '(1,)type'.\n",
      "  _np_quint16 = np.dtype([(\"quint16\", np.uint16, 1)])\n",
      "C:\\Users\\hhhwa\\anaconda3\\lib\\site-packages\\tensorboard\\compat\\tensorflow_stub\\dtypes.py:545: FutureWarning: Passing (type, 1) or '1type' as a synonym of type is deprecated; in a future version of numpy, it will be understood as (type, (1,)) / '(1,)type'.\n",
      "  _np_qint32 = np.dtype([(\"qint32\", np.int32, 1)])\n",
      "C:\\Users\\hhhwa\\anaconda3\\lib\\site-packages\\tensorboard\\compat\\tensorflow_stub\\dtypes.py:550: FutureWarning: Passing (type, 1) or '1type' as a synonym of type is deprecated; in a future version of numpy, it will be understood as (type, (1,)) / '(1,)type'.\n",
      "  np_resource = np.dtype([(\"resource\", np.ubyte, 1)])\n"
     ]
    }
   ],
   "source": [
    "import warnings\n",
    "import numpy as np\n",
    "import pandas as pd\n",
    "import seaborn as sb\n",
    "import matplotlib.pyplot as plt\n",
    "from keras import optimizers\n",
    "from keras.utils import plot_model\n",
    "from keras.models import Sequential, Model\n",
    "from keras.layers.convolutional import Conv1D, MaxPooling1D\n",
    "from keras.layers import Dense, LSTM, RepeatVector, TimeDistributed, Flatten\n",
    "from sklearn.metrics import mean_squared_error\n",
    "from sklearn.model_selection import train_test_split\n"
   ]
  },
  {
   "cell_type": "code",
   "execution_count": 2,
   "metadata": {
    "colab": {},
    "colab_type": "code",
    "id": "wWyDYJKhVQbm"
   },
   "outputs": [],
   "source": [
    "df  = pd.read_csv('C:/Users/hhhwa/Desktop/process_data/Historical Product Demand.csv', parse_dates=['Date'])"
   ]
  },
  {
   "cell_type": "markdown",
   "metadata": {
    "colab_type": "text",
    "id": "pVwtxPFiiT0a"
   },
   "source": [
    "Product_Code(2160) / Warehouse(4) / Product_Category(34) / Date / Order_Demand"
   ]
  },
  {
   "cell_type": "code",
   "execution_count": 3,
   "metadata": {
    "colab": {
     "base_uri": "https://localhost:8080/",
     "height": 419
    },
    "colab_type": "code",
    "id": "oSHXD2IyXbds",
    "outputId": "36adf65a-4ae6-4e8c-89a2-a003655bef4c"
   },
   "outputs": [
    {
     "data": {
      "text/html": [
       "<div>\n",
       "<style scoped>\n",
       "    .dataframe tbody tr th:only-of-type {\n",
       "        vertical-align: middle;\n",
       "    }\n",
       "\n",
       "    .dataframe tbody tr th {\n",
       "        vertical-align: top;\n",
       "    }\n",
       "\n",
       "    .dataframe thead th {\n",
       "        text-align: right;\n",
       "    }\n",
       "</style>\n",
       "<table border=\"1\" class=\"dataframe\">\n",
       "  <thead>\n",
       "    <tr style=\"text-align: right;\">\n",
       "      <th></th>\n",
       "      <th>Product_Code</th>\n",
       "      <th>Warehouse</th>\n",
       "      <th>Product_Category</th>\n",
       "      <th>Date</th>\n",
       "      <th>Order_Demand</th>\n",
       "    </tr>\n",
       "  </thead>\n",
       "  <tbody>\n",
       "    <tr>\n",
       "      <th>0</th>\n",
       "      <td>Product_0993</td>\n",
       "      <td>Whse_J</td>\n",
       "      <td>Category_028</td>\n",
       "      <td>2012-07-27</td>\n",
       "      <td>100</td>\n",
       "    </tr>\n",
       "    <tr>\n",
       "      <th>1</th>\n",
       "      <td>Product_0979</td>\n",
       "      <td>Whse_J</td>\n",
       "      <td>Category_028</td>\n",
       "      <td>2012-01-19</td>\n",
       "      <td>500</td>\n",
       "    </tr>\n",
       "    <tr>\n",
       "      <th>2</th>\n",
       "      <td>Product_0979</td>\n",
       "      <td>Whse_J</td>\n",
       "      <td>Category_028</td>\n",
       "      <td>2012-02-03</td>\n",
       "      <td>500</td>\n",
       "    </tr>\n",
       "    <tr>\n",
       "      <th>3</th>\n",
       "      <td>Product_0979</td>\n",
       "      <td>Whse_J</td>\n",
       "      <td>Category_028</td>\n",
       "      <td>2012-02-09</td>\n",
       "      <td>500</td>\n",
       "    </tr>\n",
       "    <tr>\n",
       "      <th>4</th>\n",
       "      <td>Product_0979</td>\n",
       "      <td>Whse_J</td>\n",
       "      <td>Category_028</td>\n",
       "      <td>2012-03-02</td>\n",
       "      <td>500</td>\n",
       "    </tr>\n",
       "    <tr>\n",
       "      <th>...</th>\n",
       "      <td>...</td>\n",
       "      <td>...</td>\n",
       "      <td>...</td>\n",
       "      <td>...</td>\n",
       "      <td>...</td>\n",
       "    </tr>\n",
       "    <tr>\n",
       "      <th>1048570</th>\n",
       "      <td>Product_1791</td>\n",
       "      <td>Whse_J</td>\n",
       "      <td>Category_006</td>\n",
       "      <td>2016-04-27</td>\n",
       "      <td>1000</td>\n",
       "    </tr>\n",
       "    <tr>\n",
       "      <th>1048571</th>\n",
       "      <td>Product_1974</td>\n",
       "      <td>Whse_J</td>\n",
       "      <td>Category_006</td>\n",
       "      <td>2016-04-27</td>\n",
       "      <td>1</td>\n",
       "    </tr>\n",
       "    <tr>\n",
       "      <th>1048572</th>\n",
       "      <td>Product_1787</td>\n",
       "      <td>Whse_J</td>\n",
       "      <td>Category_006</td>\n",
       "      <td>2016-04-28</td>\n",
       "      <td>2500</td>\n",
       "    </tr>\n",
       "    <tr>\n",
       "      <th>1048573</th>\n",
       "      <td>Product_0901</td>\n",
       "      <td>Whse_J</td>\n",
       "      <td>Category_023</td>\n",
       "      <td>2016-10-07</td>\n",
       "      <td>50</td>\n",
       "    </tr>\n",
       "    <tr>\n",
       "      <th>1048574</th>\n",
       "      <td>Product_0704</td>\n",
       "      <td>Whse_J</td>\n",
       "      <td>Category_001</td>\n",
       "      <td>2016-06-27</td>\n",
       "      <td>4</td>\n",
       "    </tr>\n",
       "  </tbody>\n",
       "</table>\n",
       "<p>1048575 rows × 5 columns</p>\n",
       "</div>"
      ],
      "text/plain": [
       "         Product_Code Warehouse Product_Category       Date  Order_Demand\n",
       "0        Product_0993    Whse_J     Category_028 2012-07-27           100\n",
       "1        Product_0979    Whse_J     Category_028 2012-01-19           500\n",
       "2        Product_0979    Whse_J     Category_028 2012-02-03           500\n",
       "3        Product_0979    Whse_J     Category_028 2012-02-09           500\n",
       "4        Product_0979    Whse_J     Category_028 2012-03-02           500\n",
       "...               ...       ...              ...        ...           ...\n",
       "1048570  Product_1791    Whse_J     Category_006 2016-04-27          1000\n",
       "1048571  Product_1974    Whse_J     Category_006 2016-04-27             1\n",
       "1048572  Product_1787    Whse_J     Category_006 2016-04-28          2500\n",
       "1048573  Product_0901    Whse_J     Category_023 2016-10-07            50\n",
       "1048574  Product_0704    Whse_J     Category_001 2016-06-27             4\n",
       "\n",
       "[1048575 rows x 5 columns]"
      ]
     },
     "execution_count": 3,
     "metadata": {},
     "output_type": "execute_result"
    }
   ],
   "source": [
    "df"
   ]
  },
  {
   "cell_type": "markdown",
   "metadata": {
    "colab_type": "text",
    "id": "wxTCOfLHikEE"
   },
   "source": [
    "Data Preprocessing"
   ]
  },
  {
   "cell_type": "code",
   "execution_count": 4,
   "metadata": {
    "colab": {
     "base_uri": "https://localhost:8080/",
     "height": 53
    },
    "colab_type": "code",
    "id": "E1mxswWudMtG",
    "outputId": "93e3e615-e05b-48c9-96b6-77e49e6e7155"
   },
   "outputs": [
    {
     "name": "stdout",
     "output_type": "stream",
     "text": [
      "1  /  5\n",
      "11239  /  1048575\n"
     ]
    }
   ],
   "source": [
    "# Check any number of columns with NaN\n",
    "print(df.isnull().any().sum(), ' / ', len(df.columns))\n",
    "# Check any number of data points with NaN\n",
    "print(df.isnull().any(axis=1).sum(), ' / ', len(df))"
   ]
  },
  {
   "cell_type": "code",
   "execution_count": 5,
   "metadata": {
    "colab": {
     "base_uri": "https://localhost:8080/",
     "height": 143
    },
    "colab_type": "code",
    "id": "rUC_Us6AdQdh",
    "outputId": "9dd40685-8c49-4e46-fedb-f4c2688bd01a"
   },
   "outputs": [
    {
     "name": "stdout",
     "output_type": "stream",
     "text": [
      "Product_Code            0\n",
      "Warehouse               0\n",
      "Product_Category        0\n",
      "Date                11239\n",
      "Order_Demand            0\n",
      "dtype: int64\n",
      "Null to Dataset Ratio in Dates:  1.0718355863910547\n"
     ]
    }
   ],
   "source": [
    "#Lets check where these nulls are.\n",
    "print (df.isna().sum())\n",
    "print ('Null to Dataset Ratio in Dates: ',df.isnull().sum()[3]/df.shape[0]*100)\n",
    "#There are missing values in Dates."
   ]
  },
  {
   "cell_type": "code",
   "execution_count": 6,
   "metadata": {
    "colab": {
     "base_uri": "https://localhost:8080/",
     "height": 669
    },
    "colab_type": "code",
    "id": "uJU--KwEdSUk",
    "outputId": "a6562688-1439-4aa2-ae03-37e68e823547"
   },
   "outputs": [
    {
     "data": {
      "text/html": [
       "<div>\n",
       "<style scoped>\n",
       "    .dataframe tbody tr th:only-of-type {\n",
       "        vertical-align: middle;\n",
       "    }\n",
       "\n",
       "    .dataframe tbody tr th {\n",
       "        vertical-align: top;\n",
       "    }\n",
       "\n",
       "    .dataframe thead th {\n",
       "        text-align: right;\n",
       "    }\n",
       "</style>\n",
       "<table border=\"1\" class=\"dataframe\">\n",
       "  <thead>\n",
       "    <tr style=\"text-align: right;\">\n",
       "      <th></th>\n",
       "      <th>Product_Code</th>\n",
       "      <th>Warehouse</th>\n",
       "      <th>Product_Category</th>\n",
       "      <th>Date</th>\n",
       "      <th>Order_Demand</th>\n",
       "    </tr>\n",
       "  </thead>\n",
       "  <tbody>\n",
       "    <tr>\n",
       "      <th>44799</th>\n",
       "      <td>Product_0965</td>\n",
       "      <td>Whse_A</td>\n",
       "      <td>Category_006</td>\n",
       "      <td>2011-01-08</td>\n",
       "      <td>2</td>\n",
       "    </tr>\n",
       "    <tr>\n",
       "      <th>72252</th>\n",
       "      <td>Product_1724</td>\n",
       "      <td>Whse_A</td>\n",
       "      <td>Category_003</td>\n",
       "      <td>2011-05-31</td>\n",
       "      <td>108</td>\n",
       "    </tr>\n",
       "    <tr>\n",
       "      <th>8431</th>\n",
       "      <td>Product_1521</td>\n",
       "      <td>Whse_S</td>\n",
       "      <td>Category_019</td>\n",
       "      <td>2011-06-24</td>\n",
       "      <td>85000</td>\n",
       "    </tr>\n",
       "    <tr>\n",
       "      <th>8432</th>\n",
       "      <td>Product_1521</td>\n",
       "      <td>Whse_S</td>\n",
       "      <td>Category_019</td>\n",
       "      <td>2011-06-24</td>\n",
       "      <td>7000</td>\n",
       "    </tr>\n",
       "    <tr>\n",
       "      <th>72669</th>\n",
       "      <td>Product_1507</td>\n",
       "      <td>Whse_C</td>\n",
       "      <td>Category_019</td>\n",
       "      <td>2011-09-02</td>\n",
       "      <td>1250</td>\n",
       "    </tr>\n",
       "    <tr>\n",
       "      <th>17249</th>\n",
       "      <td>Product_0608</td>\n",
       "      <td>Whse_C</td>\n",
       "      <td>Category_001</td>\n",
       "      <td>2011-09-27</td>\n",
       "      <td>5</td>\n",
       "    </tr>\n",
       "    <tr>\n",
       "      <th>17250</th>\n",
       "      <td>Product_1933</td>\n",
       "      <td>Whse_C</td>\n",
       "      <td>Category_001</td>\n",
       "      <td>2011-09-27</td>\n",
       "      <td>23</td>\n",
       "    </tr>\n",
       "    <tr>\n",
       "      <th>74615</th>\n",
       "      <td>Product_0875</td>\n",
       "      <td>Whse_C</td>\n",
       "      <td>Category_023</td>\n",
       "      <td>2011-09-30</td>\n",
       "      <td>5450</td>\n",
       "    </tr>\n",
       "    <tr>\n",
       "      <th>131426</th>\n",
       "      <td>Product_0125</td>\n",
       "      <td>Whse_S</td>\n",
       "      <td>Category_011</td>\n",
       "      <td>2011-10-20</td>\n",
       "      <td>-2</td>\n",
       "    </tr>\n",
       "    <tr>\n",
       "      <th>131429</th>\n",
       "      <td>Product_0412</td>\n",
       "      <td>Whse_S</td>\n",
       "      <td>Category_007</td>\n",
       "      <td>2011-10-20</td>\n",
       "      <td>-2</td>\n",
       "    </tr>\n",
       "    <tr>\n",
       "      <th>75193</th>\n",
       "      <td>Product_0642</td>\n",
       "      <td>Whse_C</td>\n",
       "      <td>Category_019</td>\n",
       "      <td>2011-10-31</td>\n",
       "      <td>3</td>\n",
       "    </tr>\n",
       "    <tr>\n",
       "      <th>121820</th>\n",
       "      <td>Product_0202</td>\n",
       "      <td>Whse_A</td>\n",
       "      <td>Category_007</td>\n",
       "      <td>2011-11-04</td>\n",
       "      <td>-100</td>\n",
       "    </tr>\n",
       "    <tr>\n",
       "      <th>121819</th>\n",
       "      <td>Product_0202</td>\n",
       "      <td>Whse_A</td>\n",
       "      <td>Category_007</td>\n",
       "      <td>2011-11-04</td>\n",
       "      <td>-400</td>\n",
       "    </tr>\n",
       "    <tr>\n",
       "      <th>131028</th>\n",
       "      <td>Product_2143</td>\n",
       "      <td>Whse_S</td>\n",
       "      <td>Category_009</td>\n",
       "      <td>2011-11-18</td>\n",
       "      <td>-25</td>\n",
       "    </tr>\n",
       "    <tr>\n",
       "      <th>131031</th>\n",
       "      <td>Product_0131</td>\n",
       "      <td>Whse_S</td>\n",
       "      <td>Category_021</td>\n",
       "      <td>2011-11-18</td>\n",
       "      <td>-12</td>\n",
       "    </tr>\n",
       "    <tr>\n",
       "      <th>131032</th>\n",
       "      <td>Product_0288</td>\n",
       "      <td>Whse_S</td>\n",
       "      <td>Category_021</td>\n",
       "      <td>2011-11-18</td>\n",
       "      <td>-50</td>\n",
       "    </tr>\n",
       "    <tr>\n",
       "      <th>44450</th>\n",
       "      <td>Product_0980</td>\n",
       "      <td>Whse_A</td>\n",
       "      <td>Category_028</td>\n",
       "      <td>2011-11-18</td>\n",
       "      <td>4000</td>\n",
       "    </tr>\n",
       "    <tr>\n",
       "      <th>131027</th>\n",
       "      <td>Product_2138</td>\n",
       "      <td>Whse_S</td>\n",
       "      <td>Category_009</td>\n",
       "      <td>2011-11-18</td>\n",
       "      <td>-49</td>\n",
       "    </tr>\n",
       "    <tr>\n",
       "      <th>131026</th>\n",
       "      <td>Product_2137</td>\n",
       "      <td>Whse_S</td>\n",
       "      <td>Category_009</td>\n",
       "      <td>2011-11-18</td>\n",
       "      <td>-25</td>\n",
       "    </tr>\n",
       "    <tr>\n",
       "      <th>44795</th>\n",
       "      <td>Product_0965</td>\n",
       "      <td>Whse_A</td>\n",
       "      <td>Category_006</td>\n",
       "      <td>2011-11-18</td>\n",
       "      <td>1</td>\n",
       "    </tr>\n",
       "  </tbody>\n",
       "</table>\n",
       "</div>"
      ],
      "text/plain": [
       "        Product_Code Warehouse Product_Category       Date  Order_Demand\n",
       "44799   Product_0965    Whse_A     Category_006 2011-01-08             2\n",
       "72252   Product_1724    Whse_A     Category_003 2011-05-31           108\n",
       "8431    Product_1521    Whse_S     Category_019 2011-06-24         85000\n",
       "8432    Product_1521    Whse_S     Category_019 2011-06-24          7000\n",
       "72669   Product_1507    Whse_C     Category_019 2011-09-02          1250\n",
       "17249   Product_0608    Whse_C     Category_001 2011-09-27             5\n",
       "17250   Product_1933    Whse_C     Category_001 2011-09-27            23\n",
       "74615   Product_0875    Whse_C     Category_023 2011-09-30          5450\n",
       "131426  Product_0125    Whse_S     Category_011 2011-10-20            -2\n",
       "131429  Product_0412    Whse_S     Category_007 2011-10-20            -2\n",
       "75193   Product_0642    Whse_C     Category_019 2011-10-31             3\n",
       "121820  Product_0202    Whse_A     Category_007 2011-11-04          -100\n",
       "121819  Product_0202    Whse_A     Category_007 2011-11-04          -400\n",
       "131028  Product_2143    Whse_S     Category_009 2011-11-18           -25\n",
       "131031  Product_0131    Whse_S     Category_021 2011-11-18           -12\n",
       "131032  Product_0288    Whse_S     Category_021 2011-11-18           -50\n",
       "44450   Product_0980    Whse_A     Category_028 2011-11-18          4000\n",
       "131027  Product_2138    Whse_S     Category_009 2011-11-18           -49\n",
       "131026  Product_2137    Whse_S     Category_009 2011-11-18           -25\n",
       "44795   Product_0965    Whse_A     Category_006 2011-11-18             1"
      ]
     },
     "execution_count": 6,
     "metadata": {},
     "output_type": "execute_result"
    }
   ],
   "source": [
    "df.dropna(axis=0, inplace=True) #remove all rows with na's.\n",
    "df.reset_index(drop=True)\n",
    "df.sort_values('Date')[0:20]"
   ]
  },
  {
   "cell_type": "code",
   "execution_count": 7,
   "metadata": {
    "colab": {
     "base_uri": "https://localhost:8080/",
     "height": 35
    },
    "colab_type": "code",
    "id": "C1XksFFqdWXC",
    "outputId": "db18f8ce-0214-4902-fee3-b6abdc67805d"
   },
   "outputs": [
    {
     "data": {
      "text/plain": [
       "(Timestamp('2011-01-08 00:00:00'), Timestamp('2017-01-09 00:00:00'))"
      ]
     },
     "execution_count": 7,
     "metadata": {},
     "output_type": "execute_result"
    }
   ],
   "source": [
    "#Get the lowest and highest dates in the dataset.\n",
    "df['Date'].min() , df['Date'].max()\n",
    "#There is data for 6 years. great."
   ]
  },
  {
   "cell_type": "code",
   "execution_count": 8,
   "metadata": {
    "colab": {},
    "colab_type": "code",
    "id": "AWKWSNF_dZg3"
   },
   "outputs": [],
   "source": [
    "df = df[(df['Date']>='2012-01-01') & (df['Date']<='2016-12-31')].sort_values('Date', ascending=True)"
   ]
  },
  {
   "cell_type": "code",
   "execution_count": 9,
   "metadata": {
    "colab": {
     "base_uri": "https://localhost:8080/",
     "height": 419
    },
    "colab_type": "code",
    "id": "PJuiQm7xdbm_",
    "outputId": "470e9e1f-7f0e-4014-c55f-cfebcef285b6"
   },
   "outputs": [
    {
     "data": {
      "text/html": [
       "<div>\n",
       "<style scoped>\n",
       "    .dataframe tbody tr th:only-of-type {\n",
       "        vertical-align: middle;\n",
       "    }\n",
       "\n",
       "    .dataframe tbody tr th {\n",
       "        vertical-align: top;\n",
       "    }\n",
       "\n",
       "    .dataframe thead th {\n",
       "        text-align: right;\n",
       "    }\n",
       "</style>\n",
       "<table border=\"1\" class=\"dataframe\">\n",
       "  <thead>\n",
       "    <tr style=\"text-align: right;\">\n",
       "      <th></th>\n",
       "      <th>Product_Code</th>\n",
       "      <th>Warehouse</th>\n",
       "      <th>Product_Category</th>\n",
       "      <th>Date</th>\n",
       "      <th>Order_Demand</th>\n",
       "    </tr>\n",
       "  </thead>\n",
       "  <tbody>\n",
       "    <tr>\n",
       "      <th>130870</th>\n",
       "      <td>Product_2166</td>\n",
       "      <td>Whse_S</td>\n",
       "      <td>Category_024</td>\n",
       "      <td>2012-01-01</td>\n",
       "      <td>2</td>\n",
       "    </tr>\n",
       "    <tr>\n",
       "      <th>196928</th>\n",
       "      <td>Product_0614</td>\n",
       "      <td>Whse_S</td>\n",
       "      <td>Category_001</td>\n",
       "      <td>2012-01-02</td>\n",
       "      <td>3</td>\n",
       "    </tr>\n",
       "    <tr>\n",
       "      <th>200087</th>\n",
       "      <td>Product_1281</td>\n",
       "      <td>Whse_S</td>\n",
       "      <td>Category_019</td>\n",
       "      <td>2012-01-02</td>\n",
       "      <td>14000</td>\n",
       "    </tr>\n",
       "    <tr>\n",
       "      <th>200086</th>\n",
       "      <td>Product_1355</td>\n",
       "      <td>Whse_S</td>\n",
       "      <td>Category_019</td>\n",
       "      <td>2012-01-02</td>\n",
       "      <td>5000</td>\n",
       "    </tr>\n",
       "    <tr>\n",
       "      <th>77313</th>\n",
       "      <td>Product_2169</td>\n",
       "      <td>Whse_S</td>\n",
       "      <td>Category_024</td>\n",
       "      <td>2012-01-02</td>\n",
       "      <td>55</td>\n",
       "    </tr>\n",
       "    <tr>\n",
       "      <th>...</th>\n",
       "      <td>...</td>\n",
       "      <td>...</td>\n",
       "      <td>...</td>\n",
       "      <td>...</td>\n",
       "      <td>...</td>\n",
       "    </tr>\n",
       "    <tr>\n",
       "      <th>995585</th>\n",
       "      <td>Product_0200</td>\n",
       "      <td>Whse_A</td>\n",
       "      <td>Category_007</td>\n",
       "      <td>2016-12-30</td>\n",
       "      <td>20</td>\n",
       "    </tr>\n",
       "    <tr>\n",
       "      <th>981262</th>\n",
       "      <td>Product_1388</td>\n",
       "      <td>Whse_A</td>\n",
       "      <td>Category_019</td>\n",
       "      <td>2016-12-30</td>\n",
       "      <td>100</td>\n",
       "    </tr>\n",
       "    <tr>\n",
       "      <th>999913</th>\n",
       "      <td>Product_1341</td>\n",
       "      <td>Whse_S</td>\n",
       "      <td>Category_019</td>\n",
       "      <td>2016-12-30</td>\n",
       "      <td>15000</td>\n",
       "    </tr>\n",
       "    <tr>\n",
       "      <th>981263</th>\n",
       "      <td>Product_1513</td>\n",
       "      <td>Whse_A</td>\n",
       "      <td>Category_019</td>\n",
       "      <td>2016-12-30</td>\n",
       "      <td>100</td>\n",
       "    </tr>\n",
       "    <tr>\n",
       "      <th>999914</th>\n",
       "      <td>Product_1431</td>\n",
       "      <td>Whse_S</td>\n",
       "      <td>Category_019</td>\n",
       "      <td>2016-12-30</td>\n",
       "      <td>15000</td>\n",
       "    </tr>\n",
       "  </tbody>\n",
       "</table>\n",
       "<p>1036643 rows × 5 columns</p>\n",
       "</div>"
      ],
      "text/plain": [
       "        Product_Code Warehouse Product_Category       Date  Order_Demand\n",
       "130870  Product_2166    Whse_S     Category_024 2012-01-01             2\n",
       "196928  Product_0614    Whse_S     Category_001 2012-01-02             3\n",
       "200087  Product_1281    Whse_S     Category_019 2012-01-02         14000\n",
       "200086  Product_1355    Whse_S     Category_019 2012-01-02          5000\n",
       "77313   Product_2169    Whse_S     Category_024 2012-01-02            55\n",
       "...              ...       ...              ...        ...           ...\n",
       "995585  Product_0200    Whse_A     Category_007 2016-12-30            20\n",
       "981262  Product_1388    Whse_A     Category_019 2016-12-30           100\n",
       "999913  Product_1341    Whse_S     Category_019 2016-12-30         15000\n",
       "981263  Product_1513    Whse_A     Category_019 2016-12-30           100\n",
       "999914  Product_1431    Whse_S     Category_019 2016-12-30         15000\n",
       "\n",
       "[1036643 rows x 5 columns]"
      ]
     },
     "execution_count": 9,
     "metadata": {},
     "output_type": "execute_result"
    }
   ],
   "source": [
    "df"
   ]
  },
  {
   "cell_type": "markdown",
   "metadata": {
    "colab_type": "text",
    "id": "yxHCwLYKlDH5"
   },
   "source": [
    "Exploring the Data as TIME SERIES"
   ]
  },
  {
   "cell_type": "markdown",
   "metadata": {},
   "source": [
    "Considering only Order_Demand"
   ]
  },
  {
   "cell_type": "code",
   "execution_count": 10,
   "metadata": {},
   "outputs": [],
   "source": [
    "df = df.groupby('Date')['Order_Demand'].sum().reset_index()\n",
    "df = df.set_index('Date')\n",
    "df.index\n",
    "y = df['Order_Demand'].resample('MS').mean()"
   ]
  },
  {
   "cell_type": "code",
   "execution_count": 11,
   "metadata": {},
   "outputs": [
    {
     "data": {
      "text/plain": [
       "Date\n",
       "2012-01-01    2.555132e+06\n",
       "2012-02-01    3.088279e+06\n",
       "2012-03-01    3.054448e+06\n",
       "2012-04-01    2.653303e+06\n",
       "2012-05-01    2.963562e+06\n",
       "Freq: MS, Name: Order_Demand, dtype: float64"
      ]
     },
     "execution_count": 11,
     "metadata": {},
     "output_type": "execute_result"
    }
   ],
   "source": [
    "y.head()"
   ]
  },
  {
   "cell_type": "markdown",
   "metadata": {},
   "source": [
    "Reset df"
   ]
  },
  {
   "cell_type": "code",
   "execution_count": 12,
   "metadata": {},
   "outputs": [],
   "source": [
    "df  = pd.read_csv('C:/Users/hhhwa/Desktop/process_data/Historical Product Demand.csv', parse_dates=['Date'])\n",
    "df.dropna(axis=0, inplace=True) #remove all rows with na's.\n",
    "df.reset_index(drop=True)\n",
    "df = df[(df['Date']>='2012-01-01') & (df['Date']<='2016-12-31')].sort_values('Date', ascending=True)"
   ]
  },
  {
   "cell_type": "markdown",
   "metadata": {
    "colab_type": "text",
    "id": "eve6IhDP5pip"
   },
   "source": [
    "Classified by category"
   ]
  },
  {
   "cell_type": "code",
   "execution_count": 13,
   "metadata": {
    "colab": {
     "base_uri": "https://localhost:8080/",
     "height": 1000
    },
    "colab_type": "code",
    "id": "2uGhs9Vi5oY3",
    "outputId": "ffe5fb1c-7bb3-4492-8683-e2ed6457840d"
   },
   "outputs": [
    {
     "data": {
      "text/html": [
       "<div>\n",
       "<style scoped>\n",
       "    .dataframe tbody tr th:only-of-type {\n",
       "        vertical-align: middle;\n",
       "    }\n",
       "\n",
       "    .dataframe tbody tr th {\n",
       "        vertical-align: top;\n",
       "    }\n",
       "\n",
       "    .dataframe thead th {\n",
       "        text-align: right;\n",
       "    }\n",
       "</style>\n",
       "<table border=\"1\" class=\"dataframe\">\n",
       "  <thead>\n",
       "    <tr style=\"text-align: right;\">\n",
       "      <th></th>\n",
       "      <th>Order_Demand</th>\n",
       "      <th>% Contribution</th>\n",
       "    </tr>\n",
       "    <tr>\n",
       "      <th>Product_Category</th>\n",
       "      <th></th>\n",
       "      <th></th>\n",
       "    </tr>\n",
       "  </thead>\n",
       "  <tbody>\n",
       "    <tr>\n",
       "      <th>Category_019</th>\n",
       "      <td>4213068570</td>\n",
       "      <td>82.673263</td>\n",
       "    </tr>\n",
       "    <tr>\n",
       "      <th>Category_006</th>\n",
       "      <td>401219159</td>\n",
       "      <td>7.873144</td>\n",
       "    </tr>\n",
       "    <tr>\n",
       "      <th>Category_005</th>\n",
       "      <td>197679740</td>\n",
       "      <td>3.879080</td>\n",
       "    </tr>\n",
       "    <tr>\n",
       "      <th>Category_007</th>\n",
       "      <td>127696217</td>\n",
       "      <td>2.505789</td>\n",
       "    </tr>\n",
       "    <tr>\n",
       "      <th>Category_028</th>\n",
       "      <td>47169520</td>\n",
       "      <td>0.925610</td>\n",
       "    </tr>\n",
       "    <tr>\n",
       "      <th>Category_033</th>\n",
       "      <td>42370000</td>\n",
       "      <td>0.831429</td>\n",
       "    </tr>\n",
       "    <tr>\n",
       "      <th>Category_030</th>\n",
       "      <td>40024855</td>\n",
       "      <td>0.785410</td>\n",
       "    </tr>\n",
       "    <tr>\n",
       "      <th>Category_032</th>\n",
       "      <td>4424920</td>\n",
       "      <td>0.086830</td>\n",
       "    </tr>\n",
       "    <tr>\n",
       "      <th>Category_021</th>\n",
       "      <td>4340660</td>\n",
       "      <td>0.085177</td>\n",
       "    </tr>\n",
       "    <tr>\n",
       "      <th>Category_009</th>\n",
       "      <td>3608178</td>\n",
       "      <td>0.070803</td>\n",
       "    </tr>\n",
       "    <tr>\n",
       "      <th>Category_023</th>\n",
       "      <td>3307196</td>\n",
       "      <td>0.064897</td>\n",
       "    </tr>\n",
       "    <tr>\n",
       "      <th>Category_011</th>\n",
       "      <td>2851122</td>\n",
       "      <td>0.055948</td>\n",
       "    </tr>\n",
       "    <tr>\n",
       "      <th>Category_020</th>\n",
       "      <td>2326710</td>\n",
       "      <td>0.045657</td>\n",
       "    </tr>\n",
       "    <tr>\n",
       "      <th>Category_001</th>\n",
       "      <td>1727397</td>\n",
       "      <td>0.033897</td>\n",
       "    </tr>\n",
       "    <tr>\n",
       "      <th>Category_024</th>\n",
       "      <td>1033589</td>\n",
       "      <td>0.020282</td>\n",
       "    </tr>\n",
       "    <tr>\n",
       "      <th>Category_015</th>\n",
       "      <td>811893</td>\n",
       "      <td>0.015932</td>\n",
       "    </tr>\n",
       "    <tr>\n",
       "      <th>Category_022</th>\n",
       "      <td>592229</td>\n",
       "      <td>0.011621</td>\n",
       "    </tr>\n",
       "    <tr>\n",
       "      <th>Category_025</th>\n",
       "      <td>486000</td>\n",
       "      <td>0.009537</td>\n",
       "    </tr>\n",
       "    <tr>\n",
       "      <th>Category_003</th>\n",
       "      <td>386736</td>\n",
       "      <td>0.007589</td>\n",
       "    </tr>\n",
       "    <tr>\n",
       "      <th>Category_013</th>\n",
       "      <td>301635</td>\n",
       "      <td>0.005919</td>\n",
       "    </tr>\n",
       "    <tr>\n",
       "      <th>Category_026</th>\n",
       "      <td>276957</td>\n",
       "      <td>0.005435</td>\n",
       "    </tr>\n",
       "    <tr>\n",
       "      <th>Category_004</th>\n",
       "      <td>94728</td>\n",
       "      <td>0.001859</td>\n",
       "    </tr>\n",
       "    <tr>\n",
       "      <th>Category_012</th>\n",
       "      <td>66480</td>\n",
       "      <td>0.001305</td>\n",
       "    </tr>\n",
       "    <tr>\n",
       "      <th>Category_017</th>\n",
       "      <td>46309</td>\n",
       "      <td>0.000909</td>\n",
       "    </tr>\n",
       "    <tr>\n",
       "      <th>Category_018</th>\n",
       "      <td>45446</td>\n",
       "      <td>0.000892</td>\n",
       "    </tr>\n",
       "    <tr>\n",
       "      <th>Category_029</th>\n",
       "      <td>22061</td>\n",
       "      <td>0.000433</td>\n",
       "    </tr>\n",
       "    <tr>\n",
       "      <th>Category_010</th>\n",
       "      <td>21118</td>\n",
       "      <td>0.000414</td>\n",
       "    </tr>\n",
       "    <tr>\n",
       "      <th>Category_008</th>\n",
       "      <td>17522</td>\n",
       "      <td>0.000344</td>\n",
       "    </tr>\n",
       "    <tr>\n",
       "      <th>Category_016</th>\n",
       "      <td>16850</td>\n",
       "      <td>0.000331</td>\n",
       "    </tr>\n",
       "    <tr>\n",
       "      <th>Category_031</th>\n",
       "      <td>12704</td>\n",
       "      <td>0.000249</td>\n",
       "    </tr>\n",
       "    <tr>\n",
       "      <th>Category_002</th>\n",
       "      <td>620</td>\n",
       "      <td>0.000012</td>\n",
       "    </tr>\n",
       "    <tr>\n",
       "      <th>Category_014</th>\n",
       "      <td>100</td>\n",
       "      <td>0.000002</td>\n",
       "    </tr>\n",
       "    <tr>\n",
       "      <th>Category_027</th>\n",
       "      <td>57</td>\n",
       "      <td>0.000001</td>\n",
       "    </tr>\n",
       "  </tbody>\n",
       "</table>\n",
       "</div>"
      ],
      "text/plain": [
       "                  Order_Demand  % Contribution\n",
       "Product_Category                              \n",
       "Category_019        4213068570       82.673263\n",
       "Category_006         401219159        7.873144\n",
       "Category_005         197679740        3.879080\n",
       "Category_007         127696217        2.505789\n",
       "Category_028          47169520        0.925610\n",
       "Category_033          42370000        0.831429\n",
       "Category_030          40024855        0.785410\n",
       "Category_032           4424920        0.086830\n",
       "Category_021           4340660        0.085177\n",
       "Category_009           3608178        0.070803\n",
       "Category_023           3307196        0.064897\n",
       "Category_011           2851122        0.055948\n",
       "Category_020           2326710        0.045657\n",
       "Category_001           1727397        0.033897\n",
       "Category_024           1033589        0.020282\n",
       "Category_015            811893        0.015932\n",
       "Category_022            592229        0.011621\n",
       "Category_025            486000        0.009537\n",
       "Category_003            386736        0.007589\n",
       "Category_013            301635        0.005919\n",
       "Category_026            276957        0.005435\n",
       "Category_004             94728        0.001859\n",
       "Category_012             66480        0.001305\n",
       "Category_017             46309        0.000909\n",
       "Category_018             45446        0.000892\n",
       "Category_029             22061        0.000433\n",
       "Category_010             21118        0.000414\n",
       "Category_008             17522        0.000344\n",
       "Category_016             16850        0.000331\n",
       "Category_031             12704        0.000249\n",
       "Category_002               620        0.000012\n",
       "Category_014               100        0.000002\n",
       "Category_027                57        0.000001"
      ]
     },
     "execution_count": 13,
     "metadata": {},
     "output_type": "execute_result"
    }
   ],
   "source": [
    "df1 = pd.DataFrame(df.groupby('Product_Category')['Order_Demand'].sum().sort_values(ascending=False))\n",
    "df1[\"% Contribution\"] = df1['Order_Demand']/df1['Order_Demand'].sum()*100\n",
    "df1"
   ]
  },
  {
   "cell_type": "code",
   "execution_count": 14,
   "metadata": {
    "colab": {
     "base_uri": "https://localhost:8080/",
     "height": 251
    },
    "colab_type": "code",
    "id": "I1HL2eo65oWE",
    "outputId": "a10004e8-a91d-4c03-da59-01007c79bd54"
   },
   "outputs": [
    {
     "data": {
      "text/plain": [
       "Date\n",
       "2012-01-02     653950.0\n",
       "2012-01-03    1499806.0\n",
       "2012-01-04     626100.0\n",
       "2012-01-05    7458199.0\n",
       "2012-01-06    3442875.0\n",
       "                ...    \n",
       "2016-12-26    3001006.0\n",
       "2016-12-27    1334994.0\n",
       "2016-12-28    1830121.0\n",
       "2016-12-29     388451.0\n",
       "2016-12-30     621700.0\n",
       "Name: Category_019, Length: 1579, dtype: float64"
      ]
     },
     "execution_count": 14,
     "metadata": {},
     "output_type": "execute_result"
    }
   ],
   "source": [
    "df2 = pd.pivot_table(df,index=[\"Date\"],values=[\"Order_Demand\"],columns=[\"Product_Category\"],aggfunc=np.sum)\n",
    "df2.columns = df2.columns.droplevel(0)\n",
    "df2[\"Category_019\"].dropna()"
   ]
  },
  {
   "cell_type": "code",
   "execution_count": 15,
   "metadata": {
    "colab": {
     "base_uri": "https://localhost:8080/",
     "height": 410
    },
    "colab_type": "code",
    "id": "pYS8nkcl5oTV",
    "outputId": "eb3eed06-72be-43be-f843-fb652e7b162f"
   },
   "outputs": [
    {
     "data": {
      "text/html": [
       "<div>\n",
       "<style scoped>\n",
       "    .dataframe tbody tr th:only-of-type {\n",
       "        vertical-align: middle;\n",
       "    }\n",
       "\n",
       "    .dataframe tbody tr th {\n",
       "        vertical-align: top;\n",
       "    }\n",
       "\n",
       "    .dataframe thead th {\n",
       "        text-align: right;\n",
       "    }\n",
       "</style>\n",
       "<table border=\"1\" class=\"dataframe\">\n",
       "  <thead>\n",
       "    <tr style=\"text-align: right;\">\n",
       "      <th>Product_Category</th>\n",
       "      <th>Category_001</th>\n",
       "      <th>Category_002</th>\n",
       "      <th>Category_003</th>\n",
       "      <th>Category_004</th>\n",
       "      <th>Category_005</th>\n",
       "      <th>Category_006</th>\n",
       "      <th>Category_007</th>\n",
       "      <th>Category_008</th>\n",
       "      <th>Category_009</th>\n",
       "      <th>Category_010</th>\n",
       "      <th>...</th>\n",
       "      <th>Category_024</th>\n",
       "      <th>Category_025</th>\n",
       "      <th>Category_026</th>\n",
       "      <th>Category_027</th>\n",
       "      <th>Category_028</th>\n",
       "      <th>Category_029</th>\n",
       "      <th>Category_030</th>\n",
       "      <th>Category_031</th>\n",
       "      <th>Category_032</th>\n",
       "      <th>Category_033</th>\n",
       "    </tr>\n",
       "    <tr>\n",
       "      <th>Date</th>\n",
       "      <th></th>\n",
       "      <th></th>\n",
       "      <th></th>\n",
       "      <th></th>\n",
       "      <th></th>\n",
       "      <th></th>\n",
       "      <th></th>\n",
       "      <th></th>\n",
       "      <th></th>\n",
       "      <th></th>\n",
       "      <th></th>\n",
       "      <th></th>\n",
       "      <th></th>\n",
       "      <th></th>\n",
       "      <th></th>\n",
       "      <th></th>\n",
       "      <th></th>\n",
       "      <th></th>\n",
       "      <th></th>\n",
       "      <th></th>\n",
       "      <th></th>\n",
       "    </tr>\n",
       "  </thead>\n",
       "  <tbody>\n",
       "    <tr>\n",
       "      <th>2012-01-01</th>\n",
       "      <td>22055.0</td>\n",
       "      <td>0.0</td>\n",
       "      <td>5848.0</td>\n",
       "      <td>900.0</td>\n",
       "      <td>2868545.0</td>\n",
       "      <td>6321967.0</td>\n",
       "      <td>2058259.0</td>\n",
       "      <td>268.0</td>\n",
       "      <td>46502.0</td>\n",
       "      <td>105.0</td>\n",
       "      <td>...</td>\n",
       "      <td>11777.0</td>\n",
       "      <td>0.0</td>\n",
       "      <td>3179.0</td>\n",
       "      <td>0.0</td>\n",
       "      <td>507940.0</td>\n",
       "      <td>32.0</td>\n",
       "      <td>406350.0</td>\n",
       "      <td>372.0</td>\n",
       "      <td>30010.0</td>\n",
       "      <td>600000.0</td>\n",
       "    </tr>\n",
       "    <tr>\n",
       "      <th>2012-02-01</th>\n",
       "      <td>25398.0</td>\n",
       "      <td>0.0</td>\n",
       "      <td>5750.0</td>\n",
       "      <td>3260.0</td>\n",
       "      <td>3203650.0</td>\n",
       "      <td>6431061.0</td>\n",
       "      <td>2423222.0</td>\n",
       "      <td>240.0</td>\n",
       "      <td>65443.0</td>\n",
       "      <td>97.0</td>\n",
       "      <td>...</td>\n",
       "      <td>17913.0</td>\n",
       "      <td>9000.0</td>\n",
       "      <td>6304.0</td>\n",
       "      <td>0.0</td>\n",
       "      <td>462939.0</td>\n",
       "      <td>628.0</td>\n",
       "      <td>657850.0</td>\n",
       "      <td>210.0</td>\n",
       "      <td>114560.0</td>\n",
       "      <td>900000.0</td>\n",
       "    </tr>\n",
       "    <tr>\n",
       "      <th>2012-03-01</th>\n",
       "      <td>29396.0</td>\n",
       "      <td>0.0</td>\n",
       "      <td>7657.0</td>\n",
       "      <td>2880.0</td>\n",
       "      <td>3227430.0</td>\n",
       "      <td>6205094.0</td>\n",
       "      <td>2485655.0</td>\n",
       "      <td>92.0</td>\n",
       "      <td>55390.0</td>\n",
       "      <td>88.0</td>\n",
       "      <td>...</td>\n",
       "      <td>23248.0</td>\n",
       "      <td>3000.0</td>\n",
       "      <td>5929.0</td>\n",
       "      <td>0.0</td>\n",
       "      <td>558869.0</td>\n",
       "      <td>753.0</td>\n",
       "      <td>553450.0</td>\n",
       "      <td>331.0</td>\n",
       "      <td>20982.0</td>\n",
       "      <td>530000.0</td>\n",
       "    </tr>\n",
       "    <tr>\n",
       "      <th>2012-04-01</th>\n",
       "      <td>20489.0</td>\n",
       "      <td>0.0</td>\n",
       "      <td>7244.0</td>\n",
       "      <td>1220.0</td>\n",
       "      <td>2596790.0</td>\n",
       "      <td>5845692.0</td>\n",
       "      <td>2781866.0</td>\n",
       "      <td>517.0</td>\n",
       "      <td>70758.0</td>\n",
       "      <td>161.0</td>\n",
       "      <td>...</td>\n",
       "      <td>21734.0</td>\n",
       "      <td>0.0</td>\n",
       "      <td>6868.0</td>\n",
       "      <td>0.0</td>\n",
       "      <td>373579.0</td>\n",
       "      <td>494.0</td>\n",
       "      <td>457450.0</td>\n",
       "      <td>118.0</td>\n",
       "      <td>60868.0</td>\n",
       "      <td>830000.0</td>\n",
       "    </tr>\n",
       "    <tr>\n",
       "      <th>2012-05-01</th>\n",
       "      <td>20360.0</td>\n",
       "      <td>0.0</td>\n",
       "      <td>8972.0</td>\n",
       "      <td>270.0</td>\n",
       "      <td>3433700.0</td>\n",
       "      <td>6416599.0</td>\n",
       "      <td>1706125.0</td>\n",
       "      <td>580.0</td>\n",
       "      <td>61703.0</td>\n",
       "      <td>1903.0</td>\n",
       "      <td>...</td>\n",
       "      <td>14670.0</td>\n",
       "      <td>0.0</td>\n",
       "      <td>7885.0</td>\n",
       "      <td>0.0</td>\n",
       "      <td>766972.0</td>\n",
       "      <td>725.0</td>\n",
       "      <td>431151.0</td>\n",
       "      <td>218.0</td>\n",
       "      <td>34736.0</td>\n",
       "      <td>880000.0</td>\n",
       "    </tr>\n",
       "    <tr>\n",
       "      <th>2012-06-01</th>\n",
       "      <td>21199.0</td>\n",
       "      <td>0.0</td>\n",
       "      <td>8384.0</td>\n",
       "      <td>4500.0</td>\n",
       "      <td>3236360.0</td>\n",
       "      <td>5604352.0</td>\n",
       "      <td>1891858.0</td>\n",
       "      <td>77.0</td>\n",
       "      <td>82177.0</td>\n",
       "      <td>75.0</td>\n",
       "      <td>...</td>\n",
       "      <td>21412.0</td>\n",
       "      <td>0.0</td>\n",
       "      <td>4272.0</td>\n",
       "      <td>0.0</td>\n",
       "      <td>1150902.0</td>\n",
       "      <td>1160.0</td>\n",
       "      <td>525050.0</td>\n",
       "      <td>253.0</td>\n",
       "      <td>120512.0</td>\n",
       "      <td>880000.0</td>\n",
       "    </tr>\n",
       "    <tr>\n",
       "      <th>2012-07-01</th>\n",
       "      <td>20034.0</td>\n",
       "      <td>0.0</td>\n",
       "      <td>5739.0</td>\n",
       "      <td>2140.0</td>\n",
       "      <td>2947725.0</td>\n",
       "      <td>4743436.0</td>\n",
       "      <td>1456262.0</td>\n",
       "      <td>208.0</td>\n",
       "      <td>59449.0</td>\n",
       "      <td>814.0</td>\n",
       "      <td>...</td>\n",
       "      <td>19942.0</td>\n",
       "      <td>0.0</td>\n",
       "      <td>5621.0</td>\n",
       "      <td>0.0</td>\n",
       "      <td>801559.0</td>\n",
       "      <td>292.0</td>\n",
       "      <td>470350.0</td>\n",
       "      <td>355.0</td>\n",
       "      <td>21576.0</td>\n",
       "      <td>710000.0</td>\n",
       "    </tr>\n",
       "    <tr>\n",
       "      <th>2012-08-01</th>\n",
       "      <td>17981.0</td>\n",
       "      <td>0.0</td>\n",
       "      <td>2779.0</td>\n",
       "      <td>3220.0</td>\n",
       "      <td>2735340.0</td>\n",
       "      <td>6000516.0</td>\n",
       "      <td>2338021.0</td>\n",
       "      <td>630.0</td>\n",
       "      <td>40163.0</td>\n",
       "      <td>444.0</td>\n",
       "      <td>...</td>\n",
       "      <td>13346.0</td>\n",
       "      <td>3000.0</td>\n",
       "      <td>4450.0</td>\n",
       "      <td>0.0</td>\n",
       "      <td>641566.0</td>\n",
       "      <td>822.0</td>\n",
       "      <td>830050.0</td>\n",
       "      <td>199.0</td>\n",
       "      <td>64918.0</td>\n",
       "      <td>700000.0</td>\n",
       "    </tr>\n",
       "    <tr>\n",
       "      <th>2012-09-01</th>\n",
       "      <td>19782.0</td>\n",
       "      <td>0.0</td>\n",
       "      <td>6962.0</td>\n",
       "      <td>1973.0</td>\n",
       "      <td>2586780.0</td>\n",
       "      <td>4132710.0</td>\n",
       "      <td>1377977.0</td>\n",
       "      <td>239.0</td>\n",
       "      <td>71319.0</td>\n",
       "      <td>151.0</td>\n",
       "      <td>...</td>\n",
       "      <td>12446.0</td>\n",
       "      <td>0.0</td>\n",
       "      <td>3818.0</td>\n",
       "      <td>0.0</td>\n",
       "      <td>787579.0</td>\n",
       "      <td>694.0</td>\n",
       "      <td>423350.0</td>\n",
       "      <td>488.0</td>\n",
       "      <td>18936.0</td>\n",
       "      <td>700000.0</td>\n",
       "    </tr>\n",
       "    <tr>\n",
       "      <th>2012-10-01</th>\n",
       "      <td>27607.0</td>\n",
       "      <td>0.0</td>\n",
       "      <td>4723.0</td>\n",
       "      <td>1167.0</td>\n",
       "      <td>2836455.0</td>\n",
       "      <td>5177976.0</td>\n",
       "      <td>2345704.0</td>\n",
       "      <td>227.0</td>\n",
       "      <td>69012.0</td>\n",
       "      <td>312.0</td>\n",
       "      <td>...</td>\n",
       "      <td>21094.0</td>\n",
       "      <td>0.0</td>\n",
       "      <td>3112.0</td>\n",
       "      <td>0.0</td>\n",
       "      <td>834630.0</td>\n",
       "      <td>348.0</td>\n",
       "      <td>600900.0</td>\n",
       "      <td>167.0</td>\n",
       "      <td>9682.0</td>\n",
       "      <td>780000.0</td>\n",
       "    </tr>\n",
       "  </tbody>\n",
       "</table>\n",
       "<p>10 rows × 33 columns</p>\n",
       "</div>"
      ],
      "text/plain": [
       "Product_Category  Category_001  Category_002  Category_003  Category_004  \\\n",
       "Date                                                                       \n",
       "2012-01-01             22055.0           0.0        5848.0         900.0   \n",
       "2012-02-01             25398.0           0.0        5750.0        3260.0   \n",
       "2012-03-01             29396.0           0.0        7657.0        2880.0   \n",
       "2012-04-01             20489.0           0.0        7244.0        1220.0   \n",
       "2012-05-01             20360.0           0.0        8972.0         270.0   \n",
       "2012-06-01             21199.0           0.0        8384.0        4500.0   \n",
       "2012-07-01             20034.0           0.0        5739.0        2140.0   \n",
       "2012-08-01             17981.0           0.0        2779.0        3220.0   \n",
       "2012-09-01             19782.0           0.0        6962.0        1973.0   \n",
       "2012-10-01             27607.0           0.0        4723.0        1167.0   \n",
       "\n",
       "Product_Category  Category_005  Category_006  Category_007  Category_008  \\\n",
       "Date                                                                       \n",
       "2012-01-01           2868545.0     6321967.0     2058259.0         268.0   \n",
       "2012-02-01           3203650.0     6431061.0     2423222.0         240.0   \n",
       "2012-03-01           3227430.0     6205094.0     2485655.0          92.0   \n",
       "2012-04-01           2596790.0     5845692.0     2781866.0         517.0   \n",
       "2012-05-01           3433700.0     6416599.0     1706125.0         580.0   \n",
       "2012-06-01           3236360.0     5604352.0     1891858.0          77.0   \n",
       "2012-07-01           2947725.0     4743436.0     1456262.0         208.0   \n",
       "2012-08-01           2735340.0     6000516.0     2338021.0         630.0   \n",
       "2012-09-01           2586780.0     4132710.0     1377977.0         239.0   \n",
       "2012-10-01           2836455.0     5177976.0     2345704.0         227.0   \n",
       "\n",
       "Product_Category  Category_009  Category_010  ...  Category_024  Category_025  \\\n",
       "Date                                          ...                               \n",
       "2012-01-01             46502.0         105.0  ...       11777.0           0.0   \n",
       "2012-02-01             65443.0          97.0  ...       17913.0        9000.0   \n",
       "2012-03-01             55390.0          88.0  ...       23248.0        3000.0   \n",
       "2012-04-01             70758.0         161.0  ...       21734.0           0.0   \n",
       "2012-05-01             61703.0        1903.0  ...       14670.0           0.0   \n",
       "2012-06-01             82177.0          75.0  ...       21412.0           0.0   \n",
       "2012-07-01             59449.0         814.0  ...       19942.0           0.0   \n",
       "2012-08-01             40163.0         444.0  ...       13346.0        3000.0   \n",
       "2012-09-01             71319.0         151.0  ...       12446.0           0.0   \n",
       "2012-10-01             69012.0         312.0  ...       21094.0           0.0   \n",
       "\n",
       "Product_Category  Category_026  Category_027  Category_028  Category_029  \\\n",
       "Date                                                                       \n",
       "2012-01-01              3179.0           0.0      507940.0          32.0   \n",
       "2012-02-01              6304.0           0.0      462939.0         628.0   \n",
       "2012-03-01              5929.0           0.0      558869.0         753.0   \n",
       "2012-04-01              6868.0           0.0      373579.0         494.0   \n",
       "2012-05-01              7885.0           0.0      766972.0         725.0   \n",
       "2012-06-01              4272.0           0.0     1150902.0        1160.0   \n",
       "2012-07-01              5621.0           0.0      801559.0         292.0   \n",
       "2012-08-01              4450.0           0.0      641566.0         822.0   \n",
       "2012-09-01              3818.0           0.0      787579.0         694.0   \n",
       "2012-10-01              3112.0           0.0      834630.0         348.0   \n",
       "\n",
       "Product_Category  Category_030  Category_031  Category_032  Category_033  \n",
       "Date                                                                      \n",
       "2012-01-01            406350.0         372.0       30010.0      600000.0  \n",
       "2012-02-01            657850.0         210.0      114560.0      900000.0  \n",
       "2012-03-01            553450.0         331.0       20982.0      530000.0  \n",
       "2012-04-01            457450.0         118.0       60868.0      830000.0  \n",
       "2012-05-01            431151.0         218.0       34736.0      880000.0  \n",
       "2012-06-01            525050.0         253.0      120512.0      880000.0  \n",
       "2012-07-01            470350.0         355.0       21576.0      710000.0  \n",
       "2012-08-01            830050.0         199.0       64918.0      700000.0  \n",
       "2012-09-01            423350.0         488.0       18936.0      700000.0  \n",
       "2012-10-01            600900.0         167.0        9682.0      780000.0  \n",
       "\n",
       "[10 rows x 33 columns]"
      ]
     },
     "execution_count": 15,
     "metadata": {},
     "output_type": "execute_result"
    }
   ],
   "source": [
    "y_1 = df2.resample('MS').sum() # Resampling the data on monthly basis \n",
    "y_1.index.freq = \"MS\" # Setting datetime frequency to Month\n",
    "y_1.head(10)"
   ]
  },
  {
   "cell_type": "code",
   "execution_count": 16,
   "metadata": {
    "colab": {
     "base_uri": "https://localhost:8080/",
     "height": 235
    },
    "colab_type": "code",
    "id": "SHdCutKu5oNs",
    "outputId": "9cb5cd44-560e-4186-b69b-0f51087ab405"
   },
   "outputs": [
    {
     "data": {
      "text/html": [
       "<div>\n",
       "<style scoped>\n",
       "    .dataframe tbody tr th:only-of-type {\n",
       "        vertical-align: middle;\n",
       "    }\n",
       "\n",
       "    .dataframe tbody tr th {\n",
       "        vertical-align: top;\n",
       "    }\n",
       "\n",
       "    .dataframe thead th {\n",
       "        text-align: right;\n",
       "    }\n",
       "</style>\n",
       "<table border=\"1\" class=\"dataframe\">\n",
       "  <thead>\n",
       "    <tr style=\"text-align: right;\">\n",
       "      <th></th>\n",
       "      <th>Category_019</th>\n",
       "    </tr>\n",
       "    <tr>\n",
       "      <th>Date</th>\n",
       "      <th></th>\n",
       "    </tr>\n",
       "  </thead>\n",
       "  <tbody>\n",
       "    <tr>\n",
       "      <th>2012-01-01</th>\n",
       "      <td>61068659.0</td>\n",
       "    </tr>\n",
       "    <tr>\n",
       "      <th>2012-02-01</th>\n",
       "      <td>71882600.0</td>\n",
       "    </tr>\n",
       "    <tr>\n",
       "      <th>2012-03-01</th>\n",
       "      <td>71581780.0</td>\n",
       "    </tr>\n",
       "    <tr>\n",
       "      <th>2012-04-01</th>\n",
       "      <td>61010298.0</td>\n",
       "    </tr>\n",
       "    <tr>\n",
       "      <th>2012-05-01</th>\n",
       "      <td>71930220.0</td>\n",
       "    </tr>\n",
       "  </tbody>\n",
       "</table>\n",
       "</div>"
      ],
      "text/plain": [
       "            Category_019\n",
       "Date                    \n",
       "2012-01-01    61068659.0\n",
       "2012-02-01    71882600.0\n",
       "2012-03-01    71581780.0\n",
       "2012-04-01    61010298.0\n",
       "2012-05-01    71930220.0"
      ]
     },
     "execution_count": 16,
     "metadata": {},
     "output_type": "execute_result"
    }
   ],
   "source": [
    "df_019 = pd.DataFrame(y_1[\"Category_019\"])\n",
    "df_019.head()"
   ]
  },
  {
   "cell_type": "code",
   "execution_count": 17,
   "metadata": {
    "colab": {},
    "colab_type": "code",
    "id": "xmmRiHmR5oBE"
   },
   "outputs": [],
   "source": [
    "y_019 = df_019['Category_019'].resample('M').mean()"
   ]
  },
  {
   "cell_type": "markdown",
   "metadata": {
    "colab_type": "text",
    "id": "mH8-JBqF8nD9"
   },
   "source": [
    "Classified by Warehouse"
   ]
  },
  {
   "cell_type": "code",
   "execution_count": 18,
   "metadata": {
    "colab": {
     "base_uri": "https://localhost:8080/",
     "height": 204
    },
    "colab_type": "code",
    "id": "mG8DCNFX8mXS",
    "outputId": "13ce8a1c-78af-4226-8217-0ac386612300"
   },
   "outputs": [
    {
     "data": {
      "text/html": [
       "<div>\n",
       "<style scoped>\n",
       "    .dataframe tbody tr th:only-of-type {\n",
       "        vertical-align: middle;\n",
       "    }\n",
       "\n",
       "    .dataframe tbody tr th {\n",
       "        vertical-align: top;\n",
       "    }\n",
       "\n",
       "    .dataframe thead th {\n",
       "        text-align: right;\n",
       "    }\n",
       "</style>\n",
       "<table border=\"1\" class=\"dataframe\">\n",
       "  <thead>\n",
       "    <tr style=\"text-align: right;\">\n",
       "      <th></th>\n",
       "      <th>Order_Demand</th>\n",
       "      <th>% Contribution</th>\n",
       "    </tr>\n",
       "    <tr>\n",
       "      <th>Warehouse</th>\n",
       "      <th></th>\n",
       "      <th></th>\n",
       "    </tr>\n",
       "  </thead>\n",
       "  <tbody>\n",
       "    <tr>\n",
       "      <th>Whse_J</th>\n",
       "      <td>3344066262</td>\n",
       "      <td>65.620786</td>\n",
       "    </tr>\n",
       "    <tr>\n",
       "      <th>Whse_S</th>\n",
       "      <td>1030165015</td>\n",
       "      <td>20.214982</td>\n",
       "    </tr>\n",
       "    <tr>\n",
       "      <th>Whse_C</th>\n",
       "      <td>578777987</td>\n",
       "      <td>11.357390</td>\n",
       "    </tr>\n",
       "    <tr>\n",
       "      <th>Whse_A</th>\n",
       "      <td>143038014</td>\n",
       "      <td>2.806842</td>\n",
       "    </tr>\n",
       "  </tbody>\n",
       "</table>\n",
       "</div>"
      ],
      "text/plain": [
       "           Order_Demand  % Contribution\n",
       "Warehouse                              \n",
       "Whse_J       3344066262       65.620786\n",
       "Whse_S       1030165015       20.214982\n",
       "Whse_C        578777987       11.357390\n",
       "Whse_A        143038014        2.806842"
      ]
     },
     "execution_count": 18,
     "metadata": {},
     "output_type": "execute_result"
    }
   ],
   "source": [
    "df4 = pd.DataFrame(df.groupby('Warehouse')['Order_Demand'].sum().sort_values(ascending=False))\n",
    "df4[\"% Contribution\"] = df4['Order_Demand']/df4['Order_Demand'].sum()*100\n",
    "df4"
   ]
  },
  {
   "cell_type": "code",
   "execution_count": 19,
   "metadata": {
    "colab": {
     "base_uri": "https://localhost:8080/",
     "height": 251
    },
    "colab_type": "code",
    "id": "rdlgIq878mIG",
    "outputId": "28d94d91-129f-4c75-e67a-b67f7454d78f"
   },
   "outputs": [
    {
     "data": {
      "text/plain": [
       "Date\n",
       "2012-01-04        120.0\n",
       "2012-01-05    4701940.0\n",
       "2012-01-06    3822135.0\n",
       "2012-01-09        200.0\n",
       "2012-01-10    4315961.0\n",
       "                ...    \n",
       "2016-12-25          0.0\n",
       "2016-12-26    2972644.0\n",
       "2016-12-27    1188951.0\n",
       "2016-12-28    2068050.0\n",
       "2016-12-29     139046.0\n",
       "Name: Whse_J, Length: 1394, dtype: float64"
      ]
     },
     "execution_count": 19,
     "metadata": {},
     "output_type": "execute_result"
    }
   ],
   "source": [
    "df5 = pd.pivot_table(df,index=[\"Date\"],values=[\"Order_Demand\"],columns=[\"Warehouse\"],aggfunc=np.sum)\n",
    "df5.columns = df5.columns.droplevel(0)\n",
    "df5[\"Whse_J\"].dropna()"
   ]
  },
  {
   "cell_type": "code",
   "execution_count": 20,
   "metadata": {
    "colab": {
     "base_uri": "https://localhost:8080/",
     "height": 390
    },
    "colab_type": "code",
    "id": "2d1-cHvA9Wp5",
    "outputId": "a3d731dd-e567-4fe4-e43d-2e043e509b99"
   },
   "outputs": [
    {
     "data": {
      "text/html": [
       "<div>\n",
       "<style scoped>\n",
       "    .dataframe tbody tr th:only-of-type {\n",
       "        vertical-align: middle;\n",
       "    }\n",
       "\n",
       "    .dataframe tbody tr th {\n",
       "        vertical-align: top;\n",
       "    }\n",
       "\n",
       "    .dataframe thead th {\n",
       "        text-align: right;\n",
       "    }\n",
       "</style>\n",
       "<table border=\"1\" class=\"dataframe\">\n",
       "  <thead>\n",
       "    <tr style=\"text-align: right;\">\n",
       "      <th>Warehouse</th>\n",
       "      <th>Whse_A</th>\n",
       "      <th>Whse_C</th>\n",
       "      <th>Whse_J</th>\n",
       "      <th>Whse_S</th>\n",
       "    </tr>\n",
       "    <tr>\n",
       "      <th>Date</th>\n",
       "      <th></th>\n",
       "      <th></th>\n",
       "      <th></th>\n",
       "      <th></th>\n",
       "    </tr>\n",
       "  </thead>\n",
       "  <tbody>\n",
       "    <tr>\n",
       "      <th>2012-01-01</th>\n",
       "      <td>1919617.0</td>\n",
       "      <td>4234664.0</td>\n",
       "      <td>51323929.0</td>\n",
       "      <td>16620625.0</td>\n",
       "    </tr>\n",
       "    <tr>\n",
       "      <th>2012-02-01</th>\n",
       "      <td>2534811.0</td>\n",
       "      <td>10966946.0</td>\n",
       "      <td>56651205.0</td>\n",
       "      <td>16318862.0</td>\n",
       "    </tr>\n",
       "    <tr>\n",
       "      <th>2012-03-01</th>\n",
       "      <td>2323694.0</td>\n",
       "      <td>11296947.0</td>\n",
       "      <td>54044436.0</td>\n",
       "      <td>17859473.0</td>\n",
       "    </tr>\n",
       "    <tr>\n",
       "      <th>2012-04-01</th>\n",
       "      <td>1912717.0</td>\n",
       "      <td>7022400.0</td>\n",
       "      <td>49577646.0</td>\n",
       "      <td>15779726.0</td>\n",
       "    </tr>\n",
       "    <tr>\n",
       "      <th>2012-05-01</th>\n",
       "      <td>2638848.0</td>\n",
       "      <td>8203107.0</td>\n",
       "      <td>51135141.0</td>\n",
       "      <td>23966191.0</td>\n",
       "    </tr>\n",
       "    <tr>\n",
       "      <th>2012-06-01</th>\n",
       "      <td>2471301.0</td>\n",
       "      <td>8680937.0</td>\n",
       "      <td>53006078.0</td>\n",
       "      <td>19018297.0</td>\n",
       "    </tr>\n",
       "    <tr>\n",
       "      <th>2012-07-01</th>\n",
       "      <td>2437207.0</td>\n",
       "      <td>10815331.0</td>\n",
       "      <td>51664335.0</td>\n",
       "      <td>21839496.0</td>\n",
       "    </tr>\n",
       "    <tr>\n",
       "      <th>2012-08-01</th>\n",
       "      <td>2629323.0</td>\n",
       "      <td>9510199.0</td>\n",
       "      <td>47156208.0</td>\n",
       "      <td>15437809.0</td>\n",
       "    </tr>\n",
       "    <tr>\n",
       "      <th>2012-09-01</th>\n",
       "      <td>2221520.0</td>\n",
       "      <td>4733871.0</td>\n",
       "      <td>42940715.0</td>\n",
       "      <td>11573051.0</td>\n",
       "    </tr>\n",
       "    <tr>\n",
       "      <th>2012-10-01</th>\n",
       "      <td>2448175.0</td>\n",
       "      <td>6695061.0</td>\n",
       "      <td>53902256.0</td>\n",
       "      <td>19421817.0</td>\n",
       "    </tr>\n",
       "  </tbody>\n",
       "</table>\n",
       "</div>"
      ],
      "text/plain": [
       "Warehouse      Whse_A      Whse_C      Whse_J      Whse_S\n",
       "Date                                                     \n",
       "2012-01-01  1919617.0   4234664.0  51323929.0  16620625.0\n",
       "2012-02-01  2534811.0  10966946.0  56651205.0  16318862.0\n",
       "2012-03-01  2323694.0  11296947.0  54044436.0  17859473.0\n",
       "2012-04-01  1912717.0   7022400.0  49577646.0  15779726.0\n",
       "2012-05-01  2638848.0   8203107.0  51135141.0  23966191.0\n",
       "2012-06-01  2471301.0   8680937.0  53006078.0  19018297.0\n",
       "2012-07-01  2437207.0  10815331.0  51664335.0  21839496.0\n",
       "2012-08-01  2629323.0   9510199.0  47156208.0  15437809.0\n",
       "2012-09-01  2221520.0   4733871.0  42940715.0  11573051.0\n",
       "2012-10-01  2448175.0   6695061.0  53902256.0  19421817.0"
      ]
     },
     "execution_count": 20,
     "metadata": {},
     "output_type": "execute_result"
    }
   ],
   "source": [
    "y_2 = df5.resample('MS').sum() # Resampling the data on monthly basis \n",
    "y_2.index.freq = \"MS\" # Setting datetime frequency to Month\n",
    "y_2.head(10)"
   ]
  },
  {
   "cell_type": "code",
   "execution_count": 21,
   "metadata": {
    "colab": {
     "base_uri": "https://localhost:8080/",
     "height": 235
    },
    "colab_type": "code",
    "id": "Ch6Qf9qE9WnG",
    "outputId": "110ed3d1-81b1-4067-d9cf-1355ece97f6e"
   },
   "outputs": [
    {
     "data": {
      "text/html": [
       "<div>\n",
       "<style scoped>\n",
       "    .dataframe tbody tr th:only-of-type {\n",
       "        vertical-align: middle;\n",
       "    }\n",
       "\n",
       "    .dataframe tbody tr th {\n",
       "        vertical-align: top;\n",
       "    }\n",
       "\n",
       "    .dataframe thead th {\n",
       "        text-align: right;\n",
       "    }\n",
       "</style>\n",
       "<table border=\"1\" class=\"dataframe\">\n",
       "  <thead>\n",
       "    <tr style=\"text-align: right;\">\n",
       "      <th></th>\n",
       "      <th>Whse_J</th>\n",
       "    </tr>\n",
       "    <tr>\n",
       "      <th>Date</th>\n",
       "      <th></th>\n",
       "    </tr>\n",
       "  </thead>\n",
       "  <tbody>\n",
       "    <tr>\n",
       "      <th>2012-01-01</th>\n",
       "      <td>51323929.0</td>\n",
       "    </tr>\n",
       "    <tr>\n",
       "      <th>2012-02-01</th>\n",
       "      <td>56651205.0</td>\n",
       "    </tr>\n",
       "    <tr>\n",
       "      <th>2012-03-01</th>\n",
       "      <td>54044436.0</td>\n",
       "    </tr>\n",
       "    <tr>\n",
       "      <th>2012-04-01</th>\n",
       "      <td>49577646.0</td>\n",
       "    </tr>\n",
       "    <tr>\n",
       "      <th>2012-05-01</th>\n",
       "      <td>51135141.0</td>\n",
       "    </tr>\n",
       "  </tbody>\n",
       "</table>\n",
       "</div>"
      ],
      "text/plain": [
       "                Whse_J\n",
       "Date                  \n",
       "2012-01-01  51323929.0\n",
       "2012-02-01  56651205.0\n",
       "2012-03-01  54044436.0\n",
       "2012-04-01  49577646.0\n",
       "2012-05-01  51135141.0"
      ]
     },
     "execution_count": 21,
     "metadata": {},
     "output_type": "execute_result"
    }
   ],
   "source": [
    "df_J = pd.DataFrame(y_2[\"Whse_J\"])\n",
    "df_J.head()"
   ]
  },
  {
   "cell_type": "code",
   "execution_count": 22,
   "metadata": {
    "colab": {},
    "colab_type": "code",
    "id": "WC6RFT5j930r"
   },
   "outputs": [],
   "source": [
    "y_J = df_J['Whse_J'].resample('M').mean()"
   ]
  },
  {
   "cell_type": "code",
   "execution_count": 23,
   "metadata": {
    "colab": {
     "base_uri": "https://localhost:8080/",
     "height": 345
    },
    "colab_type": "code",
    "id": "AlT6yYoalfMv",
    "outputId": "af0de44f-3431-41f6-904e-a1c7a017c60c"
   },
   "outputs": [
    {
     "data": {
      "image/png": "[encoded data removed]",
      "text/plain": [
       "<Figure size 864x360 with 1 Axes>"
      ]
     },
     "metadata": {
      "needs_background": "light"
     },
     "output_type": "display_data"
    }
   ],
   "source": [
    "y.plot(figsize=(12,5))\n",
    "#y_019.plot(figsize=(12,5))\n",
    "#y_J.plot(figsize=(12,5))\n",
    "plt.show()"
   ]
  },
  {
   "cell_type": "code",
   "execution_count": 24,
   "metadata": {
    "colab": {
     "base_uri": "https://localhost:8080/",
     "height": 585
    },
    "colab_type": "code",
    "id": "5uujOOM_lj52",
    "outputId": "eb7c1674-1bf2-41e1-8e2d-52b8c047b81f"
   },
   "outputs": [
    {
     "data": {
      "image/png": "[encoded data removed]",
      "text/plain": [
       "<Figure size 1296x576 with 4 Axes>"
      ]
     },
     "metadata": {
      "needs_background": "light"
     },
     "output_type": "display_data"
    }
   ],
   "source": [
    "#Time Series Decomposition. \n",
    "from pylab import rcParams\n",
    "import statsmodels.api as sm\n",
    "rcParams['figure.figsize'] = 18, 8\n",
    "decomposition = sm.tsa.seasonal_decompose(y, model='additive')\n",
    "#decomposition = sm.tsa.seasonal_decompose(y_019, model='additive')\n",
    "#decomposition = sm.tsa.seasonal_decompose(y_J, model='additive')\n",
    "fig = decomposition.plot()\n",
    "plt.show()"
   ]
  },
  {
   "cell_type": "markdown",
   "metadata": {
    "colab_type": "text",
    "id": "k4AtUcEbCavc"
   },
   "source": [
    "**ARIMA**\n",
    "\n",
    "Theory on ARIMA\n",
    "\n",
    "An ARIMA model is characterized by 3 terms: p, d, q where these three parameters account for seasonality (p), trend (d), and noise in data (q):\n",
    "\n",
    " - p is the order of the AR term (number of lags of Y to be used as predictors). If it snowed for the last wee, it is likely it will snow tomorrow.\n",
    " - q is the order of the MA term (moving average).\n",
    " - d is the number of differencing required to make the time series stationary. if already stationary d=0.\n",
    " \n",
    "But when dealing with SEASONALITY, it is best to incorporate it as 's'. ARIMA(p,d,q)(P,D,Q)s. Where 'pdq' are non seasonal params and 's' is the perdiocity of the time series. 4:quarter, 12:yearly etc."
   ]
  },
  {
   "cell_type": "markdown",
   "metadata": {
    "colab_type": "text",
    "id": "YKqNScMmC2FC"
   },
   "source": [
    "If a time series, has seasonal patterns, then you need to add seasonal terms and it becomes SARIMA, short for ‘Seasonal ARIMA’.\n",
    "\n"
   ]
  },
  {
   "cell_type": "code",
   "execution_count": 25,
   "metadata": {
    "colab": {
     "base_uri": "https://localhost:8080/",
     "height": 107
    },
    "colab_type": "code",
    "id": "tLLYsbQx6KoK",
    "outputId": "857bdbef-6cce-45a4-9bae-651fbbde641e"
   },
   "outputs": [
    {
     "name": "stdout",
     "output_type": "stream",
     "text": [
      "Examples of parameter combinations for Seasonal ARIMA...\n",
      "SARIMAX: (0, 0, 1) x (0, 0, 1, 12)\n",
      "SARIMAX: (0, 0, 1) x (0, 1, 0, 12)\n",
      "SARIMAX: (0, 1, 0) x (0, 1, 1, 12)\n",
      "SARIMAX: (0, 1, 0) x (1, 0, 0, 12)\n"
     ]
    }
   ],
   "source": [
    "import itertools\n",
    "p = d = q = range(0, 2)\n",
    "pdq = list(itertools.product(p, d, q))\n",
    "seasonal_pdq = [(x[0], x[1], x[2], 12) for x in list(itertools.product(p, d, q))]\n",
    "print('Examples of parameter combinations for Seasonal ARIMA...')\n",
    "print('SARIMAX: {} x {}'.format(pdq[1], seasonal_pdq[1]))\n",
    "print('SARIMAX: {} x {}'.format(pdq[1], seasonal_pdq[2]))\n",
    "print('SARIMAX: {} x {}'.format(pdq[2], seasonal_pdq[3]))\n",
    "print('SARIMAX: {} x {}'.format(pdq[2], seasonal_pdq[4]))"
   ]
  },
  {
   "cell_type": "code",
   "execution_count": 26,
   "metadata": {
    "colab": {
     "base_uri": "https://localhost:8080/",
     "height": 1000
    },
    "colab_type": "code",
    "id": "JvAlCLKu6Qu-",
    "outputId": "c0e8f659-ccbd-42ea-de77-88a698973841"
   },
   "outputs": [
    {
     "name": "stdout",
     "output_type": "stream",
     "text": [
      "SARIMA(0, 0, 0)x(0, 0, 0, 12)12 - AIC:1931.5634282849132\n",
      "SARIMA(0, 0, 0)x(0, 0, 1, 12)12 - AIC:1512.4361148419841\n",
      "SARIMA(0, 0, 0)x(0, 1, 0, 12)12 - AIC:1339.6881722069236\n",
      "SARIMA(0, 0, 0)x(0, 1, 1, 12)12 - AIC:3174.1498643792493\n",
      "SARIMA(0, 0, 0)x(1, 0, 0, 12)12 - AIC:1367.342362003335\n",
      "SARIMA(0, 0, 0)x(1, 0, 1, 12)12 - AIC:1341.6788736718381\n",
      "SARIMA(0, 0, 0)x(1, 1, 0, 12)12 - AIC:1023.8874178559138\n",
      "SARIMA(0, 0, 0)x(1, 1, 1, 12)12 - AIC:3058.430343555963\n",
      "SARIMA(0, 0, 1)x(0, 0, 0, 12)12 - AIC:1861.466719033701\n",
      "SARIMA(0, 0, 1)x(0, 0, 1, 12)12 - AIC:1470.6819924566387\n",
      "SARIMA(0, 0, 1)x(0, 1, 0, 12)12 - AIC:1306.1619297383031\n",
      "SARIMA(0, 0, 1)x(0, 1, 1, 12)12 - AIC:3087.4706165102652\n",
      "SARIMA(0, 0, 1)x(1, 0, 0, 12)12 - AIC:1528.580793665934\n",
      "SARIMA(0, 0, 1)x(1, 0, 1, 12)12 - AIC:1467.1406721760206\n",
      "SARIMA(0, 0, 1)x(1, 1, 0, 12)12 - AIC:1021.2043416532866\n",
      "SARIMA(0, 0, 1)x(1, 1, 1, 12)12 - AIC:3003.2173105720794\n",
      "SARIMA(0, 1, 0)x(0, 0, 0, 12)12 - AIC:1649.072500057203\n",
      "SARIMA(0, 1, 0)x(0, 0, 1, 12)12 - AIC:1308.6564731944538\n",
      "SARIMA(0, 1, 0)x(0, 1, 0, 12)12 - AIC:1318.8227943323695\n",
      "SARIMA(0, 1, 0)x(0, 1, 1, 12)12 - AIC:3124.560802297317\n",
      "SARIMA(0, 1, 0)x(1, 0, 0, 12)12 - AIC:1331.9051811691913\n",
      "SARIMA(0, 1, 0)x(1, 0, 1, 12)12 - AIC:1314.1377523201832\n",
      "SARIMA(0, 1, 0)x(1, 1, 0, 12)12 - AIC:999.0869922190467\n",
      "SARIMA(0, 1, 0)x(1, 1, 1, 12)12 - AIC:3164.6744327735178\n",
      "SARIMA(0, 1, 1)x(0, 0, 0, 12)12 - AIC:1590.416354377025\n",
      "SARIMA(0, 1, 1)x(0, 0, 1, 12)12 - AIC:1258.0650336081892\n",
      "SARIMA(0, 1, 1)x(0, 1, 0, 12)12 - AIC:1272.6382796441933\n",
      "SARIMA(0, 1, 1)x(0, 1, 1, 12)12 - AIC:3032.1499998248505\n",
      "SARIMA(0, 1, 1)x(1, 0, 0, 12)12 - AIC:1311.6454426685495\n",
      "SARIMA(0, 1, 1)x(1, 0, 1, 12)12 - AIC:1257.0162636390598\n",
      "SARIMA(0, 1, 1)x(1, 1, 0, 12)12 - AIC:989.5378960548437\n",
      "SARIMA(0, 1, 1)x(1, 1, 1, 12)12 - AIC:3075.15000352564\n",
      "SARIMA(1, 0, 0)x(0, 0, 0, 12)12 - AIC:1680.6372972363718\n",
      "SARIMA(1, 0, 0)x(0, 0, 1, 12)12 - AIC:1336.8688211840717\n",
      "SARIMA(1, 0, 0)x(0, 1, 0, 12)12 - AIC:1332.4629301429907\n",
      "SARIMA(1, 0, 0)x(0, 1, 1, 12)12 - AIC:3174.0774516903607"
     ]
    },
    {
     "name": "stderr",
     "output_type": "stream",
     "text": [
      "C:\\Users\\hhhwa\\AppData\\Roaming\\Python\\Python37\\site-packages\\statsmodels\\base\\model.py:568: ConvergenceWarning: Maximum Likelihood optimization failed to converge. Check mle_retvals\n",
      "  \"Check mle_retvals\", ConvergenceWarning)\n"
     ]
    },
    {
     "name": "stdout",
     "output_type": "stream",
     "text": [
      "\n",
      "SARIMA(1, 0, 0)x(1, 0, 0, 12)12 - AIC:1334.2098982718953\n",
      "SARIMA(1, 0, 0)x(1, 0, 1, 12)12 - AIC:1335.4277790813292\n",
      "SARIMA(1, 0, 0)x(1, 1, 0, 12)12 - AIC:990.3503626070177\n",
      "SARIMA(1, 0, 0)x(1, 1, 1, 12)12 - AIC:3087.2872838128164\n",
      "SARIMA(1, 0, 1)x(0, 0, 0, 12)12 - AIC:1620.888931088402\n",
      "SARIMA(1, 0, 1)x(0, 0, 1, 12)12 - AIC:1286.8410694830986\n",
      "SARIMA(1, 0, 1)x(0, 1, 0, 12)12 - AIC:1301.995461846814\n",
      "SARIMA(1, 0, 1)x(0, 1, 1, 12)12 - AIC:3079.6804368355\n",
      "SARIMA(1, 0, 1)x(1, 0, 0, 12)12 - AIC:1340.195423016816\n",
      "SARIMA(1, 0, 1)x(1, 0, 1, 12)12 - AIC:1287.6166884880702\n",
      "SARIMA(1, 0, 1)x(1, 1, 0, 12)12 - AIC:987.6749622026335\n",
      "SARIMA(1, 0, 1)x(1, 1, 1, 12)12 - AIC:2995.4271308973143\n",
      "SARIMA(1, 1, 0)x(0, 0, 0, 12)12 - AIC:1635.793447266306\n",
      "SARIMA(1, 1, 0)x(0, 0, 1, 12)12 - AIC:1296.6206320673564\n",
      "SARIMA(1, 1, 0)x(0, 1, 0, 12)12 - AIC:1308.560757293221\n",
      "SARIMA(1, 1, 0)x(0, 1, 1, 12)12 - AIC:3129.760497100287\n",
      "SARIMA(1, 1, 0)x(1, 0, 0, 12)12 - AIC:1293.9024186762404\n",
      "SARIMA(1, 1, 0)x(1, 0, 1, 12)12 - AIC:1295.3773101490729\n",
      "SARIMA(1, 1, 0)x(1, 1, 0, 12)12 - AIC:962.6934411211339\n",
      "SARIMA(1, 1, 0)x(1, 1, 1, 12)12 - AIC:3174.002925155645\n",
      "SARIMA(1, 1, 1)x(0, 0, 0, 12)12 - AIC:1592.0152090295248\n",
      "SARIMA(1, 1, 1)x(0, 0, 1, 12)12 - AIC:1259.4478695195462\n",
      "SARIMA(1, 1, 1)x(0, 1, 0, 12)12 - AIC:1273.9863682321538\n",
      "SARIMA(1, 1, 1)x(0, 1, 1, 12)12 - AIC:3034.126217133586\n",
      "SARIMA(1, 1, 1)x(1, 0, 0, 12)12 - AIC:1284.8179356475134\n",
      "SARIMA(1, 1, 1)x(1, 0, 1, 12)12 - AIC:1258.767164541061\n",
      "SARIMA(1, 1, 1)x(1, 1, 0, 12)12 - AIC:960.4017832654692\n",
      "SARIMA(1, 1, 1)x(1, 1, 1, 12)12 - AIC:3077.1262208343746\n"
     ]
    }
   ],
   "source": [
    "#The code tests the given params using sarimax and outputs the AIC scores.\n",
    "\n",
    "for param in pdq:\n",
    "    for param_seasonal in seasonal_pdq:\n",
    "        try:\n",
    "            mod = sm.tsa.statespace.SARIMAX(y,\n",
    "                                            #y_019,\n",
    "                                            #y_J,\n",
    "                                            order=param,\n",
    "                                            seasonal_order=param_seasonal,\n",
    "                                            enforce_stationarity=False,\n",
    "                                            enforce_invertibility=False)\n",
    "\n",
    "            results = mod.fit()\n",
    "\n",
    "            print('SARIMA{}x{}12 - AIC:{}'.format(param, param_seasonal, results.aic))\n",
    "        except:\n",
    "            continue"
   ]
  },
  {
   "cell_type": "code",
   "execution_count": 27,
   "metadata": {
    "colab": {
     "base_uri": "https://localhost:8080/",
     "height": 305
    },
    "colab_type": "code",
    "id": "9w9SOYqo6TjE",
    "outputId": "f81bf9d1-7b88-48c0-8f17-2a6623b3632b"
   },
   "outputs": [
    {
     "name": "stdout",
     "output_type": "stream",
     "text": [
      "==============================================================================\n",
      "                 coef    std err          z      P>|z|      [0.025      0.975]\n",
      "------------------------------------------------------------------------------\n",
      "ar.L1         -0.2900      0.373     -0.778      0.437      -1.021       0.441\n",
      "ma.L1         -0.4086      0.329     -1.242      0.214      -1.054       0.236\n",
      "ar.S.L12      -0.4405      0.205     -2.148      0.032      -0.843      -0.039\n",
      "sigma2      1.019e+11   8.33e-13   1.22e+23      0.000    1.02e+11    1.02e+11\n",
      "==============================================================================\n"
     ]
    }
   ],
   "source": [
    "from statsmodels.tsa.statespace.sarimax import SARIMAX\n",
    "mod = sm.tsa.statespace.SARIMAX(y,\n",
    "                                #y_019,\n",
    "                                #y_J,\n",
    "                                order=(1, 1, 1),\n",
    "                                seasonal_order=(1, 1, 0, 12),\n",
    "                                enforce_stationarity=False,\n",
    "                                enforce_invertibility=False)\n",
    "results = mod.fit()\n",
    "print(results.summary().tables[1])"
   ]
  },
  {
   "cell_type": "code",
   "execution_count": 28,
   "metadata": {
    "colab": {
     "base_uri": "https://localhost:8080/",
     "height": 585
    },
    "colab_type": "code",
    "id": "9h8JKsgcq7PD",
    "outputId": "51a7fe58-779c-4e4f-cb7e-5ee50f7f0c4a"
   },
   "outputs": [
    {
     "data": {
      "image/png": "[encoded data removed]",
      "text/plain": [
       "<Figure size 1296x576 with 4 Axes>"
      ]
     },
     "metadata": {
      "needs_background": "light"
     },
     "output_type": "display_data"
    }
   ],
   "source": [
    "results.plot_diagnostics()\n",
    "plt.tight_layout()\n",
    "plt.show()"
   ]
  },
  {
   "cell_type": "markdown",
   "metadata": {
    "colab_type": "text",
    "id": "lWrefo1m6oh5"
   },
   "source": [
    "Model Validation"
   ]
  },
  {
   "cell_type": "code",
   "execution_count": 29,
   "metadata": {
    "colab": {
     "base_uri": "https://localhost:8080/",
     "height": 465
    },
    "colab_type": "code",
    "id": "BndVKC096h1o",
    "outputId": "459d7fad-edcf-43f7-83ef-76687a0c1f32"
   },
   "outputs": [
    {
     "data": {
      "image/png": "[encoded data removed]",
      "text/plain": [
       "<Figure size 1008x504 with 1 Axes>"
      ]
     },
     "metadata": {
      "needs_background": "light"
     },
     "output_type": "display_data"
    }
   ],
   "source": [
    "pred = results.get_prediction(start=pd.to_datetime('2016-01-01'), dynamic=False) #false is when using the entire history.\n",
    "#pred = results.get_prediction(start=pd.to_datetime('2016-01-31'), dynamic=False)  ## when \n",
    "\n",
    "#Confidence interval.\n",
    "pred_ci = pred.conf_int()\n",
    "\n",
    "#Plotting real and forecasted values.\n",
    "ax = y['2013':].plot(label='observed')\n",
    "# ax = y_019['2013':].plot(label='observed')\n",
    "# ax = y_J['2013':].plot(label='observed')\n",
    "pred.predicted_mean.plot(ax=ax, label='One-step ahead Forecast', alpha=.7, figsize=(14, 7))\n",
    "ax.fill_between(pred_ci.index,\n",
    "                pred_ci.iloc[:, 0],\n",
    "                pred_ci.iloc[:, 1], color='blue', alpha=.2)\n",
    "ax.set_xlabel('Date')\n",
    "ax.set_ylabel('Order_Demand')\n",
    "plt.legend()\n",
    "plt.show()"
   ]
  },
  {
   "cell_type": "markdown",
   "metadata": {
    "colab_type": "text",
    "id": "ts2mPc936vUR"
   },
   "source": [
    "Forecast Accuracy"
   ]
  },
  {
   "cell_type": "code",
   "execution_count": 30,
   "metadata": {
    "colab": {
     "base_uri": "https://localhost:8080/",
     "height": 53
    },
    "colab_type": "code",
    "id": "JyNwFOUd6vue",
    "outputId": "1fbc3f94-86e9-423a-b238-261f39fc1aa5"
   },
   "outputs": [
    {
     "name": "stdout",
     "output_type": "stream",
     "text": [
      "MSE 59069099388.08\n",
      "RMSE: 243041.35\n"
     ]
    }
   ],
   "source": [
    "#Getting the mean squared error (average error of forecasts).\n",
    "y_forecasted = pred.predicted_mean\n",
    "y_truth = y['2016-01-31':]\n",
    "# y_truth = y_019['2016-01-31':]\n",
    "# y_truth = y_J['2016-01-31':]\n",
    "mse = ((y_forecasted - y_truth) ** 2).mean()\n",
    "print('MSE {}'.format(round(mse, 2)))\n",
    "print('RMSE: {}'.format(round(np.sqrt(mse), 2)))"
   ]
  },
  {
   "cell_type": "code",
   "execution_count": 31,
   "metadata": {
    "colab": {
     "base_uri": "https://localhost:8080/",
     "height": 453
    },
    "colab_type": "code",
    "id": "2xXTfWf462El",
    "outputId": "8d6d16ee-0e48-4074-f916-911f5a58fdc3"
   },
   "outputs": [
    {
     "data": {
      "image/png": "[encoded data removed]",
      "text/plain": [
       "<Figure size 1008x504 with 1 Axes>"
      ]
     },
     "metadata": {
      "needs_background": "light"
     },
     "output_type": "display_data"
    }
   ],
   "source": [
    "#The time can be changed using steps.\n",
    "pred_uc = results.get_forecast(steps=50)\n",
    "pred_ci = pred_uc.conf_int()\n",
    "ax = y.plot(label='observed', figsize=(14, 7))\n",
    "# ax = y_019.plot(label='observed', figsize=(14, 7))\n",
    "# ax = y_J.plot(label='observed', figsize=(14, 7))\n",
    "pred_uc.predicted_mean.plot(ax=ax, label='Forecast')\n",
    "ax.fill_between(pred_ci.index,\n",
    "                pred_ci.iloc[:, 0],\n",
    "                pred_ci.iloc[:, 1], color='k', alpha=.25)\n",
    "ax.set_xlabel('Date')\n",
    "ax.set_ylabel('Order_Demand')\n",
    "plt.legend()\n",
    "plt.show()"
   ]
  },
  {
   "cell_type": "markdown",
   "metadata": {
    "colab_type": "text",
    "id": "pp4HTuEYVt6X"
   },
   "source": [
    "**LSTM**"
   ]
  },
  {
   "cell_type": "code",
   "execution_count": 32,
   "metadata": {
    "colab": {},
    "colab_type": "code",
    "id": "O2wQtv4CjPUL"
   },
   "outputs": [],
   "source": [
    "from keras.layers import Dense,Dropout,SimpleRNN,LSTM"
   ]
  },
  {
   "cell_type": "markdown",
   "metadata": {},
   "source": [
    "Considering only Order_Demand"
   ]
  },
  {
   "cell_type": "code",
   "execution_count": 33,
   "metadata": {
    "scrolled": true
   },
   "outputs": [],
   "source": [
    "df = df.groupby('Date')['Order_Demand'].sum().reset_index()\n",
    "df = df.set_index('Date')\n",
    "df.index\n",
    "y = df['Order_Demand'].resample('MS').mean()"
   ]
  },
  {
   "cell_type": "code",
   "execution_count": 34,
   "metadata": {},
   "outputs": [
    {
     "data": {
      "text/html": [
       "<div>\n",
       "<style scoped>\n",
       "    .dataframe tbody tr th:only-of-type {\n",
       "        vertical-align: middle;\n",
       "    }\n",
       "\n",
       "    .dataframe tbody tr th {\n",
       "        vertical-align: top;\n",
       "    }\n",
       "\n",
       "    .dataframe thead th {\n",
       "        text-align: right;\n",
       "    }\n",
       "</style>\n",
       "<table border=\"1\" class=\"dataframe\">\n",
       "  <thead>\n",
       "    <tr style=\"text-align: right;\">\n",
       "      <th></th>\n",
       "      <th>Order_Demand</th>\n",
       "    </tr>\n",
       "    <tr>\n",
       "      <th>Date</th>\n",
       "      <th></th>\n",
       "    </tr>\n",
       "  </thead>\n",
       "  <tbody>\n",
       "    <tr>\n",
       "      <th>2012-01-01</th>\n",
       "      <td>2</td>\n",
       "    </tr>\n",
       "    <tr>\n",
       "      <th>2012-01-02</th>\n",
       "      <td>680277</td>\n",
       "    </tr>\n",
       "    <tr>\n",
       "      <th>2012-01-03</th>\n",
       "      <td>1645257</td>\n",
       "    </tr>\n",
       "    <tr>\n",
       "      <th>2012-01-04</th>\n",
       "      <td>1295861</td>\n",
       "    </tr>\n",
       "    <tr>\n",
       "      <th>2012-01-05</th>\n",
       "      <td>8941774</td>\n",
       "    </tr>\n",
       "    <tr>\n",
       "      <th>...</th>\n",
       "      <td>...</td>\n",
       "    </tr>\n",
       "    <tr>\n",
       "      <th>2016-12-26</th>\n",
       "      <td>3527970</td>\n",
       "    </tr>\n",
       "    <tr>\n",
       "      <th>2016-12-27</th>\n",
       "      <td>1647426</td>\n",
       "    </tr>\n",
       "    <tr>\n",
       "      <th>2016-12-28</th>\n",
       "      <td>2740040</td>\n",
       "    </tr>\n",
       "    <tr>\n",
       "      <th>2016-12-29</th>\n",
       "      <td>494117</td>\n",
       "    </tr>\n",
       "    <tr>\n",
       "      <th>2016-12-30</th>\n",
       "      <td>702950</td>\n",
       "    </tr>\n",
       "  </tbody>\n",
       "</table>\n",
       "<p>1681 rows × 1 columns</p>\n",
       "</div>"
      ],
      "text/plain": [
       "            Order_Demand\n",
       "Date                    \n",
       "2012-01-01             2\n",
       "2012-01-02        680277\n",
       "2012-01-03       1645257\n",
       "2012-01-04       1295861\n",
       "2012-01-05       8941774\n",
       "...                  ...\n",
       "2016-12-26       3527970\n",
       "2016-12-27       1647426\n",
       "2016-12-28       2740040\n",
       "2016-12-29        494117\n",
       "2016-12-30        702950\n",
       "\n",
       "[1681 rows x 1 columns]"
      ]
     },
     "execution_count": 34,
     "metadata": {},
     "output_type": "execute_result"
    }
   ],
   "source": [
    "df"
   ]
  },
  {
   "cell_type": "markdown",
   "metadata": {},
   "source": [
    "Classified by Categoty"
   ]
  },
  {
   "cell_type": "code",
   "execution_count": 35,
   "metadata": {
    "colab": {
     "base_uri": "https://localhost:8080/",
     "height": 251
    },
    "colab_type": "code",
    "collapsed": true,
    "id": "2Y6h9nl-N5ul",
    "outputId": "9f6dcee1-74bb-489f-b36e-3e4ea31717db"
   },
   "outputs": [
    {
     "ename": "KeyError",
     "evalue": "'Product_Category'",
     "output_type": "error",
     "traceback": [
      "\u001b[1;31m---------------------------------------------------------------------------\u001b[0m",
      "\u001b[1;31mKeyError\u001b[0m                                  Traceback (most recent call last)",
      "\u001b[1;32m<ipython-input-35-9562f356b06d>\u001b[0m in \u001b[0;36m<module>\u001b[1;34m\u001b[0m\n\u001b[1;32m----> 1\u001b[1;33m \u001b[0mdf2\u001b[0m \u001b[1;33m=\u001b[0m \u001b[0mpd\u001b[0m\u001b[1;33m.\u001b[0m\u001b[0mpivot_table\u001b[0m\u001b[1;33m(\u001b[0m\u001b[0mdf\u001b[0m\u001b[1;33m,\u001b[0m\u001b[0mindex\u001b[0m\u001b[1;33m=\u001b[0m\u001b[1;33m[\u001b[0m\u001b[1;34m\"Date\"\u001b[0m\u001b[1;33m]\u001b[0m\u001b[1;33m,\u001b[0m\u001b[0mvalues\u001b[0m\u001b[1;33m=\u001b[0m\u001b[1;33m[\u001b[0m\u001b[1;34m\"Order_Demand\"\u001b[0m\u001b[1;33m]\u001b[0m\u001b[1;33m,\u001b[0m\u001b[0mcolumns\u001b[0m\u001b[1;33m=\u001b[0m\u001b[1;33m[\u001b[0m\u001b[1;34m\"Product_Category\"\u001b[0m\u001b[1;33m]\u001b[0m\u001b[1;33m,\u001b[0m\u001b[0maggfunc\u001b[0m\u001b[1;33m=\u001b[0m\u001b[0mnp\u001b[0m\u001b[1;33m.\u001b[0m\u001b[0msum\u001b[0m\u001b[1;33m)\u001b[0m\u001b[1;33m\u001b[0m\u001b[1;33m\u001b[0m\u001b[0m\n\u001b[0m\u001b[0;32m      2\u001b[0m \u001b[0mdf2\u001b[0m\u001b[1;33m.\u001b[0m\u001b[0mcolumns\u001b[0m \u001b[1;33m=\u001b[0m \u001b[0mdf2\u001b[0m\u001b[1;33m.\u001b[0m\u001b[0mcolumns\u001b[0m\u001b[1;33m.\u001b[0m\u001b[0mdroplevel\u001b[0m\u001b[1;33m(\u001b[0m\u001b[1;36m0\u001b[0m\u001b[1;33m)\u001b[0m\u001b[1;33m\u001b[0m\u001b[1;33m\u001b[0m\u001b[0m\n\u001b[0;32m      3\u001b[0m \u001b[0mdf2\u001b[0m\u001b[1;33m[\u001b[0m\u001b[1;34m\"Category_019\"\u001b[0m\u001b[1;33m]\u001b[0m\u001b[1;33m.\u001b[0m\u001b[0mdropna\u001b[0m\u001b[1;33m(\u001b[0m\u001b[1;33m)\u001b[0m\u001b[1;33m\u001b[0m\u001b[1;33m\u001b[0m\u001b[0m\n",
      "\u001b[1;32m~\\AppData\\Roaming\\Python\\Python37\\site-packages\\pandas\\core\\reshape\\pivot.py\u001b[0m in \u001b[0;36mpivot_table\u001b[1;34m(data, values, index, columns, aggfunc, fill_value, margins, dropna, margins_name, observed)\u001b[0m\n\u001b[0;32m     98\u001b[0m         \u001b[0mvalues\u001b[0m \u001b[1;33m=\u001b[0m \u001b[0mlist\u001b[0m\u001b[1;33m(\u001b[0m\u001b[0mvalues\u001b[0m\u001b[1;33m)\u001b[0m\u001b[1;33m\u001b[0m\u001b[1;33m\u001b[0m\u001b[0m\n\u001b[0;32m     99\u001b[0m \u001b[1;33m\u001b[0m\u001b[0m\n\u001b[1;32m--> 100\u001b[1;33m     \u001b[0mgrouped\u001b[0m \u001b[1;33m=\u001b[0m \u001b[0mdata\u001b[0m\u001b[1;33m.\u001b[0m\u001b[0mgroupby\u001b[0m\u001b[1;33m(\u001b[0m\u001b[0mkeys\u001b[0m\u001b[1;33m,\u001b[0m \u001b[0mobserved\u001b[0m\u001b[1;33m=\u001b[0m\u001b[0mobserved\u001b[0m\u001b[1;33m)\u001b[0m\u001b[1;33m\u001b[0m\u001b[1;33m\u001b[0m\u001b[0m\n\u001b[0m\u001b[0;32m    101\u001b[0m     \u001b[0magged\u001b[0m \u001b[1;33m=\u001b[0m \u001b[0mgrouped\u001b[0m\u001b[1;33m.\u001b[0m\u001b[0magg\u001b[0m\u001b[1;33m(\u001b[0m\u001b[0maggfunc\u001b[0m\u001b[1;33m)\u001b[0m\u001b[1;33m\u001b[0m\u001b[1;33m\u001b[0m\u001b[0m\n\u001b[0;32m    102\u001b[0m     \u001b[1;32mif\u001b[0m \u001b[0mdropna\u001b[0m \u001b[1;32mand\u001b[0m \u001b[0misinstance\u001b[0m\u001b[1;33m(\u001b[0m\u001b[0magged\u001b[0m\u001b[1;33m,\u001b[0m \u001b[0mABCDataFrame\u001b[0m\u001b[1;33m)\u001b[0m \u001b[1;32mand\u001b[0m \u001b[0mlen\u001b[0m\u001b[1;33m(\u001b[0m\u001b[0magged\u001b[0m\u001b[1;33m.\u001b[0m\u001b[0mcolumns\u001b[0m\u001b[1;33m)\u001b[0m\u001b[1;33m:\u001b[0m\u001b[1;33m\u001b[0m\u001b[1;33m\u001b[0m\u001b[0m\n",
      "\u001b[1;32m~\\AppData\\Roaming\\Python\\Python37\\site-packages\\pandas\\core\\frame.py\u001b[0m in \u001b[0;36mgroupby\u001b[1;34m(self, by, axis, level, as_index, sort, group_keys, squeeze, observed)\u001b[0m\n\u001b[0;32m   5808\u001b[0m             \u001b[0mgroup_keys\u001b[0m\u001b[1;33m=\u001b[0m\u001b[0mgroup_keys\u001b[0m\u001b[1;33m,\u001b[0m\u001b[1;33m\u001b[0m\u001b[1;33m\u001b[0m\u001b[0m\n\u001b[0;32m   5809\u001b[0m             \u001b[0msqueeze\u001b[0m\u001b[1;33m=\u001b[0m\u001b[0msqueeze\u001b[0m\u001b[1;33m,\u001b[0m\u001b[1;33m\u001b[0m\u001b[1;33m\u001b[0m\u001b[0m\n\u001b[1;32m-> 5810\u001b[1;33m             \u001b[0mobserved\u001b[0m\u001b[1;33m=\u001b[0m\u001b[0mobserved\u001b[0m\u001b[1;33m,\u001b[0m\u001b[1;33m\u001b[0m\u001b[1;33m\u001b[0m\u001b[0m\n\u001b[0m\u001b[0;32m   5811\u001b[0m         )\n\u001b[0;32m   5812\u001b[0m \u001b[1;33m\u001b[0m\u001b[0m\n",
      "\u001b[1;32m~\\AppData\\Roaming\\Python\\Python37\\site-packages\\pandas\\core\\groupby\\groupby.py\u001b[0m in \u001b[0;36m__init__\u001b[1;34m(self, obj, keys, axis, level, grouper, exclusions, selection, as_index, sort, group_keys, squeeze, observed, mutated)\u001b[0m\n\u001b[0;32m    407\u001b[0m                 \u001b[0msort\u001b[0m\u001b[1;33m=\u001b[0m\u001b[0msort\u001b[0m\u001b[1;33m,\u001b[0m\u001b[1;33m\u001b[0m\u001b[1;33m\u001b[0m\u001b[0m\n\u001b[0;32m    408\u001b[0m                 \u001b[0mobserved\u001b[0m\u001b[1;33m=\u001b[0m\u001b[0mobserved\u001b[0m\u001b[1;33m,\u001b[0m\u001b[1;33m\u001b[0m\u001b[1;33m\u001b[0m\u001b[0m\n\u001b[1;32m--> 409\u001b[1;33m                 \u001b[0mmutated\u001b[0m\u001b[1;33m=\u001b[0m\u001b[0mself\u001b[0m\u001b[1;33m.\u001b[0m\u001b[0mmutated\u001b[0m\u001b[1;33m,\u001b[0m\u001b[1;33m\u001b[0m\u001b[1;33m\u001b[0m\u001b[0m\n\u001b[0m\u001b[0;32m    410\u001b[0m             )\n\u001b[0;32m    411\u001b[0m \u001b[1;33m\u001b[0m\u001b[0m\n",
      "\u001b[1;32m~\\AppData\\Roaming\\Python\\Python37\\site-packages\\pandas\\core\\groupby\\grouper.py\u001b[0m in \u001b[0;36mget_grouper\u001b[1;34m(obj, key, axis, level, sort, observed, mutated, validate)\u001b[0m\n\u001b[0;32m    596\u001b[0m                 \u001b[0min_axis\u001b[0m\u001b[1;33m,\u001b[0m \u001b[0mname\u001b[0m\u001b[1;33m,\u001b[0m \u001b[0mlevel\u001b[0m\u001b[1;33m,\u001b[0m \u001b[0mgpr\u001b[0m \u001b[1;33m=\u001b[0m \u001b[1;32mFalse\u001b[0m\u001b[1;33m,\u001b[0m \u001b[1;32mNone\u001b[0m\u001b[1;33m,\u001b[0m \u001b[0mgpr\u001b[0m\u001b[1;33m,\u001b[0m \u001b[1;32mNone\u001b[0m\u001b[1;33m\u001b[0m\u001b[1;33m\u001b[0m\u001b[0m\n\u001b[0;32m    597\u001b[0m             \u001b[1;32melse\u001b[0m\u001b[1;33m:\u001b[0m\u001b[1;33m\u001b[0m\u001b[1;33m\u001b[0m\u001b[0m\n\u001b[1;32m--> 598\u001b[1;33m                 \u001b[1;32mraise\u001b[0m \u001b[0mKeyError\u001b[0m\u001b[1;33m(\u001b[0m\u001b[0mgpr\u001b[0m\u001b[1;33m)\u001b[0m\u001b[1;33m\u001b[0m\u001b[1;33m\u001b[0m\u001b[0m\n\u001b[0m\u001b[0;32m    599\u001b[0m         \u001b[1;32melif\u001b[0m \u001b[0misinstance\u001b[0m\u001b[1;33m(\u001b[0m\u001b[0mgpr\u001b[0m\u001b[1;33m,\u001b[0m \u001b[0mGrouper\u001b[0m\u001b[1;33m)\u001b[0m \u001b[1;32mand\u001b[0m \u001b[0mgpr\u001b[0m\u001b[1;33m.\u001b[0m\u001b[0mkey\u001b[0m \u001b[1;32mis\u001b[0m \u001b[1;32mnot\u001b[0m \u001b[1;32mNone\u001b[0m\u001b[1;33m:\u001b[0m\u001b[1;33m\u001b[0m\u001b[1;33m\u001b[0m\u001b[0m\n\u001b[0;32m    600\u001b[0m             \u001b[1;31m# Add key to exclusions\u001b[0m\u001b[1;33m\u001b[0m\u001b[1;33m\u001b[0m\u001b[1;33m\u001b[0m\u001b[0m\n",
      "\u001b[1;31mKeyError\u001b[0m: 'Product_Category'"
     ]
    }
   ],
   "source": [
    "#df2 = pd.pivot_table(df,index=[\"Date\"],values=[\"Order_Demand\"],columns=[\"Product_Category\"],aggfunc=np.sum)\n",
    "#df2.columns = df2.columns.droplevel(0)\n",
    "#df2[\"Category_019\"].dropna()"
   ]
  },
  {
   "cell_type": "code",
   "execution_count": null,
   "metadata": {
    "colab": {},
    "colab_type": "code",
    "id": "aNvCo3f0OZeU"
   },
   "outputs": [],
   "source": [
    "#df_19 = df2[\"Category_019\"].dropna()"
   ]
  },
  {
   "cell_type": "code",
   "execution_count": null,
   "metadata": {
    "colab": {},
    "colab_type": "code",
    "id": "s55EGD83PF-P"
   },
   "outputs": [],
   "source": [
    "#df_19 = pd.DataFrame(df_19)"
   ]
  },
  {
   "cell_type": "markdown",
   "metadata": {},
   "source": [
    "Classified by Warehouse"
   ]
  },
  {
   "cell_type": "code",
   "execution_count": null,
   "metadata": {},
   "outputs": [],
   "source": [
    "#df_ = pd.pivot_table(df,index=[\"Date\"],values=[\"Order_Demand\"],columns=[\"Warehouse\"],aggfunc=np.sum)\n",
    "#df_.columns = df_.columns.droplevel(0)\n",
    "#df_[\"Whse_J\"].dropna()"
   ]
  },
  {
   "cell_type": "code",
   "execution_count": null,
   "metadata": {},
   "outputs": [],
   "source": [
    "#df_J = df_[\"Whse_J\"].dropna()"
   ]
  },
  {
   "cell_type": "code",
   "execution_count": null,
   "metadata": {},
   "outputs": [],
   "source": [
    "#df_J = pd.DataFrame(df_J)"
   ]
  },
  {
   "cell_type": "markdown",
   "metadata": {
    "colab_type": "text",
    "id": "rbYopO_d2Nxd"
   },
   "source": [
    "Transform the data into a time series problem"
   ]
  },
  {
   "cell_type": "code",
   "execution_count": 36,
   "metadata": {
    "colab": {},
    "colab_type": "code",
    "id": "WDMFAGwAiUSC"
   },
   "outputs": [],
   "source": [
    "def create_dataset(signal_data, look_back=1):\n",
    "    dataX, dataY = [], []\n",
    "    for i in range(len(signal_data)-look_back):\n",
    "        dataX.append(signal_data[i:(i+look_back), 0])\n",
    "        dataY.append(signal_data[i + look_back, 0])\n",
    "    return np.array(dataX), np.array(dataY)"
   ]
  },
  {
   "cell_type": "code",
   "execution_count": 37,
   "metadata": {
    "colab": {},
    "colab_type": "code",
    "id": "TxLDI0Yx68oP"
   },
   "outputs": [],
   "source": [
    "from sklearn.preprocessing import MinMaxScaler\n",
    "\n",
    "look_back = 30\n",
    "\n",
    "# Data Preprocessing\n",
    "scaler = MinMaxScaler(feature_range=(0, 1))\n",
    "signal_data = scaler.fit_transform(df)\n",
    "#signal_data = scaler.fit_transform(df_19)\n",
    "#signal_data = scaler.fit_transform(df_J)\n",
    "\n",
    "# Data split\n",
    "train = signal_data[0:800]\n",
    "val = signal_data[800:1200]\n",
    "test = signal_data[1200:]\n",
    "\n",
    "# Dataset\n",
    "x_train, y_train = create_dataset(train, look_back)\n",
    "x_val, y_val = create_dataset(val, look_back)\n",
    "x_test, y_test = create_dataset(test, look_back)"
   ]
  },
  {
   "cell_type": "code",
   "execution_count": 38,
   "metadata": {
    "colab": {},
    "colab_type": "code",
    "id": "O8Vy7BOLisVp"
   },
   "outputs": [],
   "source": [
    "x_train = np.reshape(x_train, (x_train.shape[0], x_train.shape[1], 1))\n",
    "x_val = np.reshape(x_val, (x_val.shape[0], x_val.shape[1], 1))\n",
    "x_test = np.reshape(x_test, (x_test.shape[0], x_test.shape[1], 1))"
   ]
  },
  {
   "cell_type": "code",
   "execution_count": 39,
   "metadata": {
    "colab": {},
    "colab_type": "code",
    "id": "Jvjp-IH4_6FL"
   },
   "outputs": [],
   "source": [
    "ts = 30\n",
    "#ts = 50 ## when y_019"
   ]
  },
  {
   "cell_type": "code",
   "execution_count": 40,
   "metadata": {
    "colab": {
     "base_uri": "https://localhost:8080/",
     "height": 1000
    },
    "colab_type": "code",
    "id": "9j_xQfJaiils",
    "outputId": "fbb9b642-9e56-4bd4-ddf6-a41d12e24344"
   },
   "outputs": [
    {
     "name": "stdout",
     "output_type": "stream",
     "text": [
      "WARNING:tensorflow:From C:\\Users\\hhhwa\\anaconda3\\lib\\site-packages\\keras\\backend\\tensorflow_backend.py:422: The name tf.global_variables is deprecated. Please use tf.compat.v1.global_variables instead.\n",
      "\n",
      "Train on 770 samples, validate on 370 samples\n",
      "Epoch 1/200\n",
      "770/770 [==============================] - 1s 771us/step - loss: 0.0546 - val_loss: 0.0520\n",
      "Epoch 2/200\n",
      "770/770 [==============================] - 0s 378us/step - loss: 0.0431 - val_loss: 0.0486\n",
      "Epoch 3/200\n",
      "770/770 [==============================] - 0s 378us/step - loss: 0.0427 - val_loss: 0.0497\n",
      "Epoch 4/200\n",
      "770/770 [==============================] - 0s 382us/step - loss: 0.0413 - val_loss: 0.0484\n",
      "Epoch 5/200\n",
      "770/770 [==============================] - 0s 383us/step - loss: 0.0407 - val_loss: 0.0485\n",
      "Epoch 6/200\n",
      "770/770 [==============================] - 0s 378us/step - loss: 0.0408 - val_loss: 0.0497\n",
      "Epoch 7/200\n",
      "770/770 [==============================] - 0s 382us/step - loss: 0.0403 - val_loss: 0.0489\n",
      "Epoch 8/200\n",
      "770/770 [==============================] - 0s 387us/step - loss: 0.0402 - val_loss: 0.0487\n",
      "Epoch 9/200\n",
      "770/770 [==============================] - 0s 378us/step - loss: 0.0391 - val_loss: 0.0511\n",
      "Epoch 10/200\n",
      "770/770 [==============================] - 0s 380us/step - loss: 0.0409 - val_loss: 0.0491\n",
      "Epoch 11/200\n",
      "770/770 [==============================] - 0s 381us/step - loss: 0.0401 - val_loss: 0.0484\n",
      "Epoch 12/200\n",
      "770/770 [==============================] - 0s 389us/step - loss: 0.0392 - val_loss: 0.0481\n",
      "Epoch 13/200\n",
      "770/770 [==============================] - 0s 377us/step - loss: 0.0396 - val_loss: 0.0486\n",
      "Epoch 14/200\n",
      "770/770 [==============================] - 0s 383us/step - loss: 0.0383 - val_loss: 0.0458\n",
      "Epoch 15/200\n",
      "770/770 [==============================] - 0s 381us/step - loss: 0.0383 - val_loss: 0.0460\n",
      "Epoch 16/200\n",
      "770/770 [==============================] - 0s 380us/step - loss: 0.0381 - val_loss: 0.0486\n",
      "Epoch 17/200\n",
      "770/770 [==============================] - 0s 380us/step - loss: 0.0385 - val_loss: 0.0466\n",
      "Epoch 18/200\n",
      "770/770 [==============================] - 0s 384us/step - loss: 0.0384 - val_loss: 0.0458\n",
      "Epoch 19/200\n",
      "770/770 [==============================] - 0s 385us/step - loss: 0.0390 - val_loss: 0.0446\n",
      "Epoch 20/200\n",
      "770/770 [==============================] - 0s 385us/step - loss: 0.0399 - val_loss: 0.0449\n",
      "Epoch 21/200\n",
      "770/770 [==============================] - 0s 390us/step - loss: 0.0389 - val_loss: 0.0482\n",
      "Epoch 22/200\n",
      "770/770 [==============================] - 0s 390us/step - loss: 0.0373 - val_loss: 0.0455\n",
      "Epoch 23/200\n",
      "770/770 [==============================] - 0s 386us/step - loss: 0.0369 - val_loss: 0.0457\n",
      "Epoch 24/200\n",
      "770/770 [==============================] - 0s 390us/step - loss: 0.0368 - val_loss: 0.0434\n",
      "Epoch 25/200\n",
      "770/770 [==============================] - 0s 389us/step - loss: 0.0365 - val_loss: 0.0439\n",
      "Epoch 26/200\n",
      "770/770 [==============================] - 0s 400us/step - loss: 0.0345 - val_loss: 0.0399\n",
      "Epoch 27/200\n",
      "770/770 [==============================] - 0s 412us/step - loss: 0.0351 - val_loss: 0.0392\n",
      "Epoch 28/200\n",
      "770/770 [==============================] - 0s 416us/step - loss: 0.0350 - val_loss: 0.0398\n",
      "Epoch 29/200\n",
      "770/770 [==============================] - 0s 410us/step - loss: 0.0346 - val_loss: 0.0399\n",
      "Epoch 30/200\n",
      "770/770 [==============================] - 0s 430us/step - loss: 0.0347 - val_loss: 0.0408\n",
      "Epoch 31/200\n",
      "770/770 [==============================] - 0s 497us/step - loss: 0.0330 - val_loss: 0.0401\n",
      "Epoch 32/200\n",
      "770/770 [==============================] - 0s 460us/step - loss: 0.0334 - val_loss: 0.0400\n",
      "Epoch 33/200\n",
      "770/770 [==============================] - 0s 451us/step - loss: 0.0332 - val_loss: 0.0406\n",
      "Epoch 34/200\n",
      "770/770 [==============================] - 0s 414us/step - loss: 0.0334 - val_loss: 0.0389\n",
      "Epoch 35/200\n",
      "770/770 [==============================] - 0s 447us/step - loss: 0.0324 - val_loss: 0.0386\n",
      "Epoch 36/200\n",
      "770/770 [==============================] - 0s 424us/step - loss: 0.0320 - val_loss: 0.0380\n",
      "Epoch 37/200\n",
      "770/770 [==============================] - 0s 436us/step - loss: 0.0314 - val_loss: 0.0370\n",
      "Epoch 38/200\n",
      "770/770 [==============================] - 0s 412us/step - loss: 0.0311 - val_loss: 0.0386\n",
      "Epoch 39/200\n",
      "770/770 [==============================] - 0s 473us/step - loss: 0.0313 - val_loss: 0.0356\n",
      "Epoch 40/200\n",
      "770/770 [==============================] - 0s 421us/step - loss: 0.0309 - val_loss: 0.0348\n",
      "Epoch 41/200\n",
      "770/770 [==============================] - 0s 404us/step - loss: 0.0308 - val_loss: 0.0351\n",
      "Epoch 42/200\n",
      "770/770 [==============================] - 0s 403us/step - loss: 0.0293 - val_loss: 0.0352\n",
      "Epoch 43/200\n",
      "770/770 [==============================] - 0s 417us/step - loss: 0.0304 - val_loss: 0.0347\n",
      "Epoch 44/200\n",
      "770/770 [==============================] - 0s 409us/step - loss: 0.0303 - val_loss: 0.0334\n",
      "Epoch 45/200\n",
      "770/770 [==============================] - 0s 409us/step - loss: 0.0283 - val_loss: 0.0342\n",
      "Epoch 46/200\n",
      "770/770 [==============================] - 0s 421us/step - loss: 0.0284 - val_loss: 0.0343\n",
      "Epoch 47/200\n",
      "770/770 [==============================] - 0s 422us/step - loss: 0.0276 - val_loss: 0.0340\n",
      "Epoch 48/200\n",
      "770/770 [==============================] - 0s 424us/step - loss: 0.0272 - val_loss: 0.0319\n",
      "Epoch 49/200\n",
      "770/770 [==============================] - 0s 414us/step - loss: 0.0277 - val_loss: 0.0323\n",
      "Epoch 50/200\n",
      "770/770 [==============================] - 0s 430us/step - loss: 0.0298 - val_loss: 0.0347\n",
      "Epoch 51/200\n",
      "770/770 [==============================] - 0s 417us/step - loss: 0.0270 - val_loss: 0.0330\n",
      "Epoch 52/200\n",
      "770/770 [==============================] - 0s 439us/step - loss: 0.0284 - val_loss: 0.0339\n",
      "Epoch 53/200\n",
      "770/770 [==============================] - 0s 430us/step - loss: 0.0266 - val_loss: 0.0317\n",
      "Epoch 54/200\n",
      "770/770 [==============================] - 0s 424us/step - loss: 0.0272 - val_loss: 0.0331\n",
      "Epoch 55/200\n",
      "770/770 [==============================] - 0s 421us/step - loss: 0.0297 - val_loss: 0.0319\n",
      "Epoch 56/200\n",
      "770/770 [==============================] - 0s 475us/step - loss: 0.0267 - val_loss: 0.0319\n",
      "Epoch 57/200\n",
      "770/770 [==============================] - 0s 437us/step - loss: 0.0273 - val_loss: 0.0309\n",
      "Epoch 58/200\n",
      "770/770 [==============================] - 0s 426us/step - loss: 0.0264 - val_loss: 0.0326\n",
      "Epoch 59/200\n",
      "770/770 [==============================] - 0s 425us/step - loss: 0.0257 - val_loss: 0.0328\n",
      "Epoch 60/200\n",
      "770/770 [==============================] - 0s 419us/step - loss: 0.0262 - val_loss: 0.0320\n",
      "Epoch 61/200\n",
      "770/770 [==============================] - 0s 517us/step - loss: 0.0264 - val_loss: 0.0331\n",
      "Epoch 62/200\n",
      "770/770 [==============================] - 0s 600us/step - loss: 0.0268 - val_loss: 0.0306\n",
      "Epoch 63/200\n",
      "770/770 [==============================] - 0s 424us/step - loss: 0.0260 - val_loss: 0.0329\n",
      "Epoch 64/200\n",
      "770/770 [==============================] - 0s 417us/step - loss: 0.0257 - val_loss: 0.0302\n",
      "Epoch 65/200\n",
      "770/770 [==============================] - 0s 418us/step - loss: 0.0257 - val_loss: 0.0335\n",
      "Epoch 66/200\n",
      "770/770 [==============================] - 0s 412us/step - loss: 0.0265 - val_loss: 0.0323\n",
      "Epoch 67/200\n",
      "770/770 [==============================] - 0s 420us/step - loss: 0.0247 - val_loss: 0.0317\n",
      "Epoch 68/200\n",
      "770/770 [==============================] - 0s 430us/step - loss: 0.0266 - val_loss: 0.0301\n",
      "Epoch 69/200\n",
      "770/770 [==============================] - 0s 416us/step - loss: 0.0275 - val_loss: 0.0319\n",
      "Epoch 70/200\n",
      "770/770 [==============================] - 0s 420us/step - loss: 0.0261 - val_loss: 0.0306\n",
      "Epoch 71/200\n",
      "770/770 [==============================] - 0s 417us/step - loss: 0.0257 - val_loss: 0.0302\n",
      "Epoch 72/200\n",
      "770/770 [==============================] - 0s 416us/step - loss: 0.0253 - val_loss: 0.0294\n",
      "Epoch 73/200\n",
      "770/770 [==============================] - 0s 421us/step - loss: 0.0252 - val_loss: 0.0300\n",
      "Epoch 74/200\n",
      "770/770 [==============================] - 0s 420us/step - loss: 0.0270 - val_loss: 0.0341\n",
      "Epoch 75/200\n",
      "770/770 [==============================] - 0s 474us/step - loss: 0.0257 - val_loss: 0.0293\n",
      "Epoch 76/200\n",
      "770/770 [==============================] - 0s 416us/step - loss: 0.0249 - val_loss: 0.0311\n",
      "Epoch 77/200\n",
      "770/770 [==============================] - 0s 417us/step - loss: 0.0253 - val_loss: 0.0304\n",
      "Epoch 78/200\n",
      "770/770 [==============================] - 0s 418us/step - loss: 0.0243 - val_loss: 0.0298\n",
      "Epoch 79/200\n",
      "770/770 [==============================] - 0s 424us/step - loss: 0.0245 - val_loss: 0.0299\n",
      "Epoch 80/200\n",
      "770/770 [==============================] - 0s 430us/step - loss: 0.0238 - val_loss: 0.0305\n",
      "Epoch 81/200\n",
      "770/770 [==============================] - 0s 418us/step - loss: 0.0244 - val_loss: 0.0288\n",
      "Epoch 82/200\n",
      "770/770 [==============================] - 0s 421us/step - loss: 0.0247 - val_loss: 0.0299\n",
      "Epoch 83/200\n",
      "770/770 [==============================] - 0s 417us/step - loss: 0.0242 - val_loss: 0.0283\n",
      "Epoch 84/200\n",
      "770/770 [==============================] - 0s 421us/step - loss: 0.0241 - val_loss: 0.0283\n",
      "Epoch 85/200\n",
      "770/770 [==============================] - 0s 420us/step - loss: 0.0240 - val_loss: 0.0300\n",
      "Epoch 86/200\n",
      "770/770 [==============================] - 0s 421us/step - loss: 0.0250 - val_loss: 0.0280\n",
      "Epoch 87/200\n",
      "770/770 [==============================] - 0s 438us/step - loss: 0.0251 - val_loss: 0.0294\n",
      "Epoch 88/200\n",
      "770/770 [==============================] - 0s 416us/step - loss: 0.0246 - val_loss: 0.0289\n",
      "Epoch 89/200\n",
      "770/770 [==============================] - 0s 421us/step - loss: 0.0249 - val_loss: 0.0282\n",
      "Epoch 90/200\n",
      "770/770 [==============================] - 0s 422us/step - loss: 0.0250 - val_loss: 0.0304\n",
      "Epoch 91/200\n",
      "770/770 [==============================] - 0s 418us/step - loss: 0.0242 - val_loss: 0.0279\n",
      "Epoch 92/200\n",
      "770/770 [==============================] - 0s 426us/step - loss: 0.0247 - val_loss: 0.0280\n",
      "Epoch 93/200\n",
      "770/770 [==============================] - 0s 424us/step - loss: 0.0235 - val_loss: 0.0288\n",
      "Epoch 94/200\n",
      "770/770 [==============================] - 0s 416us/step - loss: 0.0237 - val_loss: 0.0290\n",
      "Epoch 95/200\n",
      "770/770 [==============================] - 0s 417us/step - loss: 0.0244 - val_loss: 0.0283\n",
      "Epoch 96/200\n",
      "770/770 [==============================] - 0s 422us/step - loss: 0.0246 - val_loss: 0.0297\n",
      "Epoch 97/200\n",
      "770/770 [==============================] - 0s 421us/step - loss: 0.0235 - val_loss: 0.0286\n",
      "Epoch 98/200\n",
      "770/770 [==============================] - 0s 421us/step - loss: 0.0239 - val_loss: 0.0295\n",
      "Epoch 99/200\n",
      "770/770 [==============================] - 0s 424us/step - loss: 0.0240 - val_loss: 0.0282\n",
      "Epoch 100/200\n",
      "770/770 [==============================] - 0s 424us/step - loss: 0.0244 - val_loss: 0.0274\n",
      "Epoch 101/200\n",
      "770/770 [==============================] - 0s 421us/step - loss: 0.0238 - val_loss: 0.0293\n",
      "Epoch 102/200\n",
      "770/770 [==============================] - 0s 422us/step - loss: 0.0245 - val_loss: 0.0284\n",
      "Epoch 103/200\n",
      "770/770 [==============================] - 0s 427us/step - loss: 0.0234 - val_loss: 0.0275\n",
      "Epoch 104/200\n",
      "770/770 [==============================] - 0s 427us/step - loss: 0.0240 - val_loss: 0.0285\n",
      "Epoch 105/200\n",
      "770/770 [==============================] - 0s 438us/step - loss: 0.0237 - val_loss: 0.0285\n",
      "Epoch 106/200\n",
      "770/770 [==============================] - 0s 430us/step - loss: 0.0255 - val_loss: 0.0300\n",
      "Epoch 107/200\n",
      "770/770 [==============================] - 0s 427us/step - loss: 0.0238 - val_loss: 0.0284\n",
      "Epoch 108/200\n",
      "770/770 [==============================] - 0s 425us/step - loss: 0.0237 - val_loss: 0.0275\n",
      "Epoch 109/200\n",
      "770/770 [==============================] - 0s 427us/step - loss: 0.0239 - val_loss: 0.0284\n",
      "Epoch 110/200\n",
      "770/770 [==============================] - 0s 425us/step - loss: 0.0240 - val_loss: 0.0282\n",
      "Epoch 111/200\n",
      "770/770 [==============================] - 0s 430us/step - loss: 0.0265 - val_loss: 0.0302\n",
      "Epoch 112/200\n",
      "770/770 [==============================] - 0s 426us/step - loss: 0.0240 - val_loss: 0.0267\n",
      "Epoch 113/200\n",
      "770/770 [==============================] - 0s 425us/step - loss: 0.0240 - val_loss: 0.0278\n",
      "Epoch 114/200\n",
      "770/770 [==============================] - 0s 422us/step - loss: 0.0230 - val_loss: 0.0270\n",
      "Epoch 115/200\n",
      "770/770 [==============================] - 0s 424us/step - loss: 0.0230 - val_loss: 0.0287\n",
      "Epoch 116/200\n",
      "770/770 [==============================] - 0s 427us/step - loss: 0.0240 - val_loss: 0.0289\n",
      "Epoch 117/200\n",
      "770/770 [==============================] - 0s 424us/step - loss: 0.0239 - val_loss: 0.0278\n",
      "Epoch 118/200\n",
      "770/770 [==============================] - 0s 430us/step - loss: 0.0239 - val_loss: 0.0273\n",
      "Epoch 119/200\n",
      "770/770 [==============================] - 0s 434us/step - loss: 0.0234 - val_loss: 0.0274\n",
      "Epoch 120/200\n",
      "770/770 [==============================] - 0s 428us/step - loss: 0.0238 - val_loss: 0.0285\n",
      "Epoch 121/200\n",
      "770/770 [==============================] - 0s 427us/step - loss: 0.0238 - val_loss: 0.0272\n",
      "Epoch 122/200\n",
      "770/770 [==============================] - 0s 425us/step - loss: 0.0232 - val_loss: 0.0277\n",
      "Epoch 123/200\n",
      "770/770 [==============================] - 0s 433us/step - loss: 0.0234 - val_loss: 0.0275\n",
      "Epoch 124/200\n",
      "770/770 [==============================] - 0s 440us/step - loss: 0.0230 - val_loss: 0.0274\n",
      "Epoch 125/200\n",
      "770/770 [==============================] - 0s 433us/step - loss: 0.0232 - val_loss: 0.0273\n",
      "Epoch 126/200\n",
      "770/770 [==============================] - 0s 429us/step - loss: 0.0232 - val_loss: 0.0275\n",
      "Epoch 127/200\n",
      "770/770 [==============================] - 0s 430us/step - loss: 0.0236 - val_loss: 0.0272\n",
      "Epoch 128/200\n",
      "770/770 [==============================] - 0s 435us/step - loss: 0.0231 - val_loss: 0.0271\n",
      "Epoch 129/200\n",
      "770/770 [==============================] - 0s 447us/step - loss: 0.0250 - val_loss: 0.0273\n",
      "Epoch 130/200\n",
      "770/770 [==============================] - 0s 440us/step - loss: 0.0226 - val_loss: 0.0277\n",
      "Epoch 131/200\n",
      "770/770 [==============================] - 0s 433us/step - loss: 0.0233 - val_loss: 0.0268\n",
      "Epoch 132/200\n",
      "770/770 [==============================] - 0s 452us/step - loss: 0.0237 - val_loss: 0.0280\n",
      "Epoch 133/200\n",
      "770/770 [==============================] - 0s 427us/step - loss: 0.0232 - val_loss: 0.0264\n",
      "Epoch 134/200\n",
      "770/770 [==============================] - 0s 493us/step - loss: 0.0232 - val_loss: 0.0270\n",
      "Epoch 135/200\n",
      "770/770 [==============================] - 0s 434us/step - loss: 0.0236 - val_loss: 0.0274\n",
      "Epoch 136/200\n",
      "770/770 [==============================] - 0s 436us/step - loss: 0.0230 - val_loss: 0.0274\n",
      "Epoch 137/200\n",
      "770/770 [==============================] - 0s 430us/step - loss: 0.0231 - val_loss: 0.0273\n",
      "Epoch 138/200\n",
      "770/770 [==============================] - 0s 432us/step - loss: 0.0232 - val_loss: 0.0258\n",
      "Epoch 139/200\n",
      "770/770 [==============================] - 0s 507us/step - loss: 0.0223 - val_loss: 0.0276\n",
      "Epoch 140/200\n",
      "770/770 [==============================] - 0s 439us/step - loss: 0.0229 - val_loss: 0.0278\n",
      "Epoch 141/200\n",
      "770/770 [==============================] - 0s 439us/step - loss: 0.0235 - val_loss: 0.0268\n",
      "Epoch 142/200\n",
      "770/770 [==============================] - 0s 440us/step - loss: 0.0227 - val_loss: 0.0261\n",
      "Epoch 143/200\n",
      "770/770 [==============================] - 0s 435us/step - loss: 0.0243 - val_loss: 0.0282\n",
      "Epoch 144/200\n",
      "770/770 [==============================] - 0s 464us/step - loss: 0.0229 - val_loss: 0.0263\n",
      "Epoch 145/200\n",
      "770/770 [==============================] - 0s 518us/step - loss: 0.0225 - val_loss: 0.0276\n",
      "Epoch 146/200\n",
      "770/770 [==============================] - 0s 438us/step - loss: 0.0237 - val_loss: 0.0282\n",
      "Epoch 147/200\n",
      "770/770 [==============================] - 0s 466us/step - loss: 0.0234 - val_loss: 0.0279\n",
      "Epoch 148/200\n",
      "770/770 [==============================] - 0s 453us/step - loss: 0.0227 - val_loss: 0.0262\n",
      "Epoch 149/200\n",
      "770/770 [==============================] - 0s 486us/step - loss: 0.0227 - val_loss: 0.0282\n",
      "Epoch 150/200\n",
      "770/770 [==============================] - 0s 443us/step - loss: 0.0231 - val_loss: 0.0271\n",
      "Epoch 151/200\n",
      "770/770 [==============================] - 0s 443us/step - loss: 0.0231 - val_loss: 0.0268\n",
      "Epoch 152/200\n",
      "770/770 [==============================] - 0s 440us/step - loss: 0.0221 - val_loss: 0.0269\n",
      "Epoch 153/200\n",
      "770/770 [==============================] - 0s 475us/step - loss: 0.0248 - val_loss: 0.0315\n",
      "Epoch 154/200\n",
      "770/770 [==============================] - 0s 446us/step - loss: 0.0232 - val_loss: 0.0266\n",
      "Epoch 155/200\n",
      "770/770 [==============================] - 0s 429us/step - loss: 0.0230 - val_loss: 0.0265\n",
      "Epoch 156/200\n",
      "770/770 [==============================] - 0s 433us/step - loss: 0.0225 - val_loss: 0.0274\n",
      "Epoch 157/200\n",
      "770/770 [==============================] - 0s 430us/step - loss: 0.0224 - val_loss: 0.0273\n",
      "Epoch 158/200\n",
      "770/770 [==============================] - 0s 434us/step - loss: 0.0219 - val_loss: 0.0274\n",
      "Epoch 159/200\n",
      "770/770 [==============================] - 0s 453us/step - loss: 0.0227 - val_loss: 0.0264\n",
      "Epoch 160/200\n",
      "770/770 [==============================] - 0s 430us/step - loss: 0.0225 - val_loss: 0.0264\n",
      "Epoch 161/200\n",
      "770/770 [==============================] - 0s 433us/step - loss: 0.0225 - val_loss: 0.0265\n",
      "Epoch 162/200\n",
      "770/770 [==============================] - 0s 440us/step - loss: 0.0230 - val_loss: 0.0274\n",
      "Epoch 163/200\n",
      "770/770 [==============================] - 0s 433us/step - loss: 0.0221 - val_loss: 0.0266\n",
      "Epoch 164/200\n",
      "770/770 [==============================] - 0s 438us/step - loss: 0.0226 - val_loss: 0.0262\n",
      "Epoch 165/200\n",
      "770/770 [==============================] - 0s 437us/step - loss: 0.0245 - val_loss: 0.0295\n",
      "Epoch 166/200\n",
      "770/770 [==============================] - 0s 440us/step - loss: 0.0233 - val_loss: 0.0255\n",
      "Epoch 167/200\n",
      "770/770 [==============================] - 0s 459us/step - loss: 0.0229 - val_loss: 0.0257\n",
      "Epoch 168/200\n",
      "770/770 [==============================] - 0s 440us/step - loss: 0.0217 - val_loss: 0.0259\n",
      "Epoch 169/200\n",
      "770/770 [==============================] - 0s 460us/step - loss: 0.0222 - val_loss: 0.0268\n",
      "Epoch 170/200\n",
      "770/770 [==============================] - 0s 460us/step - loss: 0.0217 - val_loss: 0.0275\n",
      "Epoch 171/200\n",
      "770/770 [==============================] - 0s 438us/step - loss: 0.0226 - val_loss: 0.0267\n",
      "Epoch 172/200\n",
      "770/770 [==============================] - 0s 431us/step - loss: 0.0219 - val_loss: 0.0291\n",
      "Epoch 173/200\n",
      "770/770 [==============================] - 0s 435us/step - loss: 0.0228 - val_loss: 0.0255\n",
      "Epoch 174/200\n",
      "770/770 [==============================] - 0s 438us/step - loss: 0.0225 - val_loss: 0.0261\n",
      "Epoch 175/200\n",
      "770/770 [==============================] - 0s 435us/step - loss: 0.0223 - val_loss: 0.0267\n",
      "Epoch 176/200\n",
      "770/770 [==============================] - 0s 464us/step - loss: 0.0218 - val_loss: 0.0276\n",
      "Epoch 177/200\n",
      "770/770 [==============================] - 0s 459us/step - loss: 0.0211 - val_loss: 0.0253\n",
      "Epoch 178/200\n",
      "770/770 [==============================] - 0s 440us/step - loss: 0.0235 - val_loss: 0.0267\n",
      "Epoch 179/200\n",
      "770/770 [==============================] - 0s 435us/step - loss: 0.0221 - val_loss: 0.0270\n",
      "Epoch 180/200\n",
      "770/770 [==============================] - 0s 471us/step - loss: 0.0217 - val_loss: 0.0266\n",
      "Epoch 181/200\n",
      "770/770 [==============================] - 0s 519us/step - loss: 0.0219 - val_loss: 0.0253\n",
      "Epoch 182/200\n",
      "770/770 [==============================] - 0s 468us/step - loss: 0.0218 - val_loss: 0.0265\n",
      "Epoch 183/200\n",
      "770/770 [==============================] - 0s 512us/step - loss: 0.0222 - val_loss: 0.0259\n",
      "Epoch 184/200\n",
      "770/770 [==============================] - 0s 468us/step - loss: 0.0213 - val_loss: 0.0264\n",
      "Epoch 185/200\n",
      "770/770 [==============================] - 0s 434us/step - loss: 0.0216 - val_loss: 0.0269\n",
      "Epoch 186/200\n",
      "770/770 [==============================] - 0s 474us/step - loss: 0.0217 - val_loss: 0.0271\n",
      "Epoch 187/200\n",
      "770/770 [==============================] - 0s 478us/step - loss: 0.0223 - val_loss: 0.0269\n",
      "Epoch 188/200\n",
      "770/770 [==============================] - 0s 452us/step - loss: 0.0216 - val_loss: 0.0260\n",
      "Epoch 189/200\n",
      "770/770 [==============================] - 0s 436us/step - loss: 0.0221 - val_loss: 0.0265\n",
      "Epoch 190/200\n",
      "770/770 [==============================] - 0s 483us/step - loss: 0.0214 - val_loss: 0.0263\n",
      "Epoch 191/200\n",
      "770/770 [==============================] - 0s 486us/step - loss: 0.0215 - val_loss: 0.0269\n",
      "Epoch 192/200\n",
      "770/770 [==============================] - 0s 490us/step - loss: 0.0223 - val_loss: 0.0277\n",
      "Epoch 193/200\n",
      "770/770 [==============================] - 0s 500us/step - loss: 0.0213 - val_loss: 0.0262\n",
      "Epoch 194/200\n",
      "770/770 [==============================] - 0s 462us/step - loss: 0.0222 - val_loss: 0.0261\n",
      "Epoch 195/200\n",
      "770/770 [==============================] - 0s 436us/step - loss: 0.0217 - val_loss: 0.0250\n",
      "Epoch 196/200\n",
      "770/770 [==============================] - 0s 491us/step - loss: 0.0215 - val_loss: 0.0270\n",
      "Epoch 197/200\n",
      "770/770 [==============================] - 0s 473us/step - loss: 0.0216 - val_loss: 0.0268\n",
      "Epoch 198/200\n",
      "770/770 [==============================] - 0s 496us/step - loss: 0.0213 - val_loss: 0.0268\n",
      "Epoch 199/200\n",
      "770/770 [==============================] - 0s 466us/step - loss: 0.0217 - val_loss: 0.0255\n",
      "Epoch 200/200\n",
      "770/770 [==============================] - 0s 470us/step - loss: 0.0220 - val_loss: 0.0264\n"
     ]
    }
   ],
   "source": [
    "model = Sequential()\n",
    "model.add(LSTM(64, input_shape=(ts, 1)))\n",
    "model.add(Dropout(0.3))\n",
    "model.add(Dense(1))\n",
    "model.compile(loss='mean_squared_error', optimizer='adam')\n",
    "\n",
    "\n",
    "hist = model.fit(x_train, y_train, epochs=200, batch_size=32, validation_data=(x_val, y_val))"
   ]
  },
  {
   "cell_type": "code",
   "execution_count": 41,
   "metadata": {
    "colab": {
     "base_uri": "https://localhost:8080/",
     "height": 501
    },
    "colab_type": "code",
    "id": "lsytg-Gsjg21",
    "outputId": "a9e62ef8-00ad-482b-f514-8ad2b67121f2"
   },
   "outputs": [
    {
     "data": {
      "image/png": "[encoded data removed]",
      "text/plain": [
       "<Figure size 1296x576 with 1 Axes>"
      ]
     },
     "metadata": {
      "needs_background": "light"
     },
     "output_type": "display_data"
    }
   ],
   "source": [
    "plt.plot(hist.history['loss'])\n",
    "plt.plot(hist.history['val_loss'])\n",
    "plt.ylim(0.0, 0.08)\n",
    "plt.ylabel('loss')\n",
    "plt.xlabel('epoch')\n",
    "plt.legend(['train', 'val'], loc='upper left')\n",
    "plt.show()"
   ]
  },
  {
   "cell_type": "markdown",
   "metadata": {},
   "source": [
    "Performance Evaluation"
   ]
  },
  {
   "cell_type": "code",
   "execution_count": 42,
   "metadata": {
    "colab": {
     "base_uri": "https://localhost:8080/",
     "height": 71
    },
    "colab_type": "code",
    "id": "l_bdGndgjuyv",
    "outputId": "0c42d687-0ef4-4120-f4e3-56dbe3041d35"
   },
   "outputs": [
    {
     "name": "stdout",
     "output_type": "stream",
     "text": [
      "Train Score:  0.02053066540461082\n",
      "Validataion Score:  0.02635792052826366\n",
      "Test Score:  0.033673929368577354\n"
     ]
    }
   ],
   "source": [
    "trainScore = model.evaluate(x_train, y_train, verbose=0)\n",
    "model.reset_states()\n",
    "print('Train Score: ', trainScore)\n",
    "valScore = model.evaluate(x_val, y_val, verbose=0)\n",
    "model.reset_states()\n",
    "print('Validataion Score: ', valScore)\n",
    "testScore = model.evaluate(x_test, y_test, verbose=0)\n",
    "model.reset_states()\n",
    "print('Test Score: ', testScore)"
   ]
  },
  {
   "cell_type": "code",
   "execution_count": 43,
   "metadata": {},
   "outputs": [
    {
     "name": "stdout",
     "output_type": "stream",
     "text": [
      "Train rmse: 0.1432852575555715\n",
      "Val rmse: 0.1623512257464414\n",
      "Test rmse: 0.1835045782947878\n"
     ]
    }
   ],
   "source": [
    "train_pred = model.predict(x_train)\n",
    "val_pred = model.predict(x_val)\n",
    "test_pred = model.predict(x_test)\n",
    "print('Train rmse:', np.sqrt(mean_squared_error(y_train, train_pred)))\n",
    "print('Val rmse:', np.sqrt(mean_squared_error(y_val, val_pred)))\n",
    "print('Test rmse:', np.sqrt(mean_squared_error(y_test, test_pred)))"
   ]
  },
  {
   "cell_type": "code",
   "execution_count": 44,
   "metadata": {
    "colab": {
     "base_uri": "https://localhost:8080/",
     "height": 320
    },
    "colab_type": "code",
    "id": "NaOOxOpyjv_z",
    "outputId": "35b0d405-2331-446c-daa5-96411c48a0b7"
   },
   "outputs": [
    {
     "data": {
      "image/png": "[encoded data removed]",
      "text/plain": [
       "<Figure size 864x360 with 1 Axes>"
      ]
     },
     "metadata": {
      "needs_background": "light"
     },
     "output_type": "display_data"
    }
   ],
   "source": [
    "look_ahead = 200\n",
    "xhat = x_test[0]\n",
    "predictions = np.zeros((look_ahead,1))\n",
    "for i in range(look_ahead):\n",
    "    prediction = model.predict(np.array([xhat]), batch_size=1)\n",
    "    predictions[i] = prediction\n",
    "    xhat = np.vstack([xhat[1:],prediction])\n",
    "    \n",
    "plt.figure(figsize=(12,5))\n",
    "plt.plot(np.arange(look_ahead),predictions,'r',label=\"prediction\")\n",
    "plt.plot(np.arange(look_ahead),y_test[:look_ahead],label=\"test function\")\n",
    "plt.legend()\n",
    "plt.show()"
   ]
  },
  {
   "cell_type": "code",
   "execution_count": null,
   "metadata": {},
   "outputs": [],
   "source": []
  },
  {
   "cell_type": "code",
   "execution_count": null,
   "metadata": {},
   "outputs": [],
   "source": []
  },
  {
   "cell_type": "code",
   "execution_count": null,
   "metadata": {},
   "outputs": [],
   "source": []
  }
 ],
 "metadata": {
  "colab": {
   "name": "demand_forecasting_category019.ipynb",
   "provenance": []
  },
  "kernelspec": {
   "display_name": "Python 3",
   "language": "python",
   "name": "python3"
  },
  "language_info": {
   "codemirror_mode": {
    "name": "ipython",
    "version": 3
   },
   "file_extension": ".py",
   "mimetype": "text/x-python",
   "name": "python",
   "nbconvert_exporter": "python",
   "pygments_lexer": "ipython3",
   "version": "3.7.6"
  }
 },
 "nbformat": 4,
 "nbformat_minor": 1
}
