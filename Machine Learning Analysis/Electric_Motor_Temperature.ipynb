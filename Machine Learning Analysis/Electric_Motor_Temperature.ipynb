{
 "cells": [
  {
   "cell_type": "markdown",
   "metadata": {
    "id": "j8RBnA54pvme"
   },
   "source": [
    "## Electric Motor Temperature - PMSM temperature data\n",
    "\n",
    "PMSM이란 영구 자석 동기 모터를 말한다. 영구 자석에 의해 전기장 자극이 제공되고 사인파 후면 EMF 파형이 있는 AC 동기 모터이다. 모터에는 영구자석 회전자와 고정자의 권선이 있으며, 영구 자석을 통해 제로 속도에서 회전력을 생성할 수 있다는 특징을 가진다. 작동을 위해서는 디지털 방식으로 제어되는 인버터가 필요하다.\n",
    "\n",
    "PMSM은 일반적으로 고성능 고효율 모터 드라이브에 사용된다. 고성능 모터 제어는 모터의 전체 속도 범위에서 부드러운 회전, 제로 속도에서의 최대 토크 제어, 빠른 가속 및 감속이 특징이다.\n",
    "\n",
    "빠른 가속 및 감속을 하기 위해 벡터 제어 기법이 사용되는데, 이는 d축의 제어를 통해 해결할 수 있다.\n",
    "\n",
    "PMSM의 온도를 결정하는 주 요인은 회전자 온도, 고정자 온도, 토크 세 가지로 구성된다.\n",
    "\n",
    "본 데이터 셋의 경우 모터 전체의 온도에 대한 칼럼은 존재하지 않는다.\n",
    "\n",
    "참조 : https://m.blog.naver.com/lagrange0115/221292390459, https://kr.element14.com/motor-control-permanent-magnet-sync-motor-pmsm-technology, http://blog.naver.com/PostView.nhn?blogId=lagrange0115&logNo=220762793906&parentCategoryNo=&categoryNo=&viewDate=&isShowPopularPosts=false&from=postView, https://m.blog.naver.com/lagrange0115/221292390459\n",
    "\n",
    "**데이터는 하나의 csv파일로 구성되어있으며, 컬럼들은 다음으로 이루어져 있다.**\n",
    "***\n",
    "- ambient : 모터가 사용되는 주변 온도\n",
    "- coolant : 냉각제 온도\n",
    "- u_d : 전압 축 u에서의 d축 좌표 값\n",
    "- u_q : 전압 축 u에서의 q축 좌표 값\n",
    "- motor_speed : 모터 스피드\n",
    "- torque : 전류에 의해 작용하는 회전력.\n",
    "- i_d : 전류 축 i에서의 d축 좌표 값\n",
    "- i_q : 전류 축 i에서의 q축 좌표 값\n",
    "- pm : 회전자 온도를 나타내는 영구 자석 표면 온도\n",
    "- stator_yoke : 고정자 요크의 온도\n",
    "- stator_tooth : 고정자 이빨의 온도\n",
    "- stator_winding : 고정자 주위에 감긴 구리선(권선)의 온도\n",
    "- profile_id : 측정 세션의 키 값.\n",
    "- 표본 비율은 2Hz(0.5초당 1행)\n",
    "***\n",
    "\n",
    "데이터 목표\n",
    "\n",
    "* 회전자 온도 pm, 고정자 온도 \"stator_%\", 토크가 모터온도의 주요 인자.\n",
    "* 따라서 pm, stator_%, 토크 사이의 다중공선성이 존재할 경우 pca를 통하여 목적변수를 단일화하여 실험 진행.   \n",
    "\n",
    "* 회전자 온도에 대한 강력한 예측값을 가질 수 있다는 것은 자동차 산업이 재료가 적은 모터를 제조할 수 있도록 돕고 모터를 최대 능력으로 활용할 수 있는 제어 전략을 가능하게 함. \n",
    "\n",
    "* 따라서 정확한 토크 추정치는 모터의 정확하고 적절한 제어로 이어지며 전력 손실을 줄이고 결국 열 축적을 줄임.\n",
    "\n",
    "* d축 : d축은 통상 모터의 자속(flux)이 발생하는 축으로 고정자 U상 권선에서 발생한 자속의 방향으로 선정. 따라서 d축은 벡터 제어에서 기준이 되는 축.\n",
    "\n",
    "* q축 : q축은 d축과 직교를 이루는 축으로 벡터 제어에서 토크를 발생시키는 전류의 축. 따라서 전류 제어를 하는 경우 q축을 제어.\n"
   ]
  },
  {
   "cell_type": "markdown",
   "metadata": {
    "id": "XVr_3TwVqZSp"
   },
   "source": [
    "<< 고정자, 회전자에 대한 설명 >>   \n",
    "\n",
    "![image](https://user-images.githubusercontent.com/56014940/86112898-84786480-bb03-11ea-9683-8e1382da1a51.png)\n",
    "***\n",
    "\n",
    "\n",
    "![KakaoTalk_20200630_181454936](https://user-images.githubusercontent.com/56014940/86112959-98bc6180-bb03-11ea-824e-23907561cd6f.png)   \n",
    "\n",
    "<< 실제 고정자 사진 >>\n",
    "\n",
    "***\n",
    "\n",
    "\n",
    "\n",
    "![KakaoTalk_20200630_181354605](https://user-images.githubusercontent.com/56014940/86112961-99ed8e80-bb03-11ea-801d-15eb7a7703c2.png)   \n",
    "<< 고정자 단면도 >>   \n",
    "***   \n",
    "\n",
    "![image](https://user-images.githubusercontent.com/56014940/86114647-ca362c80-bb05-11ea-8638-d0e4f8ecc2a3.png)   \n",
    "\n",
    "\n",
    "![image](https://user-images.githubusercontent.com/56014940/86114930-2f8a1d80-bb06-11ea-828e-15d7b8f687e3.png)   \n"
   ]
  },
  {
   "cell_type": "code",
   "execution_count": null,
   "metadata": {
    "colab": {
     "base_uri": "https://localhost:8080/",
     "height": 204
    },
    "id": "rH4CwdAYv2Oa",
    "outputId": "d9dc94ea-5a07-43d3-f224-5a14511361ee"
   },
   "outputs": [
    {
     "data": {
      "text/html": [
       "<div>\n",
       "<style scoped>\n",
       "    .dataframe tbody tr th:only-of-type {\n",
       "        vertical-align: middle;\n",
       "    }\n",
       "\n",
       "    .dataframe tbody tr th {\n",
       "        vertical-align: top;\n",
       "    }\n",
       "\n",
       "    .dataframe thead th {\n",
       "        text-align: right;\n",
       "    }\n",
       "</style>\n",
       "<table border=\"1\" class=\"dataframe\">\n",
       "  <thead>\n",
       "    <tr style=\"text-align: right;\">\n",
       "      <th></th>\n",
       "      <th>ambient</th>\n",
       "      <th>coolant</th>\n",
       "      <th>u_d</th>\n",
       "      <th>u_q</th>\n",
       "      <th>motor_speed</th>\n",
       "      <th>torque</th>\n",
       "      <th>i_d</th>\n",
       "      <th>i_q</th>\n",
       "      <th>pm</th>\n",
       "      <th>stator_yoke</th>\n",
       "      <th>stator_tooth</th>\n",
       "      <th>stator_winding</th>\n",
       "      <th>profile_id</th>\n",
       "    </tr>\n",
       "  </thead>\n",
       "  <tbody>\n",
       "    <tr>\n",
       "      <th>0</th>\n",
       "      <td>-0.752143</td>\n",
       "      <td>-1.118446</td>\n",
       "      <td>0.327935</td>\n",
       "      <td>-1.297858</td>\n",
       "      <td>-1.222428</td>\n",
       "      <td>-0.250182</td>\n",
       "      <td>1.029572</td>\n",
       "      <td>-0.245860</td>\n",
       "      <td>-2.522071</td>\n",
       "      <td>-1.831422</td>\n",
       "      <td>-2.066143</td>\n",
       "      <td>-2.018033</td>\n",
       "      <td>4</td>\n",
       "    </tr>\n",
       "    <tr>\n",
       "      <th>1</th>\n",
       "      <td>-0.771263</td>\n",
       "      <td>-1.117021</td>\n",
       "      <td>0.329665</td>\n",
       "      <td>-1.297686</td>\n",
       "      <td>-1.222429</td>\n",
       "      <td>-0.249133</td>\n",
       "      <td>1.029509</td>\n",
       "      <td>-0.245832</td>\n",
       "      <td>-2.522418</td>\n",
       "      <td>-1.830969</td>\n",
       "      <td>-2.064859</td>\n",
       "      <td>-2.017631</td>\n",
       "      <td>4</td>\n",
       "    </tr>\n",
       "    <tr>\n",
       "      <th>2</th>\n",
       "      <td>-0.782892</td>\n",
       "      <td>-1.116681</td>\n",
       "      <td>0.332771</td>\n",
       "      <td>-1.301822</td>\n",
       "      <td>-1.222428</td>\n",
       "      <td>-0.249431</td>\n",
       "      <td>1.029448</td>\n",
       "      <td>-0.245818</td>\n",
       "      <td>-2.522673</td>\n",
       "      <td>-1.830400</td>\n",
       "      <td>-2.064073</td>\n",
       "      <td>-2.017343</td>\n",
       "      <td>4</td>\n",
       "    </tr>\n",
       "    <tr>\n",
       "      <th>3</th>\n",
       "      <td>-0.780935</td>\n",
       "      <td>-1.116764</td>\n",
       "      <td>0.333700</td>\n",
       "      <td>-1.301852</td>\n",
       "      <td>-1.222430</td>\n",
       "      <td>-0.248636</td>\n",
       "      <td>1.032845</td>\n",
       "      <td>-0.246955</td>\n",
       "      <td>-2.521639</td>\n",
       "      <td>-1.830333</td>\n",
       "      <td>-2.063137</td>\n",
       "      <td>-2.017632</td>\n",
       "      <td>4</td>\n",
       "    </tr>\n",
       "    <tr>\n",
       "      <th>4</th>\n",
       "      <td>-0.774043</td>\n",
       "      <td>-1.116775</td>\n",
       "      <td>0.335206</td>\n",
       "      <td>-1.303118</td>\n",
       "      <td>-1.222429</td>\n",
       "      <td>-0.248701</td>\n",
       "      <td>1.031807</td>\n",
       "      <td>-0.246610</td>\n",
       "      <td>-2.521900</td>\n",
       "      <td>-1.830498</td>\n",
       "      <td>-2.062795</td>\n",
       "      <td>-2.018145</td>\n",
       "      <td>4</td>\n",
       "    </tr>\n",
       "  </tbody>\n",
       "</table>\n",
       "</div>"
      ],
      "text/plain": [
       "    ambient   coolant       u_d  ...  stator_tooth  stator_winding  profile_id\n",
       "0 -0.752143 -1.118446  0.327935  ...     -2.066143       -2.018033           4\n",
       "1 -0.771263 -1.117021  0.329665  ...     -2.064859       -2.017631           4\n",
       "2 -0.782892 -1.116681  0.332771  ...     -2.064073       -2.017343           4\n",
       "3 -0.780935 -1.116764  0.333700  ...     -2.063137       -2.017632           4\n",
       "4 -0.774043 -1.116775  0.335206  ...     -2.062795       -2.018145           4\n",
       "\n",
       "[5 rows x 13 columns]"
      ]
     },
     "execution_count": 2,
     "metadata": {
      "tags": []
     },
     "output_type": "execute_result"
    }
   ],
   "source": [
    "import pandas as pd\n",
    "data = pd.read_csv('pmsm_temperature_data.csv')\n",
    "\n",
    "data.head()"
   ]
  },
  {
   "cell_type": "code",
   "execution_count": null,
   "metadata": {
    "colab": {
     "base_uri": "https://localhost:8080/",
     "height": 982
    },
    "id": "9vI-qHl2NWJs",
    "outputId": "4c0f5f18-55bf-4b37-82cc-0f6b50af9d2e"
   },
   "outputs": [
    {
     "name": "stderr",
     "output_type": "stream",
     "text": [
      "/usr/local/lib/python3.6/dist-packages/statsmodels/tools/_testing.py:19: FutureWarning: pandas.util.testing is deprecated. Use the functions in the public API at pandas.testing instead.\n",
      "  import pandas.util.testing as tm\n"
     ]
    },
    {
     "data": {
      "text/plain": [
       "<matplotlib.axes._subplots.AxesSubplot at 0x7fc51d11df60>"
      ]
     },
     "execution_count": 3,
     "metadata": {
      "tags": []
     },
     "output_type": "execute_result"
    },
    {
     "data": {
      "image/png": "[encoded data removed]",
      "text/plain": [
       "<Figure size 1080x1080 with 2 Axes>"
      ]
     },
     "metadata": {
      "needs_background": "light",
      "tags": []
     },
     "output_type": "display_data"
    }
   ],
   "source": [
    "import matplotlib.pyplot as plt \n",
    "import seaborn as sns    \n",
    "plt.figure(figsize=(15,15))\n",
    "sns.heatmap(data = data.corr(), annot=True, \n",
    "fmt = '.2f', linewidths=.5, cmap='Blues')"
   ]
  },
  {
   "cell_type": "code",
   "execution_count": null,
   "metadata": {
    "colab": {
     "base_uri": "https://localhost:8080/",
     "height": 419
    },
    "id": "jEsfck9tv8wZ",
    "outputId": "d911da40-fd47-448f-cb92-88400fce4ce5"
   },
   "outputs": [
    {
     "data": {
      "text/html": [
       "<div>\n",
       "<style scoped>\n",
       "    .dataframe tbody tr th:only-of-type {\n",
       "        vertical-align: middle;\n",
       "    }\n",
       "\n",
       "    .dataframe tbody tr th {\n",
       "        vertical-align: top;\n",
       "    }\n",
       "\n",
       "    .dataframe thead th {\n",
       "        text-align: right;\n",
       "    }\n",
       "</style>\n",
       "<table border=\"1\" class=\"dataframe\">\n",
       "  <thead>\n",
       "    <tr style=\"text-align: right;\">\n",
       "      <th></th>\n",
       "      <th>pm</th>\n",
       "      <th>stator_yoke</th>\n",
       "      <th>stator_tooth</th>\n",
       "      <th>stator_winding</th>\n",
       "    </tr>\n",
       "  </thead>\n",
       "  <tbody>\n",
       "    <tr>\n",
       "      <th>0</th>\n",
       "      <td>-2.522071</td>\n",
       "      <td>-1.831422</td>\n",
       "      <td>-2.066143</td>\n",
       "      <td>-2.018033</td>\n",
       "    </tr>\n",
       "    <tr>\n",
       "      <th>1</th>\n",
       "      <td>-2.522418</td>\n",
       "      <td>-1.830969</td>\n",
       "      <td>-2.064859</td>\n",
       "      <td>-2.017631</td>\n",
       "    </tr>\n",
       "    <tr>\n",
       "      <th>2</th>\n",
       "      <td>-2.522673</td>\n",
       "      <td>-1.830400</td>\n",
       "      <td>-2.064073</td>\n",
       "      <td>-2.017343</td>\n",
       "    </tr>\n",
       "    <tr>\n",
       "      <th>3</th>\n",
       "      <td>-2.521639</td>\n",
       "      <td>-1.830333</td>\n",
       "      <td>-2.063137</td>\n",
       "      <td>-2.017632</td>\n",
       "    </tr>\n",
       "    <tr>\n",
       "      <th>4</th>\n",
       "      <td>-2.521900</td>\n",
       "      <td>-1.830498</td>\n",
       "      <td>-2.062795</td>\n",
       "      <td>-2.018145</td>\n",
       "    </tr>\n",
       "    <tr>\n",
       "      <th>...</th>\n",
       "      <td>...</td>\n",
       "      <td>...</td>\n",
       "      <td>...</td>\n",
       "      <td>...</td>\n",
       "    </tr>\n",
       "    <tr>\n",
       "      <th>998065</th>\n",
       "      <td>0.429853</td>\n",
       "      <td>1.018568</td>\n",
       "      <td>0.836084</td>\n",
       "      <td>0.494725</td>\n",
       "    </tr>\n",
       "    <tr>\n",
       "      <th>998066</th>\n",
       "      <td>0.429751</td>\n",
       "      <td>1.013417</td>\n",
       "      <td>0.834438</td>\n",
       "      <td>0.494279</td>\n",
       "    </tr>\n",
       "    <tr>\n",
       "      <th>998067</th>\n",
       "      <td>0.429439</td>\n",
       "      <td>1.002906</td>\n",
       "      <td>0.833936</td>\n",
       "      <td>0.492666</td>\n",
       "    </tr>\n",
       "    <tr>\n",
       "      <th>998068</th>\n",
       "      <td>0.429558</td>\n",
       "      <td>0.999157</td>\n",
       "      <td>0.830504</td>\n",
       "      <td>0.490581</td>\n",
       "    </tr>\n",
       "    <tr>\n",
       "      <th>998069</th>\n",
       "      <td>0.429166</td>\n",
       "      <td>0.987163</td>\n",
       "      <td>0.828046</td>\n",
       "      <td>0.489382</td>\n",
       "    </tr>\n",
       "  </tbody>\n",
       "</table>\n",
       "<p>998070 rows × 4 columns</p>\n",
       "</div>"
      ],
      "text/plain": [
       "              pm  stator_yoke  stator_tooth  stator_winding\n",
       "0      -2.522071    -1.831422     -2.066143       -2.018033\n",
       "1      -2.522418    -1.830969     -2.064859       -2.017631\n",
       "2      -2.522673    -1.830400     -2.064073       -2.017343\n",
       "3      -2.521639    -1.830333     -2.063137       -2.017632\n",
       "4      -2.521900    -1.830498     -2.062795       -2.018145\n",
       "...          ...          ...           ...             ...\n",
       "998065  0.429853     1.018568      0.836084        0.494725\n",
       "998066  0.429751     1.013417      0.834438        0.494279\n",
       "998067  0.429439     1.002906      0.833936        0.492666\n",
       "998068  0.429558     0.999157      0.830504        0.490581\n",
       "998069  0.429166     0.987163      0.828046        0.489382\n",
       "\n",
       "[998070 rows x 4 columns]"
      ]
     },
     "execution_count": 4,
     "metadata": {
      "tags": []
     },
     "output_type": "execute_result"
    }
   ],
   "source": [
    "target = data.loc[:,[\"pm\",\"stator_yoke\",\"stator_tooth\",\"stator_winding\"]]\n",
    "target"
   ]
  },
  {
   "cell_type": "code",
   "execution_count": null,
   "metadata": {
    "colab": {
     "base_uri": "https://localhost:8080/",
     "height": 173
    },
    "id": "BJA3HOZdAMOi",
    "outputId": "03e4d723-91ca-495b-a5df-467ba38240a7"
   },
   "outputs": [
    {
     "data": {
      "text/html": [
       "<div>\n",
       "<style scoped>\n",
       "    .dataframe tbody tr th:only-of-type {\n",
       "        vertical-align: middle;\n",
       "    }\n",
       "\n",
       "    .dataframe tbody tr th {\n",
       "        vertical-align: top;\n",
       "    }\n",
       "\n",
       "    .dataframe thead th {\n",
       "        text-align: right;\n",
       "    }\n",
       "</style>\n",
       "<table border=\"1\" class=\"dataframe\">\n",
       "  <thead>\n",
       "    <tr style=\"text-align: right;\">\n",
       "      <th></th>\n",
       "      <th>pm</th>\n",
       "      <th>stator_yoke</th>\n",
       "      <th>stator_tooth</th>\n",
       "      <th>stator_winding</th>\n",
       "    </tr>\n",
       "  </thead>\n",
       "  <tbody>\n",
       "    <tr>\n",
       "      <th>pm</th>\n",
       "      <td>1.000000</td>\n",
       "      <td>0.695014</td>\n",
       "      <td>0.768352</td>\n",
       "      <td>0.729561</td>\n",
       "    </tr>\n",
       "    <tr>\n",
       "      <th>stator_yoke</th>\n",
       "      <td>0.695014</td>\n",
       "      <td>1.000000</td>\n",
       "      <td>0.949898</td>\n",
       "      <td>0.845144</td>\n",
       "    </tr>\n",
       "    <tr>\n",
       "      <th>stator_tooth</th>\n",
       "      <td>0.768352</td>\n",
       "      <td>0.949898</td>\n",
       "      <td>1.000000</td>\n",
       "      <td>0.965633</td>\n",
       "    </tr>\n",
       "    <tr>\n",
       "      <th>stator_winding</th>\n",
       "      <td>0.729561</td>\n",
       "      <td>0.845144</td>\n",
       "      <td>0.965633</td>\n",
       "      <td>1.000000</td>\n",
       "    </tr>\n",
       "  </tbody>\n",
       "</table>\n",
       "</div>"
      ],
      "text/plain": [
       "                      pm  stator_yoke  stator_tooth  stator_winding\n",
       "pm              1.000000     0.695014      0.768352        0.729561\n",
       "stator_yoke     0.695014     1.000000      0.949898        0.845144\n",
       "stator_tooth    0.768352     0.949898      1.000000        0.965633\n",
       "stator_winding  0.729561     0.845144      0.965633        1.000000"
      ]
     },
     "execution_count": 5,
     "metadata": {
      "tags": []
     },
     "output_type": "execute_result"
    }
   ],
   "source": [
    "target.corr()"
   ]
  },
  {
   "cell_type": "markdown",
   "metadata": {
    "id": "Zm2-t9_AA4-y"
   },
   "source": [
    "* torque를 제외한 pm, stator_yoke, stator_tooth, stator_widing이 높은 상관관계를 보이고 있음.\n",
    "\n",
    "-> pm~stator_winding을 PCA를 통하여 차원축소 진행.\n",
    "-> torque는 단일 모델로 사용하고, PCA모델의 결과와 결합.\n",
    "-> torque와 PCA의 모델은 독립적이기 때문."
   ]
  },
  {
   "cell_type": "code",
   "execution_count": null,
   "metadata": {
    "colab": {
     "base_uri": "https://localhost:8080/",
     "height": 204
    },
    "id": "MFOO92TlAyvI",
    "outputId": "653ec46f-4262-4c08-915d-e9a839bed82c"
   },
   "outputs": [
    {
     "data": {
      "text/html": [
       "<div>\n",
       "<style scoped>\n",
       "    .dataframe tbody tr th:only-of-type {\n",
       "        vertical-align: middle;\n",
       "    }\n",
       "\n",
       "    .dataframe tbody tr th {\n",
       "        vertical-align: top;\n",
       "    }\n",
       "\n",
       "    .dataframe thead th {\n",
       "        text-align: right;\n",
       "    }\n",
       "</style>\n",
       "<table border=\"1\" class=\"dataframe\">\n",
       "  <thead>\n",
       "    <tr style=\"text-align: right;\">\n",
       "      <th></th>\n",
       "      <th>pm</th>\n",
       "      <th>stator_yoke</th>\n",
       "      <th>stator_tooth</th>\n",
       "      <th>stator_winding</th>\n",
       "    </tr>\n",
       "  </thead>\n",
       "  <tbody>\n",
       "    <tr>\n",
       "      <th>0</th>\n",
       "      <td>-2.522071</td>\n",
       "      <td>-1.831422</td>\n",
       "      <td>-2.066143</td>\n",
       "      <td>-2.018033</td>\n",
       "    </tr>\n",
       "    <tr>\n",
       "      <th>1</th>\n",
       "      <td>-2.522418</td>\n",
       "      <td>-1.830969</td>\n",
       "      <td>-2.064859</td>\n",
       "      <td>-2.017631</td>\n",
       "    </tr>\n",
       "    <tr>\n",
       "      <th>2</th>\n",
       "      <td>-2.522673</td>\n",
       "      <td>-1.830400</td>\n",
       "      <td>-2.064073</td>\n",
       "      <td>-2.017343</td>\n",
       "    </tr>\n",
       "    <tr>\n",
       "      <th>3</th>\n",
       "      <td>-2.521639</td>\n",
       "      <td>-1.830333</td>\n",
       "      <td>-2.063137</td>\n",
       "      <td>-2.017632</td>\n",
       "    </tr>\n",
       "    <tr>\n",
       "      <th>4</th>\n",
       "      <td>-2.521900</td>\n",
       "      <td>-1.830498</td>\n",
       "      <td>-2.062795</td>\n",
       "      <td>-2.018145</td>\n",
       "    </tr>\n",
       "  </tbody>\n",
       "</table>\n",
       "</div>"
      ],
      "text/plain": [
       "         pm  stator_yoke  stator_tooth  stator_winding\n",
       "0 -2.522071    -1.831422     -2.066143       -2.018033\n",
       "1 -2.522418    -1.830969     -2.064859       -2.017631\n",
       "2 -2.522673    -1.830400     -2.064073       -2.017343\n",
       "3 -2.521639    -1.830333     -2.063137       -2.017632\n",
       "4 -2.521900    -1.830498     -2.062795       -2.018145"
      ]
     },
     "execution_count": 6,
     "metadata": {
      "tags": []
     },
     "output_type": "execute_result"
    }
   ],
   "source": [
    "from sklearn.decomposition import PCA\n",
    "\n",
    "pca_target = target\n",
    "pca_target.head()"
   ]
  },
  {
   "cell_type": "code",
   "execution_count": null,
   "metadata": {
    "id": "RmQXjA8PBYI8"
   },
   "outputs": [],
   "source": [
    "pca = PCA(n_components=4)\n",
    "Xlow = pca.fit_transform(pca_target)"
   ]
  },
  {
   "cell_type": "code",
   "execution_count": null,
   "metadata": {
    "id": "hxw92l1OCG6Q"
   },
   "outputs": [],
   "source": [
    "pca_target2 = pca.inverse_transform(Xlow)"
   ]
  },
  {
   "cell_type": "code",
   "execution_count": null,
   "metadata": {
    "colab": {
     "base_uri": "https://localhost:8080/",
     "height": 204
    },
    "id": "HJW8PP1zCeZM",
    "outputId": "af97e060-e420-4ef9-9961-fb7d078fdedc"
   },
   "outputs": [
    {
     "data": {
      "text/html": [
       "<div>\n",
       "<style scoped>\n",
       "    .dataframe tbody tr th:only-of-type {\n",
       "        vertical-align: middle;\n",
       "    }\n",
       "\n",
       "    .dataframe tbody tr th {\n",
       "        vertical-align: top;\n",
       "    }\n",
       "\n",
       "    .dataframe thead th {\n",
       "        text-align: right;\n",
       "    }\n",
       "</style>\n",
       "<table border=\"1\" class=\"dataframe\">\n",
       "  <thead>\n",
       "    <tr style=\"text-align: right;\">\n",
       "      <th></th>\n",
       "      <th>0</th>\n",
       "      <th>1</th>\n",
       "      <th>2</th>\n",
       "      <th>3</th>\n",
       "    </tr>\n",
       "  </thead>\n",
       "  <tbody>\n",
       "    <tr>\n",
       "      <th>0</th>\n",
       "      <td>-4.183849</td>\n",
       "      <td>0.710603</td>\n",
       "      <td>-0.043310</td>\n",
       "      <td>-0.003917</td>\n",
       "    </tr>\n",
       "    <tr>\n",
       "      <th>1</th>\n",
       "      <td>-4.182892</td>\n",
       "      <td>0.711435</td>\n",
       "      <td>-0.043231</td>\n",
       "      <td>-0.004637</td>\n",
       "    </tr>\n",
       "    <tr>\n",
       "      <th>2</th>\n",
       "      <td>-4.182157</td>\n",
       "      <td>0.712094</td>\n",
       "      <td>-0.043353</td>\n",
       "      <td>-0.004954</td>\n",
       "    </tr>\n",
       "    <tr>\n",
       "      <th>3</th>\n",
       "      <td>-4.181306</td>\n",
       "      <td>0.711346</td>\n",
       "      <td>-0.043639</td>\n",
       "      <td>-0.005771</td>\n",
       "    </tr>\n",
       "    <tr>\n",
       "      <th>4</th>\n",
       "      <td>-4.181587</td>\n",
       "      <td>0.711486</td>\n",
       "      <td>-0.043841</td>\n",
       "      <td>-0.006350</td>\n",
       "    </tr>\n",
       "  </tbody>\n",
       "</table>\n",
       "</div>"
      ],
      "text/plain": [
       "          0         1         2         3\n",
       "0 -4.183849  0.710603 -0.043310 -0.003917\n",
       "1 -4.182892  0.711435 -0.043231 -0.004637\n",
       "2 -4.182157  0.712094 -0.043353 -0.004954\n",
       "3 -4.181306  0.711346 -0.043639 -0.005771\n",
       "4 -4.181587  0.711486 -0.043841 -0.006350"
      ]
     },
     "execution_count": 9,
     "metadata": {
      "tags": []
     },
     "output_type": "execute_result"
    }
   ],
   "source": [
    "pd.DataFrame(Xlow).head()"
   ]
  },
  {
   "cell_type": "code",
   "execution_count": null,
   "metadata": {
    "colab": {
     "base_uri": "https://localhost:8080/",
     "height": 204
    },
    "id": "ehHe1xWCpjJ3",
    "outputId": "27e44371-9027-4430-b7bd-afe616dc67f0"
   },
   "outputs": [
    {
     "data": {
      "text/html": [
       "<div>\n",
       "<style scoped>\n",
       "    .dataframe tbody tr th:only-of-type {\n",
       "        vertical-align: middle;\n",
       "    }\n",
       "\n",
       "    .dataframe tbody tr th {\n",
       "        vertical-align: top;\n",
       "    }\n",
       "\n",
       "    .dataframe thead th {\n",
       "        text-align: right;\n",
       "    }\n",
       "</style>\n",
       "<table border=\"1\" class=\"dataframe\">\n",
       "  <thead>\n",
       "    <tr style=\"text-align: right;\">\n",
       "      <th></th>\n",
       "      <th>0</th>\n",
       "      <th>1</th>\n",
       "      <th>2</th>\n",
       "      <th>3</th>\n",
       "    </tr>\n",
       "  </thead>\n",
       "  <tbody>\n",
       "    <tr>\n",
       "      <th>0</th>\n",
       "      <td>-2.522071</td>\n",
       "      <td>-1.831422</td>\n",
       "      <td>-2.066143</td>\n",
       "      <td>-2.018033</td>\n",
       "    </tr>\n",
       "    <tr>\n",
       "      <th>1</th>\n",
       "      <td>-2.522418</td>\n",
       "      <td>-1.830969</td>\n",
       "      <td>-2.064859</td>\n",
       "      <td>-2.017631</td>\n",
       "    </tr>\n",
       "    <tr>\n",
       "      <th>2</th>\n",
       "      <td>-2.522673</td>\n",
       "      <td>-1.830400</td>\n",
       "      <td>-2.064073</td>\n",
       "      <td>-2.017344</td>\n",
       "    </tr>\n",
       "    <tr>\n",
       "      <th>3</th>\n",
       "      <td>-2.521639</td>\n",
       "      <td>-1.830333</td>\n",
       "      <td>-2.063137</td>\n",
       "      <td>-2.017632</td>\n",
       "    </tr>\n",
       "    <tr>\n",
       "      <th>4</th>\n",
       "      <td>-2.521900</td>\n",
       "      <td>-1.830498</td>\n",
       "      <td>-2.062795</td>\n",
       "      <td>-2.018145</td>\n",
       "    </tr>\n",
       "  </tbody>\n",
       "</table>\n",
       "</div>"
      ],
      "text/plain": [
       "          0         1         2         3\n",
       "0 -2.522071 -1.831422 -2.066143 -2.018033\n",
       "1 -2.522418 -1.830969 -2.064859 -2.017631\n",
       "2 -2.522673 -1.830400 -2.064073 -2.017344\n",
       "3 -2.521639 -1.830333 -2.063137 -2.017632\n",
       "4 -2.521900 -1.830498 -2.062795 -2.018145"
      ]
     },
     "execution_count": 10,
     "metadata": {
      "tags": []
     },
     "output_type": "execute_result"
    }
   ],
   "source": [
    "pd.DataFrame(pca_target2).head()"
   ]
  },
  {
   "cell_type": "code",
   "execution_count": null,
   "metadata": {
    "colab": {
     "base_uri": "https://localhost:8080/",
     "height": 204
    },
    "id": "27mX7Gsppl9T",
    "outputId": "4b8e862a-878f-48e9-a51d-15be7049906e"
   },
   "outputs": [
    {
     "data": {
      "text/html": [
       "<div>\n",
       "<style scoped>\n",
       "    .dataframe tbody tr th:only-of-type {\n",
       "        vertical-align: middle;\n",
       "    }\n",
       "\n",
       "    .dataframe tbody tr th {\n",
       "        vertical-align: top;\n",
       "    }\n",
       "\n",
       "    .dataframe thead th {\n",
       "        text-align: right;\n",
       "    }\n",
       "</style>\n",
       "<table border=\"1\" class=\"dataframe\">\n",
       "  <thead>\n",
       "    <tr style=\"text-align: right;\">\n",
       "      <th></th>\n",
       "      <th>pm</th>\n",
       "      <th>stator_yoke</th>\n",
       "      <th>stator_tooth</th>\n",
       "      <th>stator_winding</th>\n",
       "    </tr>\n",
       "  </thead>\n",
       "  <tbody>\n",
       "    <tr>\n",
       "      <th>0</th>\n",
       "      <td>-2.522071</td>\n",
       "      <td>-1.831422</td>\n",
       "      <td>-2.066143</td>\n",
       "      <td>-2.018033</td>\n",
       "    </tr>\n",
       "    <tr>\n",
       "      <th>1</th>\n",
       "      <td>-2.522418</td>\n",
       "      <td>-1.830969</td>\n",
       "      <td>-2.064859</td>\n",
       "      <td>-2.017631</td>\n",
       "    </tr>\n",
       "    <tr>\n",
       "      <th>2</th>\n",
       "      <td>-2.522673</td>\n",
       "      <td>-1.830400</td>\n",
       "      <td>-2.064073</td>\n",
       "      <td>-2.017343</td>\n",
       "    </tr>\n",
       "    <tr>\n",
       "      <th>3</th>\n",
       "      <td>-2.521639</td>\n",
       "      <td>-1.830333</td>\n",
       "      <td>-2.063137</td>\n",
       "      <td>-2.017632</td>\n",
       "    </tr>\n",
       "    <tr>\n",
       "      <th>4</th>\n",
       "      <td>-2.521900</td>\n",
       "      <td>-1.830498</td>\n",
       "      <td>-2.062795</td>\n",
       "      <td>-2.018145</td>\n",
       "    </tr>\n",
       "  </tbody>\n",
       "</table>\n",
       "</div>"
      ],
      "text/plain": [
       "         pm  stator_yoke  stator_tooth  stator_winding\n",
       "0 -2.522071    -1.831422     -2.066143       -2.018033\n",
       "1 -2.522418    -1.830969     -2.064859       -2.017631\n",
       "2 -2.522673    -1.830400     -2.064073       -2.017343\n",
       "3 -2.521639    -1.830333     -2.063137       -2.017632\n",
       "4 -2.521900    -1.830498     -2.062795       -2.018145"
      ]
     },
     "execution_count": 11,
     "metadata": {
      "tags": []
     },
     "output_type": "execute_result"
    }
   ],
   "source": [
    "pca_target.head()"
   ]
  },
  {
   "cell_type": "code",
   "execution_count": null,
   "metadata": {
    "colab": {
     "base_uri": "https://localhost:8080/",
     "height": 85
    },
    "id": "rjUWssGVDvfQ",
    "outputId": "1081b609-1908-41c8-f9dd-1acab45716d8"
   },
   "outputs": [
    {
     "data": {
      "text/plain": [
       "array([[ 0.45217019,  0.50401587,  0.53076494,  0.50970452],\n",
       "       [-0.88599958,  0.34880767,  0.21982701,  0.21216512],\n",
       "       [-0.09052286, -0.69902815,  0.06235971,  0.70659502],\n",
       "       [ 0.04850236,  0.36832167, -0.81613475,  0.44261806]])"
      ]
     },
     "execution_count": 12,
     "metadata": {
      "tags": []
     },
     "output_type": "execute_result"
    }
   ],
   "source": [
    "pca.components_"
   ]
  },
  {
   "cell_type": "code",
   "execution_count": null,
   "metadata": {
    "colab": {
     "base_uri": "https://localhost:8080/",
     "height": 34
    },
    "id": "_ORTVL4PEkSK",
    "outputId": "56c56ca3-06d6-4734-d92b-41d78ffa778f"
   },
   "outputs": [
    {
     "data": {
      "text/plain": [
       "array([8.71991852e-01, 8.90531508e-02, 3.84125504e-02, 5.42446431e-04])"
      ]
     },
     "execution_count": 13,
     "metadata": {
      "tags": []
     },
     "output_type": "execute_result"
    }
   ],
   "source": [
    "pca.explained_variance_ratio_"
   ]
  },
  {
   "cell_type": "markdown",
   "metadata": {
    "id": "P88sovykEuQY"
   },
   "source": [
    "* 주성분의 누적기여율이 각각 0.87, 0.08, 0.03, 0.0005 이므로 첫 번째 주성분만 사용해도 무방하다고 판단. 하지만 inverse_transform 결과 주성분이 하나일 경우 원본 데이터와 편차가 존재.\n",
    "\n",
    "* 따라서 종속변수로 PCA1(= 0.45pm + 0.5stator_yoke + 0.53stator_tooth + 0.5stator_winding), PCA2(= -0.88pm + 0.34stator_yoke + 0.21stator_tooth + 0.21stator_widing)으로 결정.\n",
    "\n",
    "* torque의 경우 온도가 아닌 물리적인 값이므로 제외."
   ]
  },
  {
   "cell_type": "code",
   "execution_count": null,
   "metadata": {
    "colab": {
     "base_uri": "https://localhost:8080/",
     "height": 204
    },
    "id": "b37FbQFlDW4H",
    "outputId": "e50a0a86-5a9a-472d-8396-6b97c5b39192"
   },
   "outputs": [
    {
     "data": {
      "text/html": [
       "<div>\n",
       "<style scoped>\n",
       "    .dataframe tbody tr th:only-of-type {\n",
       "        vertical-align: middle;\n",
       "    }\n",
       "\n",
       "    .dataframe tbody tr th {\n",
       "        vertical-align: top;\n",
       "    }\n",
       "\n",
       "    .dataframe thead th {\n",
       "        text-align: right;\n",
       "    }\n",
       "</style>\n",
       "<table border=\"1\" class=\"dataframe\">\n",
       "  <thead>\n",
       "    <tr style=\"text-align: right;\">\n",
       "      <th></th>\n",
       "      <th>y_PCA1</th>\n",
       "      <th>y_PCA2</th>\n",
       "    </tr>\n",
       "  </thead>\n",
       "  <tbody>\n",
       "    <tr>\n",
       "      <th>0</th>\n",
       "      <td>-4.183849</td>\n",
       "      <td>0.710603</td>\n",
       "    </tr>\n",
       "    <tr>\n",
       "      <th>1</th>\n",
       "      <td>-4.182892</td>\n",
       "      <td>0.711435</td>\n",
       "    </tr>\n",
       "    <tr>\n",
       "      <th>2</th>\n",
       "      <td>-4.182157</td>\n",
       "      <td>0.712094</td>\n",
       "    </tr>\n",
       "    <tr>\n",
       "      <th>3</th>\n",
       "      <td>-4.181306</td>\n",
       "      <td>0.711346</td>\n",
       "    </tr>\n",
       "    <tr>\n",
       "      <th>4</th>\n",
       "      <td>-4.181587</td>\n",
       "      <td>0.711486</td>\n",
       "    </tr>\n",
       "  </tbody>\n",
       "</table>\n",
       "</div>"
      ],
      "text/plain": [
       "     y_PCA1    y_PCA2\n",
       "0 -4.183849  0.710603\n",
       "1 -4.182892  0.711435\n",
       "2 -4.182157  0.712094\n",
       "3 -4.181306  0.711346\n",
       "4 -4.181587  0.711486"
      ]
     },
     "execution_count": 14,
     "metadata": {
      "tags": []
     },
     "output_type": "execute_result"
    }
   ],
   "source": [
    "pca = PCA(n_components = 2)\n",
    "Xlow = pca.fit_transform(pca_target)\n",
    "y_pca = pd.DataFrame(Xlow, columns = [\"y_PCA1\",\"y_PCA2\"])\n",
    "y_pca.head()"
   ]
  },
  {
   "cell_type": "code",
   "execution_count": null,
   "metadata": {
    "colab": {
     "base_uri": "https://localhost:8080/",
     "height": 204
    },
    "id": "0f5dPOeup9pv",
    "outputId": "f3c3c591-4ac2-4de0-e424-75eeb390f900"
   },
   "outputs": [
    {
     "data": {
      "text/html": [
       "<div>\n",
       "<style scoped>\n",
       "    .dataframe tbody tr th:only-of-type {\n",
       "        vertical-align: middle;\n",
       "    }\n",
       "\n",
       "    .dataframe tbody tr th {\n",
       "        vertical-align: top;\n",
       "    }\n",
       "\n",
       "    .dataframe thead th {\n",
       "        text-align: right;\n",
       "    }\n",
       "</style>\n",
       "<table border=\"1\" class=\"dataframe\">\n",
       "  <thead>\n",
       "    <tr style=\"text-align: right;\">\n",
       "      <th></th>\n",
       "      <th>0</th>\n",
       "      <th>1</th>\n",
       "      <th>2</th>\n",
       "      <th>3</th>\n",
       "    </tr>\n",
       "  </thead>\n",
       "  <tbody>\n",
       "    <tr>\n",
       "      <th>0</th>\n",
       "      <td>-2.525802</td>\n",
       "      <td>-1.860254</td>\n",
       "      <td>-2.066639</td>\n",
       "      <td>-1.985697</td>\n",
       "    </tr>\n",
       "    <tr>\n",
       "      <th>1</th>\n",
       "      <td>-2.526106</td>\n",
       "      <td>-1.859481</td>\n",
       "      <td>-2.065947</td>\n",
       "      <td>-1.985032</td>\n",
       "    </tr>\n",
       "    <tr>\n",
       "      <th>2</th>\n",
       "      <td>-2.526357</td>\n",
       "      <td>-1.858881</td>\n",
       "      <td>-2.065413</td>\n",
       "      <td>-1.984518</td>\n",
       "    </tr>\n",
       "    <tr>\n",
       "      <th>3</th>\n",
       "      <td>-2.525309</td>\n",
       "      <td>-1.858713</td>\n",
       "      <td>-2.065125</td>\n",
       "      <td>-1.984242</td>\n",
       "    </tr>\n",
       "    <tr>\n",
       "      <th>4</th>\n",
       "      <td>-2.525561</td>\n",
       "      <td>-1.858805</td>\n",
       "      <td>-2.065244</td>\n",
       "      <td>-1.984356</td>\n",
       "    </tr>\n",
       "  </tbody>\n",
       "</table>\n",
       "</div>"
      ],
      "text/plain": [
       "          0         1         2         3\n",
       "0 -2.525802 -1.860254 -2.066639 -1.985697\n",
       "1 -2.526106 -1.859481 -2.065947 -1.985032\n",
       "2 -2.526357 -1.858881 -2.065413 -1.984518\n",
       "3 -2.525309 -1.858713 -2.065125 -1.984242\n",
       "4 -2.525561 -1.858805 -2.065244 -1.984356"
      ]
     },
     "execution_count": 15,
     "metadata": {
      "tags": []
     },
     "output_type": "execute_result"
    }
   ],
   "source": [
    "pd.DataFrame(pca.inverse_transform(Xlow)).head()"
   ]
  },
  {
   "cell_type": "code",
   "execution_count": null,
   "metadata": {
    "colab": {
     "base_uri": "https://localhost:8080/",
     "height": 204
    },
    "id": "GJ5T0liEqGwI",
    "outputId": "04fde4d1-dd68-414b-ed94-1a3ddfd76d20"
   },
   "outputs": [
    {
     "data": {
      "text/html": [
       "<div>\n",
       "<style scoped>\n",
       "    .dataframe tbody tr th:only-of-type {\n",
       "        vertical-align: middle;\n",
       "    }\n",
       "\n",
       "    .dataframe tbody tr th {\n",
       "        vertical-align: top;\n",
       "    }\n",
       "\n",
       "    .dataframe thead th {\n",
       "        text-align: right;\n",
       "    }\n",
       "</style>\n",
       "<table border=\"1\" class=\"dataframe\">\n",
       "  <thead>\n",
       "    <tr style=\"text-align: right;\">\n",
       "      <th></th>\n",
       "      <th>pm</th>\n",
       "      <th>stator_yoke</th>\n",
       "      <th>stator_tooth</th>\n",
       "      <th>stator_winding</th>\n",
       "    </tr>\n",
       "  </thead>\n",
       "  <tbody>\n",
       "    <tr>\n",
       "      <th>0</th>\n",
       "      <td>-2.522071</td>\n",
       "      <td>-1.831422</td>\n",
       "      <td>-2.066143</td>\n",
       "      <td>-2.018033</td>\n",
       "    </tr>\n",
       "    <tr>\n",
       "      <th>1</th>\n",
       "      <td>-2.522418</td>\n",
       "      <td>-1.830969</td>\n",
       "      <td>-2.064859</td>\n",
       "      <td>-2.017631</td>\n",
       "    </tr>\n",
       "    <tr>\n",
       "      <th>2</th>\n",
       "      <td>-2.522673</td>\n",
       "      <td>-1.830400</td>\n",
       "      <td>-2.064073</td>\n",
       "      <td>-2.017343</td>\n",
       "    </tr>\n",
       "    <tr>\n",
       "      <th>3</th>\n",
       "      <td>-2.521639</td>\n",
       "      <td>-1.830333</td>\n",
       "      <td>-2.063137</td>\n",
       "      <td>-2.017632</td>\n",
       "    </tr>\n",
       "    <tr>\n",
       "      <th>4</th>\n",
       "      <td>-2.521900</td>\n",
       "      <td>-1.830498</td>\n",
       "      <td>-2.062795</td>\n",
       "      <td>-2.018145</td>\n",
       "    </tr>\n",
       "  </tbody>\n",
       "</table>\n",
       "</div>"
      ],
      "text/plain": [
       "         pm  stator_yoke  stator_tooth  stator_winding\n",
       "0 -2.522071    -1.831422     -2.066143       -2.018033\n",
       "1 -2.522418    -1.830969     -2.064859       -2.017631\n",
       "2 -2.522673    -1.830400     -2.064073       -2.017343\n",
       "3 -2.521639    -1.830333     -2.063137       -2.017632\n",
       "4 -2.521900    -1.830498     -2.062795       -2.018145"
      ]
     },
     "execution_count": 16,
     "metadata": {
      "tags": []
     },
     "output_type": "execute_result"
    }
   ],
   "source": [
    "target.head()"
   ]
  },
  {
   "cell_type": "code",
   "execution_count": null,
   "metadata": {
    "colab": {
     "base_uri": "https://localhost:8080/",
     "height": 419
    },
    "id": "TG44jVt1L0bJ",
    "outputId": "4a91792f-44be-41fe-9fba-0134230eac31"
   },
   "outputs": [
    {
     "data": {
      "text/html": [
       "<div>\n",
       "<style scoped>\n",
       "    .dataframe tbody tr th:only-of-type {\n",
       "        vertical-align: middle;\n",
       "    }\n",
       "\n",
       "    .dataframe tbody tr th {\n",
       "        vertical-align: top;\n",
       "    }\n",
       "\n",
       "    .dataframe thead th {\n",
       "        text-align: right;\n",
       "    }\n",
       "</style>\n",
       "<table border=\"1\" class=\"dataframe\">\n",
       "  <thead>\n",
       "    <tr style=\"text-align: right;\">\n",
       "      <th></th>\n",
       "      <th>ambient</th>\n",
       "      <th>coolant</th>\n",
       "      <th>u_d</th>\n",
       "      <th>u_q</th>\n",
       "      <th>torque</th>\n",
       "      <th>motor_speed</th>\n",
       "      <th>i_d</th>\n",
       "      <th>i_q</th>\n",
       "      <th>profile_id</th>\n",
       "    </tr>\n",
       "  </thead>\n",
       "  <tbody>\n",
       "    <tr>\n",
       "      <th>0</th>\n",
       "      <td>-0.752143</td>\n",
       "      <td>-1.118446</td>\n",
       "      <td>0.327935</td>\n",
       "      <td>-1.297858</td>\n",
       "      <td>-0.250182</td>\n",
       "      <td>-1.222428</td>\n",
       "      <td>1.029572</td>\n",
       "      <td>-0.245860</td>\n",
       "      <td>4</td>\n",
       "    </tr>\n",
       "    <tr>\n",
       "      <th>1</th>\n",
       "      <td>-0.771263</td>\n",
       "      <td>-1.117021</td>\n",
       "      <td>0.329665</td>\n",
       "      <td>-1.297686</td>\n",
       "      <td>-0.249133</td>\n",
       "      <td>-1.222429</td>\n",
       "      <td>1.029509</td>\n",
       "      <td>-0.245832</td>\n",
       "      <td>4</td>\n",
       "    </tr>\n",
       "    <tr>\n",
       "      <th>2</th>\n",
       "      <td>-0.782892</td>\n",
       "      <td>-1.116681</td>\n",
       "      <td>0.332771</td>\n",
       "      <td>-1.301822</td>\n",
       "      <td>-0.249431</td>\n",
       "      <td>-1.222428</td>\n",
       "      <td>1.029448</td>\n",
       "      <td>-0.245818</td>\n",
       "      <td>4</td>\n",
       "    </tr>\n",
       "    <tr>\n",
       "      <th>3</th>\n",
       "      <td>-0.780935</td>\n",
       "      <td>-1.116764</td>\n",
       "      <td>0.333700</td>\n",
       "      <td>-1.301852</td>\n",
       "      <td>-0.248636</td>\n",
       "      <td>-1.222430</td>\n",
       "      <td>1.032845</td>\n",
       "      <td>-0.246955</td>\n",
       "      <td>4</td>\n",
       "    </tr>\n",
       "    <tr>\n",
       "      <th>4</th>\n",
       "      <td>-0.774043</td>\n",
       "      <td>-1.116775</td>\n",
       "      <td>0.335206</td>\n",
       "      <td>-1.303118</td>\n",
       "      <td>-0.248701</td>\n",
       "      <td>-1.222429</td>\n",
       "      <td>1.031807</td>\n",
       "      <td>-0.246610</td>\n",
       "      <td>4</td>\n",
       "    </tr>\n",
       "    <tr>\n",
       "      <th>...</th>\n",
       "      <td>...</td>\n",
       "      <td>...</td>\n",
       "      <td>...</td>\n",
       "      <td>...</td>\n",
       "      <td>...</td>\n",
       "      <td>...</td>\n",
       "      <td>...</td>\n",
       "      <td>...</td>\n",
       "      <td>...</td>\n",
       "    </tr>\n",
       "    <tr>\n",
       "      <th>998065</th>\n",
       "      <td>-0.047497</td>\n",
       "      <td>0.341638</td>\n",
       "      <td>0.331475</td>\n",
       "      <td>-1.246114</td>\n",
       "      <td>-0.255640</td>\n",
       "      <td>-1.222428</td>\n",
       "      <td>1.029142</td>\n",
       "      <td>-0.245722</td>\n",
       "      <td>72</td>\n",
       "    </tr>\n",
       "    <tr>\n",
       "      <th>998066</th>\n",
       "      <td>-0.048839</td>\n",
       "      <td>0.320022</td>\n",
       "      <td>0.331701</td>\n",
       "      <td>-1.250655</td>\n",
       "      <td>-0.255640</td>\n",
       "      <td>-1.222437</td>\n",
       "      <td>1.029148</td>\n",
       "      <td>-0.245736</td>\n",
       "      <td>72</td>\n",
       "    </tr>\n",
       "    <tr>\n",
       "      <th>998067</th>\n",
       "      <td>-0.042350</td>\n",
       "      <td>0.307415</td>\n",
       "      <td>0.330946</td>\n",
       "      <td>-1.246852</td>\n",
       "      <td>-0.255640</td>\n",
       "      <td>-1.222430</td>\n",
       "      <td>1.029191</td>\n",
       "      <td>-0.245701</td>\n",
       "      <td>72</td>\n",
       "    </tr>\n",
       "    <tr>\n",
       "      <th>998068</th>\n",
       "      <td>-0.039433</td>\n",
       "      <td>0.302082</td>\n",
       "      <td>0.330987</td>\n",
       "      <td>-1.249505</td>\n",
       "      <td>-0.255640</td>\n",
       "      <td>-1.222432</td>\n",
       "      <td>1.029147</td>\n",
       "      <td>-0.245727</td>\n",
       "      <td>72</td>\n",
       "    </tr>\n",
       "    <tr>\n",
       "      <th>998069</th>\n",
       "      <td>-0.043803</td>\n",
       "      <td>0.312666</td>\n",
       "      <td>0.330830</td>\n",
       "      <td>-1.246591</td>\n",
       "      <td>-0.255640</td>\n",
       "      <td>-1.222431</td>\n",
       "      <td>1.029141</td>\n",
       "      <td>-0.245722</td>\n",
       "      <td>72</td>\n",
       "    </tr>\n",
       "  </tbody>\n",
       "</table>\n",
       "<p>998070 rows × 9 columns</p>\n",
       "</div>"
      ],
      "text/plain": [
       "         ambient   coolant       u_d  ...       i_d       i_q  profile_id\n",
       "0      -0.752143 -1.118446  0.327935  ...  1.029572 -0.245860           4\n",
       "1      -0.771263 -1.117021  0.329665  ...  1.029509 -0.245832           4\n",
       "2      -0.782892 -1.116681  0.332771  ...  1.029448 -0.245818           4\n",
       "3      -0.780935 -1.116764  0.333700  ...  1.032845 -0.246955           4\n",
       "4      -0.774043 -1.116775  0.335206  ...  1.031807 -0.246610           4\n",
       "...          ...       ...       ...  ...       ...       ...         ...\n",
       "998065 -0.047497  0.341638  0.331475  ...  1.029142 -0.245722          72\n",
       "998066 -0.048839  0.320022  0.331701  ...  1.029148 -0.245736          72\n",
       "998067 -0.042350  0.307415  0.330946  ...  1.029191 -0.245701          72\n",
       "998068 -0.039433  0.302082  0.330987  ...  1.029147 -0.245727          72\n",
       "998069 -0.043803  0.312666  0.330830  ...  1.029141 -0.245722          72\n",
       "\n",
       "[998070 rows x 9 columns]"
      ]
     },
     "execution_count": 17,
     "metadata": {
      "tags": []
     },
     "output_type": "execute_result"
    }
   ],
   "source": [
    "x = data.loc[:,[\"ambient\",\"coolant\",\"u_d\",\"u_q\", \"torque\",\"motor_speed\",\"i_d\",\"i_q\",\"profile_id\"]]\n",
    "x"
   ]
  },
  {
   "cell_type": "code",
   "execution_count": null,
   "metadata": {
    "id": "yhVFqfZhNYR-"
   },
   "outputs": [],
   "source": [
    "data1 = pd.concat([x,y_pca], axis=1)"
   ]
  },
  {
   "cell_type": "code",
   "execution_count": null,
   "metadata": {
    "colab": {
     "base_uri": "https://localhost:8080/",
     "height": 419
    },
    "id": "1uMY4ACQNcET",
    "outputId": "d1eaff2b-124f-44c5-84dc-0fcde4481dcf"
   },
   "outputs": [
    {
     "data": {
      "text/html": [
       "<div>\n",
       "<style scoped>\n",
       "    .dataframe tbody tr th:only-of-type {\n",
       "        vertical-align: middle;\n",
       "    }\n",
       "\n",
       "    .dataframe tbody tr th {\n",
       "        vertical-align: top;\n",
       "    }\n",
       "\n",
       "    .dataframe thead th {\n",
       "        text-align: right;\n",
       "    }\n",
       "</style>\n",
       "<table border=\"1\" class=\"dataframe\">\n",
       "  <thead>\n",
       "    <tr style=\"text-align: right;\">\n",
       "      <th></th>\n",
       "      <th>ambient</th>\n",
       "      <th>coolant</th>\n",
       "      <th>u_d</th>\n",
       "      <th>u_q</th>\n",
       "      <th>torque</th>\n",
       "      <th>motor_speed</th>\n",
       "      <th>i_d</th>\n",
       "      <th>i_q</th>\n",
       "      <th>profile_id</th>\n",
       "      <th>y_PCA1</th>\n",
       "      <th>y_PCA2</th>\n",
       "    </tr>\n",
       "  </thead>\n",
       "  <tbody>\n",
       "    <tr>\n",
       "      <th>0</th>\n",
       "      <td>-0.752143</td>\n",
       "      <td>-1.118446</td>\n",
       "      <td>0.327935</td>\n",
       "      <td>-1.297858</td>\n",
       "      <td>-0.250182</td>\n",
       "      <td>-1.222428</td>\n",
       "      <td>1.029572</td>\n",
       "      <td>-0.245860</td>\n",
       "      <td>4</td>\n",
       "      <td>-4.183849</td>\n",
       "      <td>0.710603</td>\n",
       "    </tr>\n",
       "    <tr>\n",
       "      <th>1</th>\n",
       "      <td>-0.771263</td>\n",
       "      <td>-1.117021</td>\n",
       "      <td>0.329665</td>\n",
       "      <td>-1.297686</td>\n",
       "      <td>-0.249133</td>\n",
       "      <td>-1.222429</td>\n",
       "      <td>1.029509</td>\n",
       "      <td>-0.245832</td>\n",
       "      <td>4</td>\n",
       "      <td>-4.182892</td>\n",
       "      <td>0.711435</td>\n",
       "    </tr>\n",
       "    <tr>\n",
       "      <th>2</th>\n",
       "      <td>-0.782892</td>\n",
       "      <td>-1.116681</td>\n",
       "      <td>0.332771</td>\n",
       "      <td>-1.301822</td>\n",
       "      <td>-0.249431</td>\n",
       "      <td>-1.222428</td>\n",
       "      <td>1.029448</td>\n",
       "      <td>-0.245818</td>\n",
       "      <td>4</td>\n",
       "      <td>-4.182157</td>\n",
       "      <td>0.712094</td>\n",
       "    </tr>\n",
       "    <tr>\n",
       "      <th>3</th>\n",
       "      <td>-0.780935</td>\n",
       "      <td>-1.116764</td>\n",
       "      <td>0.333700</td>\n",
       "      <td>-1.301852</td>\n",
       "      <td>-0.248636</td>\n",
       "      <td>-1.222430</td>\n",
       "      <td>1.032845</td>\n",
       "      <td>-0.246955</td>\n",
       "      <td>4</td>\n",
       "      <td>-4.181306</td>\n",
       "      <td>0.711346</td>\n",
       "    </tr>\n",
       "    <tr>\n",
       "      <th>4</th>\n",
       "      <td>-0.774043</td>\n",
       "      <td>-1.116775</td>\n",
       "      <td>0.335206</td>\n",
       "      <td>-1.303118</td>\n",
       "      <td>-0.248701</td>\n",
       "      <td>-1.222429</td>\n",
       "      <td>1.031807</td>\n",
       "      <td>-0.246610</td>\n",
       "      <td>4</td>\n",
       "      <td>-4.181587</td>\n",
       "      <td>0.711486</td>\n",
       "    </tr>\n",
       "    <tr>\n",
       "      <th>...</th>\n",
       "      <td>...</td>\n",
       "      <td>...</td>\n",
       "      <td>...</td>\n",
       "      <td>...</td>\n",
       "      <td>...</td>\n",
       "      <td>...</td>\n",
       "      <td>...</td>\n",
       "      <td>...</td>\n",
       "      <td>...</td>\n",
       "      <td>...</td>\n",
       "      <td>...</td>\n",
       "    </tr>\n",
       "    <tr>\n",
       "      <th>998065</th>\n",
       "      <td>-0.047497</td>\n",
       "      <td>0.341638</td>\n",
       "      <td>0.331475</td>\n",
       "      <td>-1.246114</td>\n",
       "      <td>-0.255640</td>\n",
       "      <td>-1.222428</td>\n",
       "      <td>1.029142</td>\n",
       "      <td>-0.245722</td>\n",
       "      <td>72</td>\n",
       "      <td>1.408526</td>\n",
       "      <td>0.260404</td>\n",
       "    </tr>\n",
       "    <tr>\n",
       "      <th>998066</th>\n",
       "      <td>-0.048839</td>\n",
       "      <td>0.320022</td>\n",
       "      <td>0.331701</td>\n",
       "      <td>-1.250655</td>\n",
       "      <td>-0.255640</td>\n",
       "      <td>-1.222437</td>\n",
       "      <td>1.029148</td>\n",
       "      <td>-0.245736</td>\n",
       "      <td>72</td>\n",
       "      <td>1.404783</td>\n",
       "      <td>0.258242</td>\n",
       "    </tr>\n",
       "    <tr>\n",
       "      <th>998067</th>\n",
       "      <td>-0.042350</td>\n",
       "      <td>0.307415</td>\n",
       "      <td>0.330946</td>\n",
       "      <td>-1.246852</td>\n",
       "      <td>-0.255640</td>\n",
       "      <td>-1.222430</td>\n",
       "      <td>1.029191</td>\n",
       "      <td>-0.245701</td>\n",
       "      <td>72</td>\n",
       "      <td>1.398256</td>\n",
       "      <td>0.254399</td>\n",
       "    </tr>\n",
       "    <tr>\n",
       "      <th>998068</th>\n",
       "      <td>-0.039433</td>\n",
       "      <td>0.302082</td>\n",
       "      <td>0.330987</td>\n",
       "      <td>-1.249505</td>\n",
       "      <td>-0.255640</td>\n",
       "      <td>-1.222432</td>\n",
       "      <td>1.029147</td>\n",
       "      <td>-0.245727</td>\n",
       "      <td>72</td>\n",
       "      <td>1.393536</td>\n",
       "      <td>0.251790</td>\n",
       "    </tr>\n",
       "    <tr>\n",
       "      <th>998069</th>\n",
       "      <td>-0.043803</td>\n",
       "      <td>0.312666</td>\n",
       "      <td>0.330830</td>\n",
       "      <td>-1.246591</td>\n",
       "      <td>-0.255640</td>\n",
       "      <td>-1.222431</td>\n",
       "      <td>1.029141</td>\n",
       "      <td>-0.245722</td>\n",
       "      <td>72</td>\n",
       "      <td>1.385398</td>\n",
       "      <td>0.247158</td>\n",
       "    </tr>\n",
       "  </tbody>\n",
       "</table>\n",
       "<p>998070 rows × 11 columns</p>\n",
       "</div>"
      ],
      "text/plain": [
       "         ambient   coolant       u_d  ...  profile_id    y_PCA1    y_PCA2\n",
       "0      -0.752143 -1.118446  0.327935  ...           4 -4.183849  0.710603\n",
       "1      -0.771263 -1.117021  0.329665  ...           4 -4.182892  0.711435\n",
       "2      -0.782892 -1.116681  0.332771  ...           4 -4.182157  0.712094\n",
       "3      -0.780935 -1.116764  0.333700  ...           4 -4.181306  0.711346\n",
       "4      -0.774043 -1.116775  0.335206  ...           4 -4.181587  0.711486\n",
       "...          ...       ...       ...  ...         ...       ...       ...\n",
       "998065 -0.047497  0.341638  0.331475  ...          72  1.408526  0.260404\n",
       "998066 -0.048839  0.320022  0.331701  ...          72  1.404783  0.258242\n",
       "998067 -0.042350  0.307415  0.330946  ...          72  1.398256  0.254399\n",
       "998068 -0.039433  0.302082  0.330987  ...          72  1.393536  0.251790\n",
       "998069 -0.043803  0.312666  0.330830  ...          72  1.385398  0.247158\n",
       "\n",
       "[998070 rows x 11 columns]"
      ]
     },
     "execution_count": 19,
     "metadata": {
      "tags": []
     },
     "output_type": "execute_result"
    }
   ],
   "source": [
    "data1"
   ]
  },
  {
   "cell_type": "code",
   "execution_count": null,
   "metadata": {
    "colab": {
     "base_uri": "https://localhost:8080/",
     "height": 885
    },
    "id": "mfu4Z8jINEFp",
    "outputId": "47262905-cc30-47c5-8b10-ba099db26fd5"
   },
   "outputs": [
    {
     "data": {
      "text/plain": [
       "<matplotlib.axes._subplots.AxesSubplot at 0x7fc51400ad30>"
      ]
     },
     "execution_count": 20,
     "metadata": {
      "tags": []
     },
     "output_type": "execute_result"
    },
    {
     "data": {
      "image/png": "[encoded data removed]",
      "text/plain": [
       "<Figure size 1080x1080 with 2 Axes>"
      ]
     },
     "metadata": {
      "needs_background": "light",
      "tags": []
     },
     "output_type": "display_data"
    }
   ],
   "source": [
    "import matplotlib.pyplot as plt \n",
    "import seaborn as sns    \n",
    "plt.figure(figsize=(15,15))\n",
    "sns.heatmap(data = data1.corr(), annot=True, \n",
    "fmt = '.2f', linewidths=.5, cmap='Blues')"
   ]
  },
  {
   "cell_type": "code",
   "execution_count": null,
   "metadata": {
    "id": "X4x0rSxZNMUT"
   },
   "outputs": [],
   "source": [
    "torque_i = data.loc[:,[\"i_q\",\"torque\"]]\n",
    "motor_speed_u = data.loc[:,[\"motor_speed\",\"u_q\"]]"
   ]
  },
  {
   "cell_type": "code",
   "execution_count": null,
   "metadata": {
    "colab": {
     "base_uri": "https://localhost:8080/",
     "height": 119
    },
    "id": "1WDvYjanugkK",
    "outputId": "d9ced5da-d4ae-4ddf-86e2-afefedb2fe7f"
   },
   "outputs": [
    {
     "name": "stdout",
     "output_type": "stream",
     "text": [
      "            i_q   torque\n",
      "i_q     1.00000  0.99656\n",
      "torque  0.99656  1.00000\n",
      "             motor_speed       u_q\n",
      "motor_speed     1.000000  0.716897\n",
      "u_q             0.716897  1.000000\n"
     ]
    }
   ],
   "source": [
    "print(torque_i.corr())\n",
    "print(motor_speed_u.corr())"
   ]
  },
  {
   "cell_type": "code",
   "execution_count": null,
   "metadata": {
    "id": "04pqnxQeuVpw"
   },
   "outputs": [],
   "source": [
    "torque_i_pca = PCA(n_components = 1)\n",
    "torque_i_Xlow = torque_i_pca.fit_transform(torque_i)\n",
    "\n",
    "motor_speed_u_pca = PCA(n_components=1)\n",
    "motor_speed_u_Xlow = motor_speed_u_pca.fit_transform(motor_speed_u)"
   ]
  },
  {
   "cell_type": "code",
   "execution_count": null,
   "metadata": {
    "colab": {
     "base_uri": "https://localhost:8080/",
     "height": 51
    },
    "id": "0QxG_5zKufOM",
    "outputId": "c89fc543-51af-4ee7-db9b-82c59eb0d480"
   },
   "outputs": [
    {
     "name": "stdout",
     "output_type": "stream",
     "text": [
      "[0.99827994]\n",
      "[0.85844895]\n"
     ]
    }
   ],
   "source": [
    "print(torque_i_pca.explained_variance_ratio_)\n",
    "print(motor_speed_u_pca.explained_variance_ratio_)"
   ]
  },
  {
   "cell_type": "code",
   "execution_count": null,
   "metadata": {
    "colab": {
     "base_uri": "https://localhost:8080/",
     "height": 51
    },
    "id": "nH5uelUpuuLG",
    "outputId": "d47e9e47-a4fc-4789-f24a-3b2339f0c75e"
   },
   "outputs": [
    {
     "name": "stdout",
     "output_type": "stream",
     "text": [
      "[[-0.70710877 -0.7071048 ]]\n",
      "[[0.70656461 0.70764854]]\n"
     ]
    }
   ],
   "source": [
    "print(torque_i_pca.components_)\n",
    "print(motor_speed_u_pca.components_)"
   ]
  },
  {
   "cell_type": "markdown",
   "metadata": {
    "id": "oCDQE2WE46RG"
   },
   "source": [
    "* motor_speed와 u_q의 경우 축약해도 주성분 1개로는 충분하지 않음.   \n",
    "(누적 기여율 : 0.85)\n",
    "* 반면 torque와 i_q의 경우 주성분 1개로 99%의 설명력을 가짐\n",
    "- 따라서 torque + i_q를 x_PCA로 축약\n",
    "- motor_speed와 u_q의 경우 변수 그대로 사용"
   ]
  },
  {
   "cell_type": "markdown",
   "metadata": {
    "id": "SKGHd-n6vaK-"
   },
   "source": [
    "* PCA1 = -0.7 i_d -0.7 torque"
   ]
  },
  {
   "cell_type": "code",
   "execution_count": null,
   "metadata": {
    "colab": {
     "base_uri": "https://localhost:8080/",
     "height": 419
    },
    "id": "7SkCUzFOur1o",
    "outputId": "b29d0b49-70bc-493b-e7a9-28009af00233"
   },
   "outputs": [
    {
     "data": {
      "text/html": [
       "<div>\n",
       "<style scoped>\n",
       "    .dataframe tbody tr th:only-of-type {\n",
       "        vertical-align: middle;\n",
       "    }\n",
       "\n",
       "    .dataframe tbody tr th {\n",
       "        vertical-align: top;\n",
       "    }\n",
       "\n",
       "    .dataframe thead th {\n",
       "        text-align: right;\n",
       "    }\n",
       "</style>\n",
       "<table border=\"1\" class=\"dataframe\">\n",
       "  <thead>\n",
       "    <tr style=\"text-align: right;\">\n",
       "      <th></th>\n",
       "      <th>x_PCA</th>\n",
       "    </tr>\n",
       "  </thead>\n",
       "  <tbody>\n",
       "    <tr>\n",
       "      <th>0</th>\n",
       "      <td>0.346140</td>\n",
       "    </tr>\n",
       "    <tr>\n",
       "      <th>1</th>\n",
       "      <td>0.345378</td>\n",
       "    </tr>\n",
       "    <tr>\n",
       "      <th>2</th>\n",
       "      <td>0.345579</td>\n",
       "    </tr>\n",
       "    <tr>\n",
       "      <th>3</th>\n",
       "      <td>0.345821</td>\n",
       "    </tr>\n",
       "    <tr>\n",
       "      <th>4</th>\n",
       "      <td>0.345622</td>\n",
       "    </tr>\n",
       "    <tr>\n",
       "      <th>...</th>\n",
       "      <td>...</td>\n",
       "    </tr>\n",
       "    <tr>\n",
       "      <th>998065</th>\n",
       "      <td>0.349901</td>\n",
       "    </tr>\n",
       "    <tr>\n",
       "      <th>998066</th>\n",
       "      <td>0.349911</td>\n",
       "    </tr>\n",
       "    <tr>\n",
       "      <th>998067</th>\n",
       "      <td>0.349887</td>\n",
       "    </tr>\n",
       "    <tr>\n",
       "      <th>998068</th>\n",
       "      <td>0.349905</td>\n",
       "    </tr>\n",
       "    <tr>\n",
       "      <th>998069</th>\n",
       "      <td>0.349901</td>\n",
       "    </tr>\n",
       "  </tbody>\n",
       "</table>\n",
       "<p>998070 rows × 1 columns</p>\n",
       "</div>"
      ],
      "text/plain": [
       "           x_PCA\n",
       "0       0.346140\n",
       "1       0.345378\n",
       "2       0.345579\n",
       "3       0.345821\n",
       "4       0.345622\n",
       "...          ...\n",
       "998065  0.349901\n",
       "998066  0.349911\n",
       "998067  0.349887\n",
       "998068  0.349905\n",
       "998069  0.349901\n",
       "\n",
       "[998070 rows x 1 columns]"
      ]
     },
     "execution_count": 26,
     "metadata": {
      "tags": []
     },
     "output_type": "execute_result"
    }
   ],
   "source": [
    "x_pca = pd.DataFrame(torque_i_Xlow,columns = [\"x_PCA\"])\n",
    "x_pca"
   ]
  },
  {
   "cell_type": "code",
   "execution_count": null,
   "metadata": {
    "colab": {
     "base_uri": "https://localhost:8080/",
     "height": 136
    },
    "id": "s6QDqFZmvDGI",
    "outputId": "ae02b23f-6e5e-46fc-ae2c-39dcf7b29cd5"
   },
   "outputs": [
    {
     "data": {
      "text/plain": [
       "array([[-0.24795233, -0.24808979],\n",
       "       [-0.24741407, -0.24755153],\n",
       "       [-0.24755577, -0.24769323],\n",
       "       ...,\n",
       "       [-0.25060185, -0.2507393 ],\n",
       "       [-0.2506147 , -0.25075214],\n",
       "       [-0.25061225, -0.2507497 ]])"
      ]
     },
     "execution_count": 27,
     "metadata": {
      "tags": []
     },
     "output_type": "execute_result"
    }
   ],
   "source": [
    "torque_i_inverse=torque_i_pca.inverse_transform(torque_i_Xlow)\n",
    "torque_i_inverse"
   ]
  },
  {
   "cell_type": "code",
   "execution_count": null,
   "metadata": {
    "colab": {
     "base_uri": "https://localhost:8080/",
     "height": 136
    },
    "id": "WXkgXTSUwVlg",
    "outputId": "f1f58412-c20e-4b8d-ca7f-f105f22148d1"
   },
   "outputs": [
    {
     "data": {
      "text/plain": [
       "array([[-1.7736487 ],\n",
       "       [-1.77352847],\n",
       "       [-1.77645367],\n",
       "       ...,\n",
       "       [-1.73755565],\n",
       "       [-1.73943466],\n",
       "       [-1.73737187]])"
      ]
     },
     "execution_count": 28,
     "metadata": {
      "tags": []
     },
     "output_type": "execute_result"
    }
   ],
   "source": [
    "motor_speed_u_Xlow"
   ]
  },
  {
   "cell_type": "code",
   "execution_count": null,
   "metadata": {
    "colab": {
     "base_uri": "https://localhost:8080/",
     "height": 136
    },
    "id": "_6cQJzJZwX3j",
    "outputId": "2e77254d-0448-495a-bb6e-a428549ae94f"
   },
   "outputs": [
    {
     "data": {
      "text/plain": [
       "array([[-1.2595329 , -1.26080963],\n",
       "       [-1.25944795, -1.26072455],\n",
       "       [-1.2615148 , -1.26279457],\n",
       "       ...,\n",
       "       [-1.23403083, -1.23526844],\n",
       "       [-1.23535848, -1.23659812],\n",
       "       [-1.23390098, -1.23513839]])"
      ]
     },
     "execution_count": 29,
     "metadata": {
      "tags": []
     },
     "output_type": "execute_result"
    }
   ],
   "source": [
    "motor_speed_u_inverse = motor_speed_u_pca.inverse_transform(motor_speed_u_Xlow)\n",
    "motor_speed_u_inverse"
   ]
  },
  {
   "cell_type": "code",
   "execution_count": null,
   "metadata": {
    "colab": {
     "base_uri": "https://localhost:8080/",
     "height": 419
    },
    "id": "usKk13AWwyfR",
    "outputId": "0d4e464e-e670-457e-f87b-9f75467413ba"
   },
   "outputs": [
    {
     "data": {
      "text/html": [
       "<div>\n",
       "<style scoped>\n",
       "    .dataframe tbody tr th:only-of-type {\n",
       "        vertical-align: middle;\n",
       "    }\n",
       "\n",
       "    .dataframe tbody tr th {\n",
       "        vertical-align: top;\n",
       "    }\n",
       "\n",
       "    .dataframe thead th {\n",
       "        text-align: right;\n",
       "    }\n",
       "</style>\n",
       "<table border=\"1\" class=\"dataframe\">\n",
       "  <thead>\n",
       "    <tr style=\"text-align: right;\">\n",
       "      <th></th>\n",
       "      <th>motor_speed</th>\n",
       "      <th>u_q</th>\n",
       "    </tr>\n",
       "  </thead>\n",
       "  <tbody>\n",
       "    <tr>\n",
       "      <th>0</th>\n",
       "      <td>-1.222428</td>\n",
       "      <td>-1.297858</td>\n",
       "    </tr>\n",
       "    <tr>\n",
       "      <th>1</th>\n",
       "      <td>-1.222429</td>\n",
       "      <td>-1.297686</td>\n",
       "    </tr>\n",
       "    <tr>\n",
       "      <th>2</th>\n",
       "      <td>-1.222428</td>\n",
       "      <td>-1.301822</td>\n",
       "    </tr>\n",
       "    <tr>\n",
       "      <th>3</th>\n",
       "      <td>-1.222430</td>\n",
       "      <td>-1.301852</td>\n",
       "    </tr>\n",
       "    <tr>\n",
       "      <th>4</th>\n",
       "      <td>-1.222429</td>\n",
       "      <td>-1.303118</td>\n",
       "    </tr>\n",
       "    <tr>\n",
       "      <th>...</th>\n",
       "      <td>...</td>\n",
       "      <td>...</td>\n",
       "    </tr>\n",
       "    <tr>\n",
       "      <th>998065</th>\n",
       "      <td>-1.222428</td>\n",
       "      <td>-1.246114</td>\n",
       "    </tr>\n",
       "    <tr>\n",
       "      <th>998066</th>\n",
       "      <td>-1.222437</td>\n",
       "      <td>-1.250655</td>\n",
       "    </tr>\n",
       "    <tr>\n",
       "      <th>998067</th>\n",
       "      <td>-1.222430</td>\n",
       "      <td>-1.246852</td>\n",
       "    </tr>\n",
       "    <tr>\n",
       "      <th>998068</th>\n",
       "      <td>-1.222432</td>\n",
       "      <td>-1.249505</td>\n",
       "    </tr>\n",
       "    <tr>\n",
       "      <th>998069</th>\n",
       "      <td>-1.222431</td>\n",
       "      <td>-1.246591</td>\n",
       "    </tr>\n",
       "  </tbody>\n",
       "</table>\n",
       "<p>998070 rows × 2 columns</p>\n",
       "</div>"
      ],
      "text/plain": [
       "        motor_speed       u_q\n",
       "0         -1.222428 -1.297858\n",
       "1         -1.222429 -1.297686\n",
       "2         -1.222428 -1.301822\n",
       "3         -1.222430 -1.301852\n",
       "4         -1.222429 -1.303118\n",
       "...             ...       ...\n",
       "998065    -1.222428 -1.246114\n",
       "998066    -1.222437 -1.250655\n",
       "998067    -1.222430 -1.246852\n",
       "998068    -1.222432 -1.249505\n",
       "998069    -1.222431 -1.246591\n",
       "\n",
       "[998070 rows x 2 columns]"
      ]
     },
     "execution_count": 30,
     "metadata": {
      "tags": []
     },
     "output_type": "execute_result"
    }
   ],
   "source": [
    "motor_speed_u"
   ]
  },
  {
   "cell_type": "markdown",
   "metadata": {
    "id": "cfmkX_p5K482"
   },
   "source": [
    "* moter_speed와 u_q는 편차가 실제 값과 크진 않으나, 주성분을 2개로 쓰게 되면 차원축소의 의미가 없다.\n",
    "* torque와 i_q는 차원축소의 관계가 유의미 하다. 따라서 torque와 i_q는 차원축소를 하여 분석대상으로 진행한다.\n",
    "\n",
    "#### 변수 축소 -> torque, i_q : x_PCA,    \n",
    "#### pm,stator_yoke, stator_tooth, stator_winding : PCA1, PCA2로 결정하여 원본 데이터의 칼럼을 줄이는 작업 시행.\n",
    "\n",
    "* 차원축소를 통해 기존의 13개 변수에서 10개 변수로 축약 가능 및 다중 공선성 최소화.\n",
    "\n",
    "* 최종 데이터 셋으로 VIF 검정 진행."
   ]
  },
  {
   "cell_type": "code",
   "execution_count": null,
   "metadata": {
    "id": "xzk1P3gTLerA"
   },
   "outputs": [],
   "source": [
    "total_data = data.drop([\"pm\",\"stator_yoke\",\"stator_tooth\",\"stator_winding\",\"torque\",\"i_q\"],axis=1)"
   ]
  },
  {
   "cell_type": "code",
   "execution_count": null,
   "metadata": {
    "colab": {
     "base_uri": "https://localhost:8080/",
     "height": 204
    },
    "id": "o3DA4GxFq_-u",
    "outputId": "3ff410f7-4210-4879-bc22-20a8f7fa2d5f"
   },
   "outputs": [
    {
     "data": {
      "text/html": [
       "<div>\n",
       "<style scoped>\n",
       "    .dataframe tbody tr th:only-of-type {\n",
       "        vertical-align: middle;\n",
       "    }\n",
       "\n",
       "    .dataframe tbody tr th {\n",
       "        vertical-align: top;\n",
       "    }\n",
       "\n",
       "    .dataframe thead th {\n",
       "        text-align: right;\n",
       "    }\n",
       "</style>\n",
       "<table border=\"1\" class=\"dataframe\">\n",
       "  <thead>\n",
       "    <tr style=\"text-align: right;\">\n",
       "      <th></th>\n",
       "      <th>ambient</th>\n",
       "      <th>coolant</th>\n",
       "      <th>u_d</th>\n",
       "      <th>u_q</th>\n",
       "      <th>motor_speed</th>\n",
       "      <th>i_d</th>\n",
       "      <th>profile_id</th>\n",
       "      <th>x_PCA</th>\n",
       "      <th>y_PCA1</th>\n",
       "      <th>y_PCA2</th>\n",
       "    </tr>\n",
       "  </thead>\n",
       "  <tbody>\n",
       "    <tr>\n",
       "      <th>0</th>\n",
       "      <td>-0.752143</td>\n",
       "      <td>-1.118446</td>\n",
       "      <td>0.327935</td>\n",
       "      <td>-1.297858</td>\n",
       "      <td>-1.222428</td>\n",
       "      <td>1.029572</td>\n",
       "      <td>4</td>\n",
       "      <td>0.346140</td>\n",
       "      <td>-4.183849</td>\n",
       "      <td>0.710603</td>\n",
       "    </tr>\n",
       "    <tr>\n",
       "      <th>1</th>\n",
       "      <td>-0.771263</td>\n",
       "      <td>-1.117021</td>\n",
       "      <td>0.329665</td>\n",
       "      <td>-1.297686</td>\n",
       "      <td>-1.222429</td>\n",
       "      <td>1.029509</td>\n",
       "      <td>4</td>\n",
       "      <td>0.345378</td>\n",
       "      <td>-4.182892</td>\n",
       "      <td>0.711435</td>\n",
       "    </tr>\n",
       "    <tr>\n",
       "      <th>2</th>\n",
       "      <td>-0.782892</td>\n",
       "      <td>-1.116681</td>\n",
       "      <td>0.332771</td>\n",
       "      <td>-1.301822</td>\n",
       "      <td>-1.222428</td>\n",
       "      <td>1.029448</td>\n",
       "      <td>4</td>\n",
       "      <td>0.345579</td>\n",
       "      <td>-4.182157</td>\n",
       "      <td>0.712094</td>\n",
       "    </tr>\n",
       "    <tr>\n",
       "      <th>3</th>\n",
       "      <td>-0.780935</td>\n",
       "      <td>-1.116764</td>\n",
       "      <td>0.333700</td>\n",
       "      <td>-1.301852</td>\n",
       "      <td>-1.222430</td>\n",
       "      <td>1.032845</td>\n",
       "      <td>4</td>\n",
       "      <td>0.345821</td>\n",
       "      <td>-4.181306</td>\n",
       "      <td>0.711346</td>\n",
       "    </tr>\n",
       "    <tr>\n",
       "      <th>4</th>\n",
       "      <td>-0.774043</td>\n",
       "      <td>-1.116775</td>\n",
       "      <td>0.335206</td>\n",
       "      <td>-1.303118</td>\n",
       "      <td>-1.222429</td>\n",
       "      <td>1.031807</td>\n",
       "      <td>4</td>\n",
       "      <td>0.345622</td>\n",
       "      <td>-4.181587</td>\n",
       "      <td>0.711486</td>\n",
       "    </tr>\n",
       "  </tbody>\n",
       "</table>\n",
       "</div>"
      ],
      "text/plain": [
       "    ambient   coolant       u_d  ...     x_PCA    y_PCA1    y_PCA2\n",
       "0 -0.752143 -1.118446  0.327935  ...  0.346140 -4.183849  0.710603\n",
       "1 -0.771263 -1.117021  0.329665  ...  0.345378 -4.182892  0.711435\n",
       "2 -0.782892 -1.116681  0.332771  ...  0.345579 -4.182157  0.712094\n",
       "3 -0.780935 -1.116764  0.333700  ...  0.345821 -4.181306  0.711346\n",
       "4 -0.774043 -1.116775  0.335206  ...  0.345622 -4.181587  0.711486\n",
       "\n",
       "[5 rows x 10 columns]"
      ]
     },
     "execution_count": 32,
     "metadata": {
      "tags": []
     },
     "output_type": "execute_result"
    }
   ],
   "source": [
    "total_data = pd.concat([total_data,x_pca,y_pca],axis=1)\n",
    "total_data.head()"
   ]
  },
  {
   "cell_type": "code",
   "execution_count": null,
   "metadata": {
    "id": "Ko-k0jq69EhX"
   },
   "outputs": [],
   "source": [
    "total_data = total_data.drop([\"y_PCA2\",\"profile_id\"],axis=1)"
   ]
  },
  {
   "cell_type": "code",
   "execution_count": null,
   "metadata": {
    "colab": {
     "base_uri": "https://localhost:8080/",
     "height": 885
    },
    "id": "kShscv9F0NR3",
    "outputId": "dc06f233-86d4-47d2-8f4a-5341dfe0d27f"
   },
   "outputs": [
    {
     "data": {
      "text/plain": [
       "<matplotlib.axes._subplots.AxesSubplot at 0x7fc513c276d8>"
      ]
     },
     "execution_count": 34,
     "metadata": {
      "tags": []
     },
     "output_type": "execute_result"
    },
    {
     "data": {
      "image/png": "[encoded data removed]",
      "text/plain": [
       "<Figure size 1080x1080 with 2 Axes>"
      ]
     },
     "metadata": {
      "needs_background": "light",
      "tags": []
     },
     "output_type": "display_data"
    }
   ],
   "source": [
    "plt.figure(figsize=(15,15))\n",
    "sns.heatmap(data = total_data.corr(), annot=True, \n",
    "fmt = '.2f', linewidths=.5, cmap='Blues')"
   ]
  },
  {
   "cell_type": "markdown",
   "metadata": {
    "id": "M1wozuuB60u-"
   },
   "source": [
    "- x_PCA와 u_d가 상관관계가 0.81로 강한모습을 보여줌\n",
    "- PCA 변수 축소하기 이전에 u_d와 i_q가 강한 음의 상관관계를 보였기 때문\n",
    "- linear regression 회귀분석 진행에 지장이 있을지 VIF 계수로 관찰"
   ]
  },
  {
   "cell_type": "code",
   "execution_count": null,
   "metadata": {
    "colab": {
     "base_uri": "https://localhost:8080/",
     "height": 297
    },
    "id": "CXK8rIEb8u_y",
    "outputId": "9d0a7929-0f9a-4f17-a2b5-468f8050bef5"
   },
   "outputs": [
    {
     "data": {
      "text/html": [
       "<div>\n",
       "<style scoped>\n",
       "    .dataframe tbody tr th:only-of-type {\n",
       "        vertical-align: middle;\n",
       "    }\n",
       "\n",
       "    .dataframe tbody tr th {\n",
       "        vertical-align: top;\n",
       "    }\n",
       "\n",
       "    .dataframe thead th {\n",
       "        text-align: right;\n",
       "    }\n",
       "</style>\n",
       "<table border=\"1\" class=\"dataframe\">\n",
       "  <thead>\n",
       "    <tr style=\"text-align: right;\">\n",
       "      <th></th>\n",
       "      <th>VIF Factor</th>\n",
       "      <th>features</th>\n",
       "    </tr>\n",
       "  </thead>\n",
       "  <tbody>\n",
       "    <tr>\n",
       "      <th>0</th>\n",
       "      <td>1.0</td>\n",
       "      <td>Intercept</td>\n",
       "    </tr>\n",
       "    <tr>\n",
       "      <th>1</th>\n",
       "      <td>1.3</td>\n",
       "      <td>ambient</td>\n",
       "    </tr>\n",
       "    <tr>\n",
       "      <th>2</th>\n",
       "      <td>1.3</td>\n",
       "      <td>coolant</td>\n",
       "    </tr>\n",
       "    <tr>\n",
       "      <th>3</th>\n",
       "      <td>3.9</td>\n",
       "      <td>u_d</td>\n",
       "    </tr>\n",
       "    <tr>\n",
       "      <th>4</th>\n",
       "      <td>4.8</td>\n",
       "      <td>u_q</td>\n",
       "    </tr>\n",
       "    <tr>\n",
       "      <th>5</th>\n",
       "      <td>10.7</td>\n",
       "      <td>motor_speed</td>\n",
       "    </tr>\n",
       "    <tr>\n",
       "      <th>6</th>\n",
       "      <td>5.0</td>\n",
       "      <td>i_d</td>\n",
       "    </tr>\n",
       "    <tr>\n",
       "      <th>7</th>\n",
       "      <td>4.0</td>\n",
       "      <td>x_PCA</td>\n",
       "    </tr>\n",
       "  </tbody>\n",
       "</table>\n",
       "</div>"
      ],
      "text/plain": [
       "   VIF Factor     features\n",
       "0         1.0    Intercept\n",
       "1         1.3      ambient\n",
       "2         1.3      coolant\n",
       "3         3.9          u_d\n",
       "4         4.8          u_q\n",
       "5        10.7  motor_speed\n",
       "6         5.0          i_d\n",
       "7         4.0        x_PCA"
      ]
     },
     "execution_count": 35,
     "metadata": {
      "tags": []
     },
     "output_type": "execute_result"
    }
   ],
   "source": [
    "from patsy import *\n",
    "from statsmodels.stats.outliers_influence import variance_inflation_factor\n",
    "vif_y, vif_x = dmatrices('y_PCA1 ~ ambient + coolant + u_d + u_q + motor_speed + i_d + motor_speed + i_d + x_PCA',data=total_data, return_type = \"dataframe\")\n",
    "vif = pd.DataFrame()\n",
    "vif[\"VIF Factor\"] = [variance_inflation_factor(vif_x.values, i) for i in range(vif_x.shape[1])]\n",
    "vif[\"features\"] = vif_x.columns\n",
    "vif.round(1)"
   ]
  },
  {
   "cell_type": "markdown",
   "metadata": {
    "id": "RZWtRyGA623V"
   },
   "source": [
    "- VIF 계수가 오히려 u_d보다 motor_speed에서 높게 나옴\n",
    "- 하지만 VIF 계수가 15를 넘어가지 않으므로 회귀분석에 지장이 없음."
   ]
  },
  {
   "cell_type": "code",
   "execution_count": null,
   "metadata": {
    "colab": {
     "base_uri": "https://localhost:8080/",
     "height": 221
    },
    "id": "0SZLkY-freGJ",
    "outputId": "c2f6d7bf-ed6a-4d37-e4c2-89ef0853029c"
   },
   "outputs": [
    {
     "name": "stdout",
     "output_type": "stream",
     "text": [
      "0   -4.183849\n",
      "1   -4.182892\n",
      "2   -4.182157\n",
      "3   -4.181306\n",
      "4   -4.181587\n",
      "Name: y_PCA1, dtype: float64\n",
      "    ambient   coolant       u_d       u_q  motor_speed       i_d     x_PCA\n",
      "0 -0.752143 -1.118446  0.327935 -1.297858    -1.222428  1.029572  0.346140\n",
      "1 -0.771263 -1.117021  0.329665 -1.297686    -1.222429  1.029509  0.345378\n",
      "2 -0.782892 -1.116681  0.332771 -1.301822    -1.222428  1.029448  0.345579\n",
      "3 -0.780935 -1.116764  0.333700 -1.301852    -1.222430  1.032845  0.345821\n",
      "4 -0.774043 -1.116775  0.335206 -1.303118    -1.222429  1.031807  0.345622\n"
     ]
    }
   ],
   "source": [
    "y = total_data.loc[:,\"y_PCA1\"]\n",
    "x = total_data.loc[:,:\"x_PCA\"]\n",
    "print(y.head())\n",
    "print(x.head())"
   ]
  },
  {
   "cell_type": "markdown",
   "metadata": {
    "id": "RxWY9Y4T7EKO"
   },
   "source": [
    "- 여러번 실험을 진행했으나 종속변수가 두 개일 경우 대다수의 sklearn에서 다중 종속변수를 지원하지 않음\n",
    "- 지난번 CNC Milling Dataset에서 다중 종속변수가 아닌 종속변수별 실험을 잘못 관측함\n",
    "- 이에 따라 주성분1만 종속변수로 설정. 종속변수의 제 1주성분은 0.87의 누적기여율을 가지므로 종속변수 대다수를 설명할 수 있기 때문에 분석진행."
   ]
  },
  {
   "cell_type": "markdown",
   "metadata": {
    "id": "wWhhYAn59G8O"
   },
   "source": [
    "#### Data split"
   ]
  },
  {
   "cell_type": "code",
   "execution_count": null,
   "metadata": {
    "id": "UrRJ5wJ6sTYb"
   },
   "outputs": [],
   "source": [
    "from sklearn.model_selection import train_test_split\n",
    "train_x,test_x,train_y,test_y = train_test_split(x,y,test_size=0.33,random_state=123)"
   ]
  },
  {
   "cell_type": "code",
   "execution_count": null,
   "metadata": {
    "colab": {
     "base_uri": "https://localhost:8080/",
     "height": 419
    },
    "id": "26ULDOfSs3rn",
    "outputId": "7825f2df-0f91-4a28-8687-539c0437833c"
   },
   "outputs": [
    {
     "data": {
      "text/html": [
       "<div>\n",
       "<style scoped>\n",
       "    .dataframe tbody tr th:only-of-type {\n",
       "        vertical-align: middle;\n",
       "    }\n",
       "\n",
       "    .dataframe tbody tr th {\n",
       "        vertical-align: top;\n",
       "    }\n",
       "\n",
       "    .dataframe thead th {\n",
       "        text-align: right;\n",
       "    }\n",
       "</style>\n",
       "<table border=\"1\" class=\"dataframe\">\n",
       "  <thead>\n",
       "    <tr style=\"text-align: right;\">\n",
       "      <th></th>\n",
       "      <th>ambient</th>\n",
       "      <th>coolant</th>\n",
       "      <th>u_d</th>\n",
       "      <th>u_q</th>\n",
       "      <th>motor_speed</th>\n",
       "      <th>i_d</th>\n",
       "      <th>x_PCA</th>\n",
       "    </tr>\n",
       "  </thead>\n",
       "  <tbody>\n",
       "    <tr>\n",
       "      <th>339259</th>\n",
       "      <td>-0.220472</td>\n",
       "      <td>-0.180476</td>\n",
       "      <td>-0.403790</td>\n",
       "      <td>1.546530</td>\n",
       "      <td>0.941941</td>\n",
       "      <td>-0.112864</td>\n",
       "      <td>-0.095223</td>\n",
       "    </tr>\n",
       "    <tr>\n",
       "      <th>327317</th>\n",
       "      <td>-0.459517</td>\n",
       "      <td>0.377016</td>\n",
       "      <td>0.315849</td>\n",
       "      <td>-1.330556</td>\n",
       "      <td>-1.222431</td>\n",
       "      <td>1.029147</td>\n",
       "      <td>0.349897</td>\n",
       "    </tr>\n",
       "    <tr>\n",
       "      <th>369436</th>\n",
       "      <td>-0.139411</td>\n",
       "      <td>0.323597</td>\n",
       "      <td>1.177675</td>\n",
       "      <td>0.139803</td>\n",
       "      <td>-0.348314</td>\n",
       "      <td>0.570178</td>\n",
       "      <td>1.917082</td>\n",
       "    </tr>\n",
       "    <tr>\n",
       "      <th>797124</th>\n",
       "      <td>-1.022138</td>\n",
       "      <td>-0.355820</td>\n",
       "      <td>0.848799</td>\n",
       "      <td>-0.518742</td>\n",
       "      <td>-0.729976</td>\n",
       "      <td>0.473903</td>\n",
       "      <td>2.150307</td>\n",
       "    </tr>\n",
       "    <tr>\n",
       "      <th>498</th>\n",
       "      <td>-0.802005</td>\n",
       "      <td>-1.054030</td>\n",
       "      <td>0.183145</td>\n",
       "      <td>1.676523</td>\n",
       "      <td>2.024118</td>\n",
       "      <td>-0.818369</td>\n",
       "      <td>0.362874</td>\n",
       "    </tr>\n",
       "    <tr>\n",
       "      <th>...</th>\n",
       "      <td>...</td>\n",
       "      <td>...</td>\n",
       "      <td>...</td>\n",
       "      <td>...</td>\n",
       "      <td>...</td>\n",
       "      <td>...</td>\n",
       "      <td>...</td>\n",
       "    </tr>\n",
       "    <tr>\n",
       "      <th>192476</th>\n",
       "      <td>-1.212341</td>\n",
       "      <td>-1.076090</td>\n",
       "      <td>0.286822</td>\n",
       "      <td>-1.168538</td>\n",
       "      <td>-1.189990</td>\n",
       "      <td>0.924248</td>\n",
       "      <td>-0.320327</td>\n",
       "    </tr>\n",
       "    <tr>\n",
       "      <th>17730</th>\n",
       "      <td>-0.581731</td>\n",
       "      <td>-1.057742</td>\n",
       "      <td>-0.955778</td>\n",
       "      <td>0.646803</td>\n",
       "      <td>-0.140251</td>\n",
       "      <td>0.386204</td>\n",
       "      <td>-1.530400</td>\n",
       "    </tr>\n",
       "    <tr>\n",
       "      <th>28030</th>\n",
       "      <td>0.074134</td>\n",
       "      <td>-1.094394</td>\n",
       "      <td>0.310154</td>\n",
       "      <td>-0.707684</td>\n",
       "      <td>-0.951874</td>\n",
       "      <td>1.029142</td>\n",
       "      <td>0.349658</td>\n",
       "    </tr>\n",
       "    <tr>\n",
       "      <th>277869</th>\n",
       "      <td>-2.749614</td>\n",
       "      <td>-1.090646</td>\n",
       "      <td>0.167840</td>\n",
       "      <td>0.403517</td>\n",
       "      <td>-0.410789</td>\n",
       "      <td>1.013982</td>\n",
       "      <td>0.144918</td>\n",
       "    </tr>\n",
       "    <tr>\n",
       "      <th>773630</th>\n",
       "      <td>0.391753</td>\n",
       "      <td>-0.608527</td>\n",
       "      <td>0.341855</td>\n",
       "      <td>-1.316392</td>\n",
       "      <td>-1.222430</td>\n",
       "      <td>1.029164</td>\n",
       "      <td>0.349895</td>\n",
       "    </tr>\n",
       "  </tbody>\n",
       "</table>\n",
       "<p>668706 rows × 7 columns</p>\n",
       "</div>"
      ],
      "text/plain": [
       "         ambient   coolant       u_d       u_q  motor_speed       i_d     x_PCA\n",
       "339259 -0.220472 -0.180476 -0.403790  1.546530     0.941941 -0.112864 -0.095223\n",
       "327317 -0.459517  0.377016  0.315849 -1.330556    -1.222431  1.029147  0.349897\n",
       "369436 -0.139411  0.323597  1.177675  0.139803    -0.348314  0.570178  1.917082\n",
       "797124 -1.022138 -0.355820  0.848799 -0.518742    -0.729976  0.473903  2.150307\n",
       "498    -0.802005 -1.054030  0.183145  1.676523     2.024118 -0.818369  0.362874\n",
       "...          ...       ...       ...       ...          ...       ...       ...\n",
       "192476 -1.212341 -1.076090  0.286822 -1.168538    -1.189990  0.924248 -0.320327\n",
       "17730  -0.581731 -1.057742 -0.955778  0.646803    -0.140251  0.386204 -1.530400\n",
       "28030   0.074134 -1.094394  0.310154 -0.707684    -0.951874  1.029142  0.349658\n",
       "277869 -2.749614 -1.090646  0.167840  0.403517    -0.410789  1.013982  0.144918\n",
       "773630  0.391753 -0.608527  0.341855 -1.316392    -1.222430  1.029164  0.349895\n",
       "\n",
       "[668706 rows x 7 columns]"
      ]
     },
     "execution_count": 38,
     "metadata": {
      "tags": []
     },
     "output_type": "execute_result"
    }
   ],
   "source": [
    "train_x"
   ]
  },
  {
   "cell_type": "code",
   "execution_count": null,
   "metadata": {
    "colab": {
     "base_uri": "https://localhost:8080/",
     "height": 419
    },
    "id": "Mt_XyNKYs5UT",
    "outputId": "f609cd2b-a8c0-4eda-ee4b-129e7b92b0b7"
   },
   "outputs": [
    {
     "data": {
      "text/html": [
       "<div>\n",
       "<style scoped>\n",
       "    .dataframe tbody tr th:only-of-type {\n",
       "        vertical-align: middle;\n",
       "    }\n",
       "\n",
       "    .dataframe tbody tr th {\n",
       "        vertical-align: top;\n",
       "    }\n",
       "\n",
       "    .dataframe thead th {\n",
       "        text-align: right;\n",
       "    }\n",
       "</style>\n",
       "<table border=\"1\" class=\"dataframe\">\n",
       "  <thead>\n",
       "    <tr style=\"text-align: right;\">\n",
       "      <th></th>\n",
       "      <th>ambient</th>\n",
       "      <th>coolant</th>\n",
       "      <th>u_d</th>\n",
       "      <th>u_q</th>\n",
       "      <th>motor_speed</th>\n",
       "      <th>i_d</th>\n",
       "      <th>x_PCA</th>\n",
       "    </tr>\n",
       "  </thead>\n",
       "  <tbody>\n",
       "    <tr>\n",
       "      <th>3111</th>\n",
       "      <td>-0.772997</td>\n",
       "      <td>-1.089701</td>\n",
       "      <td>0.182099</td>\n",
       "      <td>1.683184</td>\n",
       "      <td>2.024116</td>\n",
       "      <td>-0.752583</td>\n",
       "      <td>0.362052</td>\n",
       "    </tr>\n",
       "    <tr>\n",
       "      <th>799023</th>\n",
       "      <td>-1.011524</td>\n",
       "      <td>-0.419708</td>\n",
       "      <td>0.328520</td>\n",
       "      <td>-1.247393</td>\n",
       "      <td>-1.222433</td>\n",
       "      <td>1.029146</td>\n",
       "      <td>0.349892</td>\n",
       "    </tr>\n",
       "    <tr>\n",
       "      <th>584523</th>\n",
       "      <td>1.224529</td>\n",
       "      <td>1.242529</td>\n",
       "      <td>1.281067</td>\n",
       "      <td>1.360941</td>\n",
       "      <td>0.356871</td>\n",
       "      <td>0.650730</td>\n",
       "      <td>1.265631</td>\n",
       "    </tr>\n",
       "    <tr>\n",
       "      <th>877382</th>\n",
       "      <td>0.687867</td>\n",
       "      <td>1.011146</td>\n",
       "      <td>-0.805500</td>\n",
       "      <td>-0.243584</td>\n",
       "      <td>-0.525878</td>\n",
       "      <td>-0.214219</td>\n",
       "      <td>-2.441380</td>\n",
       "    </tr>\n",
       "    <tr>\n",
       "      <th>191182</th>\n",
       "      <td>-1.254247</td>\n",
       "      <td>-1.065719</td>\n",
       "      <td>-1.600072</td>\n",
       "      <td>-0.629632</td>\n",
       "      <td>1.282829</td>\n",
       "      <td>-1.899374</td>\n",
       "      <td>-0.916812</td>\n",
       "    </tr>\n",
       "    <tr>\n",
       "      <th>...</th>\n",
       "      <td>...</td>\n",
       "      <td>...</td>\n",
       "      <td>...</td>\n",
       "      <td>...</td>\n",
       "      <td>...</td>\n",
       "      <td>...</td>\n",
       "      <td>...</td>\n",
       "    </tr>\n",
       "    <tr>\n",
       "      <th>922450</th>\n",
       "      <td>0.371054</td>\n",
       "      <td>1.181418</td>\n",
       "      <td>0.575920</td>\n",
       "      <td>-0.285228</td>\n",
       "      <td>-0.673782</td>\n",
       "      <td>0.927992</td>\n",
       "      <td>1.034290</td>\n",
       "    </tr>\n",
       "    <tr>\n",
       "      <th>269749</th>\n",
       "      <td>-2.749857</td>\n",
       "      <td>-1.086847</td>\n",
       "      <td>0.224841</td>\n",
       "      <td>-0.254412</td>\n",
       "      <td>-0.735445</td>\n",
       "      <td>1.013972</td>\n",
       "      <td>0.145638</td>\n",
       "    </tr>\n",
       "    <tr>\n",
       "      <th>163334</th>\n",
       "      <td>-0.903968</td>\n",
       "      <td>-1.080274</td>\n",
       "      <td>-0.223364</td>\n",
       "      <td>-0.053758</td>\n",
       "      <td>-0.600171</td>\n",
       "      <td>0.703620</td>\n",
       "      <td>-0.907719</td>\n",
       "    </tr>\n",
       "    <tr>\n",
       "      <th>51334</th>\n",
       "      <td>2.017241</td>\n",
       "      <td>-0.166467</td>\n",
       "      <td>-1.175688</td>\n",
       "      <td>0.693532</td>\n",
       "      <td>1.483032</td>\n",
       "      <td>-1.000787</td>\n",
       "      <td>-0.468163</td>\n",
       "    </tr>\n",
       "    <tr>\n",
       "      <th>15117</th>\n",
       "      <td>-0.762328</td>\n",
       "      <td>-1.062182</td>\n",
       "      <td>0.300181</td>\n",
       "      <td>0.961246</td>\n",
       "      <td>-0.140246</td>\n",
       "      <td>1.029148</td>\n",
       "      <td>0.352162</td>\n",
       "    </tr>\n",
       "  </tbody>\n",
       "</table>\n",
       "<p>329364 rows × 7 columns</p>\n",
       "</div>"
      ],
      "text/plain": [
       "         ambient   coolant       u_d       u_q  motor_speed       i_d     x_PCA\n",
       "3111   -0.772997 -1.089701  0.182099  1.683184     2.024116 -0.752583  0.362052\n",
       "799023 -1.011524 -0.419708  0.328520 -1.247393    -1.222433  1.029146  0.349892\n",
       "584523  1.224529  1.242529  1.281067  1.360941     0.356871  0.650730  1.265631\n",
       "877382  0.687867  1.011146 -0.805500 -0.243584    -0.525878 -0.214219 -2.441380\n",
       "191182 -1.254247 -1.065719 -1.600072 -0.629632     1.282829 -1.899374 -0.916812\n",
       "...          ...       ...       ...       ...          ...       ...       ...\n",
       "922450  0.371054  1.181418  0.575920 -0.285228    -0.673782  0.927992  1.034290\n",
       "269749 -2.749857 -1.086847  0.224841 -0.254412    -0.735445  1.013972  0.145638\n",
       "163334 -0.903968 -1.080274 -0.223364 -0.053758    -0.600171  0.703620 -0.907719\n",
       "51334   2.017241 -0.166467 -1.175688  0.693532     1.483032 -1.000787 -0.468163\n",
       "15117  -0.762328 -1.062182  0.300181  0.961246    -0.140246  1.029148  0.352162\n",
       "\n",
       "[329364 rows x 7 columns]"
      ]
     },
     "execution_count": 39,
     "metadata": {
      "tags": []
     },
     "output_type": "execute_result"
    }
   ],
   "source": [
    "test_x"
   ]
  },
  {
   "cell_type": "code",
   "execution_count": null,
   "metadata": {
    "colab": {
     "base_uri": "https://localhost:8080/",
     "height": 221
    },
    "id": "RS1-bwnUs6hJ",
    "outputId": "1d5dcbe0-6a8f-4702-baaf-41f9d2faa883"
   },
   "outputs": [
    {
     "data": {
      "text/plain": [
       "339259   -0.560281\n",
       "327317   -1.505569\n",
       "369436    0.500476\n",
       "797124   -2.812158\n",
       "498      -2.305082\n",
       "            ...   \n",
       "192476   -2.067085\n",
       "17730    -2.270284\n",
       "28030    -3.230032\n",
       "277869   -2.842089\n",
       "773630   -1.056901\n",
       "Name: y_PCA1, Length: 668706, dtype: float64"
      ]
     },
     "execution_count": 40,
     "metadata": {
      "tags": []
     },
     "output_type": "execute_result"
    }
   ],
   "source": [
    "train_y"
   ]
  },
  {
   "cell_type": "code",
   "execution_count": null,
   "metadata": {
    "colab": {
     "base_uri": "https://localhost:8080/",
     "height": 221
    },
    "id": "DfRt0yc-s6tG",
    "outputId": "af6ee717-f1d8-42a1-ec25-ae649c88be85"
   },
   "outputs": [
    {
     "data": {
      "text/plain": [
       "3111     -0.859529\n",
       "799023   -1.258588\n",
       "584523    3.039521\n",
       "877382    2.292146\n",
       "191182    1.860084\n",
       "            ...   \n",
       "922450    1.394634\n",
       "269749   -2.936086\n",
       "163334   -2.701975\n",
       "51334     2.931718\n",
       "15117    -3.402462\n",
       "Name: y_PCA1, Length: 329364, dtype: float64"
      ]
     },
     "execution_count": 41,
     "metadata": {
      "tags": []
     },
     "output_type": "execute_result"
    }
   ],
   "source": [
    "test_y"
   ]
  },
  {
   "cell_type": "markdown",
   "metadata": {
    "id": "zaGKzJJS9bSV"
   },
   "source": [
    "### Linear regression"
   ]
  },
  {
   "cell_type": "code",
   "execution_count": null,
   "metadata": {
    "id": "I9KZQDiYteGV"
   },
   "outputs": [],
   "source": [
    "import statsmodels.api as sm\n",
    "lm = sm.OLS(train_y,train_x)"
   ]
  },
  {
   "cell_type": "code",
   "execution_count": null,
   "metadata": {
    "id": "n324b1MItltH"
   },
   "outputs": [],
   "source": [
    "model=lm.fit()"
   ]
  },
  {
   "cell_type": "code",
   "execution_count": null,
   "metadata": {
    "colab": {
     "base_uri": "https://localhost:8080/",
     "height": 549
    },
    "id": "KtL8fKsTtoLw",
    "outputId": "e0b31782-be35-43d3-81bb-d08373c57de8"
   },
   "outputs": [
    {
     "data": {
      "text/html": [
       "<table class=\"simpletable\">\n",
       "<caption>OLS Regression Results</caption>\n",
       "<tr>\n",
       "  <th>Dep. Variable:</th>         <td>y_PCA1</td>      <th>  R-squared (uncentered):</th>       <td>   0.687</td>  \n",
       "</tr>\n",
       "<tr>\n",
       "  <th>Model:</th>                   <td>OLS</td>       <th>  Adj. R-squared (uncentered):</th>  <td>   0.687</td>  \n",
       "</tr>\n",
       "<tr>\n",
       "  <th>Method:</th>             <td>Least Squares</td>  <th>  F-statistic:       </th>           <td>2.098e+05</td> \n",
       "</tr>\n",
       "<tr>\n",
       "  <th>Date:</th>             <td>Mon, 20 Jul 2020</td> <th>  Prob (F-statistic):</th>            <td>  0.00</td>   \n",
       "</tr>\n",
       "<tr>\n",
       "  <th>Time:</th>                 <td>06:07:16</td>     <th>  Log-Likelihood:    </th>          <td>-9.7776e+05</td>\n",
       "</tr>\n",
       "<tr>\n",
       "  <th>No. Observations:</th>      <td>668706</td>      <th>  AIC:               </th>           <td>1.956e+06</td> \n",
       "</tr>\n",
       "<tr>\n",
       "  <th>Df Residuals:</th>          <td>668699</td>      <th>  BIC:               </th>           <td>1.956e+06</td> \n",
       "</tr>\n",
       "<tr>\n",
       "  <th>Df Model:</th>              <td>     7</td>      <th>                     </th>               <td> </td>     \n",
       "</tr>\n",
       "<tr>\n",
       "  <th>Covariance Type:</th>      <td>nonrobust</td>    <th>                     </th>               <td> </td>     \n",
       "</tr>\n",
       "</table>\n",
       "<table class=\"simpletable\">\n",
       "<tr>\n",
       "       <td></td>          <th>coef</th>     <th>std err</th>      <th>t</th>      <th>P>|t|</th>  <th>[0.025</th>    <th>0.975]</th>  \n",
       "</tr>\n",
       "<tr>\n",
       "  <th>ambient</th>     <td>    0.3034</td> <td>    0.001</td> <td>  206.817</td> <td> 0.000</td> <td>    0.301</td> <td>    0.306</td>\n",
       "</tr>\n",
       "<tr>\n",
       "  <th>coolant</th>     <td>    1.2309</td> <td>    0.001</td> <td>  862.211</td> <td> 0.000</td> <td>    1.228</td> <td>    1.234</td>\n",
       "</tr>\n",
       "<tr>\n",
       "  <th>u_d</th>         <td>   -0.1618</td> <td>    0.003</td> <td>  -64.375</td> <td> 0.000</td> <td>   -0.167</td> <td>   -0.157</td>\n",
       "</tr>\n",
       "<tr>\n",
       "  <th>u_q</th>         <td>   -0.0041</td> <td>    0.003</td> <td>   -1.456</td> <td> 0.145</td> <td>   -0.010</td> <td>    0.001</td>\n",
       "</tr>\n",
       "<tr>\n",
       "  <th>motor_speed</th> <td>    0.0610</td> <td>    0.004</td> <td>   14.636</td> <td> 0.000</td> <td>    0.053</td> <td>    0.069</td>\n",
       "</tr>\n",
       "<tr>\n",
       "  <th>i_d</th>         <td>   -0.7517</td> <td>    0.003</td> <td> -263.702</td> <td> 0.000</td> <td>   -0.757</td> <td>   -0.746</td>\n",
       "</tr>\n",
       "<tr>\n",
       "  <th>x_PCA</th>       <td>    0.0322</td> <td>    0.002</td> <td>   17.852</td> <td> 0.000</td> <td>    0.029</td> <td>    0.036</td>\n",
       "</tr>\n",
       "</table>\n",
       "<table class=\"simpletable\">\n",
       "<tr>\n",
       "  <th>Omnibus:</th>       <td>14606.560</td> <th>  Durbin-Watson:     </th> <td>   2.000</td> \n",
       "</tr>\n",
       "<tr>\n",
       "  <th>Prob(Omnibus):</th>  <td> 0.000</td>   <th>  Jarque-Bera (JB):  </th> <td>20444.172</td>\n",
       "</tr>\n",
       "<tr>\n",
       "  <th>Skew:</th>           <td> 0.259</td>   <th>  Prob(JB):          </th> <td>    0.00</td> \n",
       "</tr>\n",
       "<tr>\n",
       "  <th>Kurtosis:</th>       <td> 3.683</td>   <th>  Cond. No.          </th> <td>    7.79</td> \n",
       "</tr>\n",
       "</table><br/><br/>Warnings:<br/>[1] Standard Errors assume that the covariance matrix of the errors is correctly specified."
      ],
      "text/plain": [
       "<class 'statsmodels.iolib.summary.Summary'>\n",
       "\"\"\"\n",
       "                                 OLS Regression Results                                \n",
       "=======================================================================================\n",
       "Dep. Variable:                 y_PCA1   R-squared (uncentered):                   0.687\n",
       "Model:                            OLS   Adj. R-squared (uncentered):              0.687\n",
       "Method:                 Least Squares   F-statistic:                          2.098e+05\n",
       "Date:                Mon, 20 Jul 2020   Prob (F-statistic):                        0.00\n",
       "Time:                        06:07:16   Log-Likelihood:                     -9.7776e+05\n",
       "No. Observations:              668706   AIC:                                  1.956e+06\n",
       "Df Residuals:                  668699   BIC:                                  1.956e+06\n",
       "Df Model:                           7                                                  \n",
       "Covariance Type:            nonrobust                                                  \n",
       "===============================================================================\n",
       "                  coef    std err          t      P>|t|      [0.025      0.975]\n",
       "-------------------------------------------------------------------------------\n",
       "ambient         0.3034      0.001    206.817      0.000       0.301       0.306\n",
       "coolant         1.2309      0.001    862.211      0.000       1.228       1.234\n",
       "u_d            -0.1618      0.003    -64.375      0.000      -0.167      -0.157\n",
       "u_q            -0.0041      0.003     -1.456      0.145      -0.010       0.001\n",
       "motor_speed     0.0610      0.004     14.636      0.000       0.053       0.069\n",
       "i_d            -0.7517      0.003   -263.702      0.000      -0.757      -0.746\n",
       "x_PCA           0.0322      0.002     17.852      0.000       0.029       0.036\n",
       "==============================================================================\n",
       "Omnibus:                    14606.560   Durbin-Watson:                   2.000\n",
       "Prob(Omnibus):                  0.000   Jarque-Bera (JB):            20444.172\n",
       "Skew:                           0.259   Prob(JB):                         0.00\n",
       "Kurtosis:                       3.683   Cond. No.                         7.79\n",
       "==============================================================================\n",
       "\n",
       "Warnings:\n",
       "[1] Standard Errors assume that the covariance matrix of the errors is correctly specified.\n",
       "\"\"\""
      ]
     },
     "execution_count": 44,
     "metadata": {
      "tags": []
     },
     "output_type": "execute_result"
    }
   ],
   "source": [
    "model.summary()"
   ]
  },
  {
   "cell_type": "markdown",
   "metadata": {
    "id": "uTFpjXKRwLV1"
   },
   "source": [
    "회귀분석 결과 통계적으로 무의미한 변수는 다음과 같음.\n",
    "> u_q(p-value : 0.066)   \n",
    "\n",
    "- 우려했던 motor_speed보다 PCA후 상관관계가 존재했던 u_q 변수가 탈락함을 관측.   \n",
    "\n",
    "해당 변수를 제외하고 회귀모델에 적합한 모델이라고 판단할 수 있음.\n",
    "train_x에서 u_q를 제외하고 다시 회귀모델 훈련 진행\n"
   ]
  },
  {
   "cell_type": "code",
   "execution_count": null,
   "metadata": {
    "colab": {
     "base_uri": "https://localhost:8080/",
     "height": 528
    },
    "id": "s6sYXhOHw7Kr",
    "outputId": "76901e39-1b8c-49b0-a0b1-93e3a1baf771"
   },
   "outputs": [
    {
     "data": {
      "text/html": [
       "<table class=\"simpletable\">\n",
       "<caption>OLS Regression Results</caption>\n",
       "<tr>\n",
       "  <th>Dep. Variable:</th>         <td>y_PCA1</td>      <th>  R-squared (uncentered):</th>       <td>   0.687</td>  \n",
       "</tr>\n",
       "<tr>\n",
       "  <th>Model:</th>                   <td>OLS</td>       <th>  Adj. R-squared (uncentered):</th>  <td>   0.687</td>  \n",
       "</tr>\n",
       "<tr>\n",
       "  <th>Method:</th>             <td>Least Squares</td>  <th>  F-statistic:       </th>           <td>2.447e+05</td> \n",
       "</tr>\n",
       "<tr>\n",
       "  <th>Date:</th>             <td>Mon, 20 Jul 2020</td> <th>  Prob (F-statistic):</th>            <td>  0.00</td>   \n",
       "</tr>\n",
       "<tr>\n",
       "  <th>Time:</th>                 <td>06:07:17</td>     <th>  Log-Likelihood:    </th>          <td>-9.7776e+05</td>\n",
       "</tr>\n",
       "<tr>\n",
       "  <th>No. Observations:</th>      <td>668706</td>      <th>  AIC:               </th>           <td>1.956e+06</td> \n",
       "</tr>\n",
       "<tr>\n",
       "  <th>Df Residuals:</th>          <td>668700</td>      <th>  BIC:               </th>           <td>1.956e+06</td> \n",
       "</tr>\n",
       "<tr>\n",
       "  <th>Df Model:</th>              <td>     6</td>      <th>                     </th>               <td> </td>     \n",
       "</tr>\n",
       "<tr>\n",
       "  <th>Covariance Type:</th>      <td>nonrobust</td>    <th>                     </th>               <td> </td>     \n",
       "</tr>\n",
       "</table>\n",
       "<table class=\"simpletable\">\n",
       "<tr>\n",
       "       <td></td>          <th>coef</th>     <th>std err</th>      <th>t</th>      <th>P>|t|</th>  <th>[0.025</th>    <th>0.975]</th>  \n",
       "</tr>\n",
       "<tr>\n",
       "  <th>ambient</th>     <td>    0.3033</td> <td>    0.001</td> <td>  206.883</td> <td> 0.000</td> <td>    0.300</td> <td>    0.306</td>\n",
       "</tr>\n",
       "<tr>\n",
       "  <th>coolant</th>     <td>    1.2309</td> <td>    0.001</td> <td>  862.228</td> <td> 0.000</td> <td>    1.228</td> <td>    1.234</td>\n",
       "</tr>\n",
       "<tr>\n",
       "  <th>u_d</th>         <td>   -0.1631</td> <td>    0.002</td> <td>  -69.111</td> <td> 0.000</td> <td>   -0.168</td> <td>   -0.158</td>\n",
       "</tr>\n",
       "<tr>\n",
       "  <th>motor_speed</th> <td>    0.0556</td> <td>    0.002</td> <td>   28.576</td> <td> 0.000</td> <td>    0.052</td> <td>    0.059</td>\n",
       "</tr>\n",
       "<tr>\n",
       "  <th>i_d</th>         <td>   -0.7548</td> <td>    0.002</td> <td> -386.772</td> <td> 0.000</td> <td>   -0.759</td> <td>   -0.751</td>\n",
       "</tr>\n",
       "<tr>\n",
       "  <th>x_PCA</th>       <td>    0.0333</td> <td>    0.002</td> <td>   20.148</td> <td> 0.000</td> <td>    0.030</td> <td>    0.037</td>\n",
       "</tr>\n",
       "</table>\n",
       "<table class=\"simpletable\">\n",
       "<tr>\n",
       "  <th>Omnibus:</th>       <td>14660.922</td> <th>  Durbin-Watson:     </th> <td>   2.000</td> \n",
       "</tr>\n",
       "<tr>\n",
       "  <th>Prob(Omnibus):</th>  <td> 0.000</td>   <th>  Jarque-Bera (JB):  </th> <td>20533.784</td>\n",
       "</tr>\n",
       "<tr>\n",
       "  <th>Skew:</th>           <td> 0.259</td>   <th>  Prob(JB):          </th> <td>    0.00</td> \n",
       "</tr>\n",
       "<tr>\n",
       "  <th>Kurtosis:</th>       <td> 3.684</td>   <th>  Cond. No.          </th> <td>    3.95</td> \n",
       "</tr>\n",
       "</table><br/><br/>Warnings:<br/>[1] Standard Errors assume that the covariance matrix of the errors is correctly specified."
      ],
      "text/plain": [
       "<class 'statsmodels.iolib.summary.Summary'>\n",
       "\"\"\"\n",
       "                                 OLS Regression Results                                \n",
       "=======================================================================================\n",
       "Dep. Variable:                 y_PCA1   R-squared (uncentered):                   0.687\n",
       "Model:                            OLS   Adj. R-squared (uncentered):              0.687\n",
       "Method:                 Least Squares   F-statistic:                          2.447e+05\n",
       "Date:                Mon, 20 Jul 2020   Prob (F-statistic):                        0.00\n",
       "Time:                        06:07:17   Log-Likelihood:                     -9.7776e+05\n",
       "No. Observations:              668706   AIC:                                  1.956e+06\n",
       "Df Residuals:                  668700   BIC:                                  1.956e+06\n",
       "Df Model:                           6                                                  \n",
       "Covariance Type:            nonrobust                                                  \n",
       "===============================================================================\n",
       "                  coef    std err          t      P>|t|      [0.025      0.975]\n",
       "-------------------------------------------------------------------------------\n",
       "ambient         0.3033      0.001    206.883      0.000       0.300       0.306\n",
       "coolant         1.2309      0.001    862.228      0.000       1.228       1.234\n",
       "u_d            -0.1631      0.002    -69.111      0.000      -0.168      -0.158\n",
       "motor_speed     0.0556      0.002     28.576      0.000       0.052       0.059\n",
       "i_d            -0.7548      0.002   -386.772      0.000      -0.759      -0.751\n",
       "x_PCA           0.0333      0.002     20.148      0.000       0.030       0.037\n",
       "==============================================================================\n",
       "Omnibus:                    14660.922   Durbin-Watson:                   2.000\n",
       "Prob(Omnibus):                  0.000   Jarque-Bera (JB):            20533.784\n",
       "Skew:                           0.259   Prob(JB):                         0.00\n",
       "Kurtosis:                       3.684   Cond. No.                         3.95\n",
       "==============================================================================\n",
       "\n",
       "Warnings:\n",
       "[1] Standard Errors assume that the covariance matrix of the errors is correctly specified.\n",
       "\"\"\""
      ]
     },
     "execution_count": 45,
     "metadata": {
      "tags": []
     },
     "output_type": "execute_result"
    }
   ],
   "source": [
    "import statsmodels.api as sm\n",
    "lm1 = sm.OLS(train_y,train_x.drop([\"u_q\"],axis=1))\n",
    "model=lm1.fit()\n",
    "model.summary()"
   ]
  },
  {
   "cell_type": "markdown",
   "metadata": {
    "id": "DexXMN6486rR"
   },
   "source": [
    "- 변수 i_q를 제거해도 모델의 R2-score나 각 변수들의 coef는 그대로인 것을 확인함.\n",
    "\n",
    "- 따라서 기존모델로 predict 값을 산출해도 지장이 없을것이라고 예상.\n"
   ]
  },
  {
   "cell_type": "code",
   "execution_count": null,
   "metadata": {
    "id": "uBPbucUM-lfF"
   },
   "outputs": [],
   "source": [
    "import numpy as np\n",
    "F_test = model.f_test(np.identity(6))"
   ]
  },
  {
   "cell_type": "code",
   "execution_count": null,
   "metadata": {
    "colab": {
     "base_uri": "https://localhost:8080/",
     "height": 51
    },
    "id": "VlHAyiny_UVf",
    "outputId": "11aacdc2-a178-4057-c0e8-9aa62c3b77ba"
   },
   "outputs": [
    {
     "data": {
      "text/plain": [
       "<class 'statsmodels.stats.contrast.ContrastResults'>\n",
       "<F test: F=array([[244741.3914587]]), p=0.0, df_denom=6.69e+05, df_num=6>"
      ]
     },
     "execution_count": 47,
     "metadata": {
      "tags": []
     },
     "output_type": "execute_result"
    }
   ],
   "source": [
    "F_test"
   ]
  },
  {
   "cell_type": "markdown",
   "metadata": {
    "id": "8ZNsMMKW_T9J"
   },
   "source": [
    "F 검정 확인결과 해당 회귀모델은 통계적으로 유의함을 알 수 있다. (p-value = 0 < 0.05)"
   ]
  },
  {
   "cell_type": "code",
   "execution_count": null,
   "metadata": {
    "colab": {
     "base_uri": "https://localhost:8080/",
     "height": 34
    },
    "id": "Pw7sCtk29IRL",
    "outputId": "d17a2800-abf2-43a3-db03-526d31900172"
   },
   "outputs": [
    {
     "data": {
      "text/plain": [
       "LinearRegression(copy_X=True, fit_intercept=True, n_jobs=None, normalize=False)"
      ]
     },
     "execution_count": 48,
     "metadata": {
      "tags": []
     },
     "output_type": "execute_result"
    }
   ],
   "source": [
    "from sklearn.linear_model import LinearRegression\n",
    "model_reg = LinearRegression(fit_intercept = True)\n",
    "model_reg.fit(train_x,train_y)"
   ]
  },
  {
   "cell_type": "code",
   "execution_count": null,
   "metadata": {
    "colab": {
     "base_uri": "https://localhost:8080/",
     "height": 280
    },
    "id": "JBPao8LO9hqx",
    "outputId": "8ffc3ea1-5abe-43a5-b76e-90239d6c6741"
   },
   "outputs": [
    {
     "data": {
      "image/png": "[encoded data removed]",
      "text/plain": [
       "<Figure size 432x288 with 1 Axes>"
      ]
     },
     "metadata": {
      "needs_background": "light",
      "tags": []
     },
     "output_type": "display_data"
    }
   ],
   "source": [
    "import numpy as np\n",
    "y_predict = model_reg.predict(test_x)\n",
    "plt.scatter(test_y,y_predict, alpha=0.4)\n",
    "line = np.linspace(min(test_y.values), max(test_y.values), 1000)\n",
    "plt.plot(line, line, color = 'r')\n",
    "plt.xlabel('stand_y_test')\n",
    "plt.ylabel('stand_y_pred')\n",
    "plt.show()"
   ]
  },
  {
   "cell_type": "markdown",
   "metadata": {
    "id": "uVPRlZZU9t0-"
   },
   "source": [
    "- 산점도로 예측값과 실제값 비교분석 불가능   \n",
    "- 데이터가 너무 많기 때문   \n",
    "- 따라서 예측값과 실제값의 히스토그램을 통해 비교분석 진행"
   ]
  },
  {
   "cell_type": "code",
   "execution_count": null,
   "metadata": {
    "colab": {
     "base_uri": "https://localhost:8080/",
     "height": 282
    },
    "id": "Ah-tbpXg-P6d",
    "outputId": "5f41ced9-4175-439d-c56c-2140b9d329bb"
   },
   "outputs": [
    {
     "data": {
      "text/plain": [
       "<matplotlib.axes._subplots.AxesSubplot at 0x7fc509e00dd8>"
      ]
     },
     "execution_count": 50,
     "metadata": {
      "tags": []
     },
     "output_type": "execute_result"
    },
    {
     "data": {
      "image/png": "[encoded data removed]",
      "text/plain": [
       "<Figure size 432x288 with 1 Axes>"
      ]
     },
     "metadata": {
      "needs_background": "light",
      "tags": []
     },
     "output_type": "display_data"
    }
   ],
   "source": [
    "test_y.hist()"
   ]
  },
  {
   "cell_type": "code",
   "execution_count": null,
   "metadata": {
    "colab": {
     "base_uri": "https://localhost:8080/",
     "height": 282
    },
    "id": "-2AO-vd6-Tny",
    "outputId": "d96cf418-7840-4435-b1e9-c4ff4ed81e95"
   },
   "outputs": [
    {
     "data": {
      "text/plain": [
       "<matplotlib.axes._subplots.AxesSubplot at 0x7fc509dd06d8>"
      ]
     },
     "execution_count": 51,
     "metadata": {
      "tags": []
     },
     "output_type": "execute_result"
    },
    {
     "data": {
      "image/png": "[encoded data removed]",
      "text/plain": [
       "<Figure size 432x288 with 1 Axes>"
      ]
     },
     "metadata": {
      "needs_background": "light",
      "tags": []
     },
     "output_type": "display_data"
    }
   ],
   "source": [
    "pd.Series(y_predict).hist()"
   ]
  },
  {
   "cell_type": "markdown",
   "metadata": {
    "id": "IPUqHU8_-Oow"
   },
   "source": [
    "- 예측값이 실제값에 비해 왼쪽으로 편향되있음을 관측\n",
    "- r2_score가 0.68임을 감안하면 정상적으로 예측값이 출력됐음을 확인."
   ]
  },
  {
   "cell_type": "code",
   "execution_count": null,
   "metadata": {
    "id": "LZgnWM2x-289"
   },
   "outputs": [],
   "source": [
    "from sklearn.metrics import mean_squared_error, r2_score\n",
    "mse = mean_squared_error(test_y, y_predict)\n",
    "rmse = np.sqrt(mse)"
   ]
  },
  {
   "cell_type": "code",
   "execution_count": null,
   "metadata": {
    "colab": {
     "base_uri": "https://localhost:8080/",
     "height": 34
    },
    "id": "GI6buGum_A7i",
    "outputId": "eb11e015-cb37-4344-a484-29c525299942"
   },
   "outputs": [
    {
     "name": "stdout",
     "output_type": "stream",
     "text": [
      "MSE : 1.090, RMSE : 1.044\n"
     ]
    }
   ],
   "source": [
    "print('MSE : {0:.3f}, RMSE : {1:.3f}'.format(mse,rmse))"
   ]
  },
  {
   "cell_type": "code",
   "execution_count": null,
   "metadata": {
    "colab": {
     "base_uri": "https://localhost:8080/",
     "height": 34
    },
    "id": "I7hejkOO_B2m",
    "outputId": "a0fc6641-7a16-4762-88fa-b1f3ca2d29f7"
   },
   "outputs": [
    {
     "name": "stdout",
     "output_type": "stream",
     "text": [
      "Variance score : 0.685\n"
     ]
    }
   ],
   "source": [
    "print('Variance score : {0:.3f}'.format(r2_score(test_y,y_predict)))"
   ]
  },
  {
   "cell_type": "code",
   "execution_count": null,
   "metadata": {
    "colab": {
     "base_uri": "https://localhost:8080/",
     "height": 34
    },
    "id": "bP4U3W_E_CtC",
    "outputId": "1dfed6a8-d123-4707-fd36-b7cf0f79d9b1"
   },
   "outputs": [
    {
     "name": "stdout",
     "output_type": "stream",
     "text": [
      "R2 score : 0.687\n"
     ]
    }
   ],
   "source": [
    "print('R2 score : {0:.3f}'.format(model_reg.score(train_x, train_y)))"
   ]
  },
  {
   "cell_type": "markdown",
   "metadata": {
    "id": "P_i8StAfQhTS"
   },
   "source": [
    "### 실험 결과\n",
    "- 전처리를 통해 높은 R2 score를 가질수 있었고 예측값 또한 나쁘지 않게 생성   \n",
    "- 기존의 값보다 다소 왼쪽으로 편향된 값 생성   \n",
    "- 하지만 회귀식에서 변수가 높은 계수를 얻었다고 해도 회귀식 안에서만 유용하지 실제로 그 변수가 종속변수와 밀접한 관계를 가졌다고 해석하기에는 힘듬.\n",
    "\n",
    "ex) y = 0.7x1 + 0.3x2 일때 y와 x1이 양의 관계를 가졌다고 판단하는건 회귀식 안에서만 가능.\n",
    "\n"
   ]
  },
  {
   "cell_type": "markdown",
   "metadata": {
    "id": "O4cZB1kwOzKv"
   },
   "source": [
    "### Decision Tree model 사용"
   ]
  },
  {
   "cell_type": "code",
   "execution_count": null,
   "metadata": {
    "colab": {
     "base_uri": "https://localhost:8080/",
     "height": 34
    },
    "id": "ypbHZUThOxvv",
    "outputId": "823ad9f6-d0c0-4567-acbf-597f40590afa"
   },
   "outputs": [
    {
     "name": "stdout",
     "output_type": "stream",
     "text": [
      "Decision Tree model time :  13.485268354415894\n"
     ]
    }
   ],
   "source": [
    "from sklearn import tree\n",
    "import time\n",
    "start = time.time()\n",
    "\n",
    "clf = tree.DecisionTreeRegressor()\n",
    "model_clf = clf.fit(train_x,train_y)\n",
    "print(\"Decision Tree model time : \", time.time() - start)"
   ]
  },
  {
   "cell_type": "code",
   "execution_count": null,
   "metadata": {
    "colab": {
     "base_uri": "https://localhost:8080/",
     "height": 296
    },
    "id": "4DVkzNB5Rg_d",
    "outputId": "a59af074-c742-4a3a-8d2a-d0824c884316"
   },
   "outputs": [
    {
     "data": {
      "image/png": "[encoded data removed]",
      "text/plain": [
       "<Figure size 432x288 with 1 Axes>"
      ]
     },
     "metadata": {
      "needs_background": "light",
      "tags": []
     },
     "output_type": "display_data"
    }
   ],
   "source": [
    "clf_y_predict = model_clf.predict(test_x)\n",
    "plt.scatter(test_y,clf_y_predict, alpha=0.4)\n",
    "line = np.linspace(min(test_y.values), max(test_y.values), 1000)\n",
    "plt.plot(line, line, color = 'r')\n",
    "plt.title(\"Decision Tree model\")\n",
    "plt.xlabel('stand_y_test')\n",
    "plt.ylabel('stand_y_pred')\n",
    "plt.show()\n"
   ]
  },
  {
   "cell_type": "markdown",
   "metadata": {
    "id": "P_ZgIrus_jT9"
   },
   "source": [
    "- 산점도 역시 비교분석하기 힘들지만 선형 회귀모델에 비해 비교적 회귀직선에 수렴한 분포를 확인할 수 있었다.\n",
    "- 히스토그램을 통해 보다 자세하게 분석"
   ]
  },
  {
   "cell_type": "code",
   "execution_count": null,
   "metadata": {
    "colab": {
     "base_uri": "https://localhost:8080/",
     "height": 282
    },
    "id": "OyYuZQRxR4BD",
    "outputId": "dfa8bdb9-292a-4602-d0ba-34dbb3a3c1d4"
   },
   "outputs": [
    {
     "data": {
      "text/plain": [
       "<matplotlib.axes._subplots.AxesSubplot at 0x7fc509cda3c8>"
      ]
     },
     "execution_count": 58,
     "metadata": {
      "tags": []
     },
     "output_type": "execute_result"
    },
    {
     "data": {
      "image/png": "[encoded data removed]",
      "text/plain": [
       "<Figure size 432x288 with 1 Axes>"
      ]
     },
     "metadata": {
      "needs_background": "light",
      "tags": []
     },
     "output_type": "display_data"
    }
   ],
   "source": [
    "test_y.hist()"
   ]
  },
  {
   "cell_type": "code",
   "execution_count": null,
   "metadata": {
    "colab": {
     "base_uri": "https://localhost:8080/",
     "height": 282
    },
    "id": "WZeuze1UR6pB",
    "outputId": "9153dacb-827c-42e9-f9c9-f81d2f7b5129"
   },
   "outputs": [
    {
     "data": {
      "text/plain": [
       "<matplotlib.axes._subplots.AxesSubplot at 0x7fc50872d1d0>"
      ]
     },
     "execution_count": 59,
     "metadata": {
      "tags": []
     },
     "output_type": "execute_result"
    },
    {
     "data": {
      "image/png": "[encoded data removed]",
      "text/plain": [
       "<Figure size 432x288 with 1 Axes>"
      ]
     },
     "metadata": {
      "needs_background": "light",
      "tags": []
     },
     "output_type": "display_data"
    }
   ],
   "source": [
    "pd.Series(clf_y_predict).hist()"
   ]
  },
  {
   "cell_type": "markdown",
   "metadata": {
    "id": "Te_Ck_ZB_8pe"
   },
   "source": [
    "- 실제값과 거의 동일한 분포의 값들이 산출\n",
    "- Decision Tree만으로도 충분히 의미있는 결과값 산출을 할 수 있다.\n",
    "- 앙상블 모델로 accuracy 0.01라도 끌어올릴 수 있다면?\n",
    "- 추가 분석 진행"
   ]
  },
  {
   "cell_type": "code",
   "execution_count": null,
   "metadata": {
    "colab": {
     "base_uri": "https://localhost:8080/",
     "height": 68
    },
    "id": "eUHorPzwSC0b",
    "outputId": "63de0800-36e0-4108-920f-33fd7e551c30"
   },
   "outputs": [
    {
     "name": "stdout",
     "output_type": "stream",
     "text": [
      "MSE : 0.091, RMSE : 0.302\n",
      "Variance score : 0.974\n",
      "R2 score : 1.000\n"
     ]
    }
   ],
   "source": [
    "clf_mse = mean_squared_error(test_y, clf_y_predict)\n",
    "clf_rmse = np.sqrt(clf_mse)\n",
    "print('MSE : {0:.3f}, RMSE : {1:.3f}'.format(clf_mse,clf_rmse))\n",
    "print('Variance score : {0:.3f}'.format(r2_score(test_y,clf_y_predict)))\n",
    "print('R2 score : {0:.3f}'.format(model_clf.score(train_x, train_y)))"
   ]
  },
  {
   "cell_type": "markdown",
   "metadata": {
    "id": "IeufCwdHOzmB"
   },
   "source": [
    "### RandomForest model 사용"
   ]
  },
  {
   "cell_type": "code",
   "execution_count": null,
   "metadata": {
    "colab": {
     "base_uri": "https://localhost:8080/",
     "height": 34
    },
    "id": "nJkGeqdnOxc3",
    "outputId": "4a0fa828-b5fd-4bb7-cad5-95b814e5a056"
   },
   "outputs": [
    {
     "name": "stdout",
     "output_type": "stream",
     "text": [
      "Randomforest model time :  624.0853271484375\n"
     ]
    }
   ],
   "source": [
    "from sklearn.ensemble import RandomForestRegressor\n",
    "\n",
    "max_depth_list = []\n",
    "start = time.time()\n",
    "rf = RandomForestRegressor(n_estimators=100,\n",
    "                              n_jobs=-1,\n",
    "                              random_state=0)\n",
    "model_rf = rf.fit(train_x,train_y)\n",
    "print(\"Randomforest model time : \", time.time() - start)"
   ]
  },
  {
   "cell_type": "markdown",
   "metadata": {
    "id": "IMPisrlaAQK2"
   },
   "source": [
    "- 훈련 시간만 무려 10분 30초를 잡아먹는다.   \n",
    "- 정말 accuracy 향상을 위한게 아니면 그다지 추천하는 작업은 아닐 것 같다.   \n",
    "- 후에 lightgbm모델도 비슷할 것으로 추측"
   ]
  },
  {
   "cell_type": "code",
   "execution_count": null,
   "metadata": {
    "colab": {
     "base_uri": "https://localhost:8080/",
     "height": 296
    },
    "id": "Ww8fkHyxOxPS",
    "outputId": "a726163d-90e1-4ffe-e983-c8b498c0590b"
   },
   "outputs": [
    {
     "data": {
      "image/png": "[encoded data removed]",
      "text/plain": [
       "<Figure size 432x288 with 1 Axes>"
      ]
     },
     "metadata": {
      "needs_background": "light",
      "tags": []
     },
     "output_type": "display_data"
    }
   ],
   "source": [
    "rf_y_predict = model_rf.predict(test_x)\n",
    "plt.scatter(test_y,rf_y_predict, alpha=0.4)\n",
    "line = np.linspace(min(test_y.values), max(test_y.values), 1000)\n",
    "plt.plot(line, line, color = 'r')\n",
    "plt.title(\"RandomForest model\")\n",
    "plt.xlabel('stand_y_test')\n",
    "plt.ylabel('stand_y_pred')\n",
    "plt.show()"
   ]
  },
  {
   "cell_type": "markdown",
   "metadata": {
    "id": "9EHopZj4FBFU"
   },
   "source": [
    "- Decision Tree에 비해 훈련시간은 길지만 분산이 줄어듬을 확인함.\n",
    "- 0.01의 accuracy라도 올리는데 효과가 있음을 확인함."
   ]
  },
  {
   "cell_type": "code",
   "execution_count": null,
   "metadata": {
    "colab": {
     "base_uri": "https://localhost:8080/",
     "height": 68
    },
    "id": "-8Z8voSBSpBm",
    "outputId": "75f7a5c2-684e-401f-97a6-cdbce47c02b9"
   },
   "outputs": [
    {
     "name": "stdout",
     "output_type": "stream",
     "text": [
      "MSE : 0.045, RMSE : 1.044\n",
      "Variance score : 0.987\n",
      "R2 score : 0.998\n"
     ]
    }
   ],
   "source": [
    "rf_mse = mean_squared_error(test_y, rf_y_predict)\n",
    "rf_rmse = np.sqrt(mse)\n",
    "print('MSE : {0:.3f}, RMSE : {1:.3f}'.format(rf_mse,rf_rmse))\n",
    "print('Variance score : {0:.3f}'.format(r2_score(test_y,rf_y_predict)))\n",
    "print('R2 score : {0:.3f}'.format(model_rf.score(train_x, train_y)))"
   ]
  },
  {
   "cell_type": "code",
   "execution_count": null,
   "metadata": {
    "colab": {
     "base_uri": "https://localhost:8080/",
     "height": 384
    },
    "id": "M_aKJB74Fq5V",
    "outputId": "3e8720e3-3650-414d-bd76-fb33892b0b99"
   },
   "outputs": [
    {
     "name": "stdout",
     "output_type": "stream",
     "text": [
      "Feature: 0, Score : 0.08328\n",
      "Feature: 1, Score : 0.54621\n",
      "Feature: 2, Score : 0.08124\n",
      "Feature: 3, Score : 0.03086\n",
      "Feature: 4, Score : 0.02773\n",
      "Feature: 5, Score : 0.18444\n",
      "Feature: 6, Score : 0.04623\n"
     ]
    },
    {
     "data": {
      "image/png": "[encoded data removed]",
      "text/plain": [
       "<Figure size 432x288 with 1 Axes>"
      ]
     },
     "metadata": {
      "needs_background": "light",
      "tags": []
     },
     "output_type": "display_data"
    }
   ],
   "source": [
    "from matplotlib import pyplot\n",
    "importance = model_rf.feature_importances_\n",
    "\n",
    "for i,v in enumerate(importance):\n",
    "  print('Feature: %0d, Score : %.5f'%(i,v))\n",
    "pyplot.bar([x for x in range(len(importance))],importance)\n",
    "pyplot.show()"
   ]
  },
  {
   "cell_type": "code",
   "execution_count": null,
   "metadata": {
    "colab": {
     "base_uri": "https://localhost:8080/",
     "height": 34
    },
    "id": "Uy1czos3GIS9",
    "outputId": "06d066d1-13a7-4abf-ded5-6a565a72fb9a"
   },
   "outputs": [
    {
     "data": {
      "text/plain": [
       "Index(['ambient', 'coolant', 'u_d', 'u_q', 'motor_speed', 'i_d', 'x_PCA'], dtype='object')"
      ]
     },
     "execution_count": 65,
     "metadata": {
      "tags": []
     },
     "output_type": "execute_result"
    }
   ],
   "source": [
    "train_x.columns"
   ]
  },
  {
   "cell_type": "markdown",
   "metadata": {
    "id": "MyqIZ8tgFN2F"
   },
   "source": [
    "- 0.974에서 0.987로 Variance score가 올라감을 확인함\n",
    "- MSE 또한 0.092에서 0.045로 감소함\n",
    "- 미세한 성능향상이지만 상위권에서 성능향상이므로 의미있는 분석\n",
    "- randomforest Regressor의 경우 feature_importance 출력하는 방식이 lightgbm 모델과 차이가 있음.. rf의 경우 coolant와 i_d를 주요인자로 뽑음"
   ]
  },
  {
   "cell_type": "markdown",
   "metadata": {
    "id": "31bGECmc9IpZ"
   },
   "source": [
    "### Lightgbm model 사용"
   ]
  },
  {
   "cell_type": "code",
   "execution_count": null,
   "metadata": {
    "id": "hxbuaRL6uMTX"
   },
   "outputs": [],
   "source": [
    "import lightgbm as lgb\n",
    "\n",
    "train_ds = lgb.Dataset(train_x,label = train_y)\n",
    "test_ds = lgb.Dataset(test_x,label = test_y)"
   ]
  },
  {
   "cell_type": "code",
   "execution_count": null,
   "metadata": {
    "id": "e3r2BSoeu85E"
   },
   "outputs": [],
   "source": [
    "params = {'n_estimators' : 10000,\n",
    "          'learning_rate': 0.01, \n",
    "          'max_depth': 16, \n",
    "          'boosting': 'gbdt', \n",
    "          'objective': 'regression', \n",
    "          'metric': 'mse', \n",
    "          'is_training_metric': True, \n",
    "          'num_leaves': 144, \n",
    "          'feature_fraction': 0.9, \n",
    "          'bagging_fraction': 0.7, \n",
    "          'bagging_freq': 5, \n",
    "          'seed':2018}"
   ]
  },
  {
   "cell_type": "code",
   "execution_count": null,
   "metadata": {
    "colab": {
     "base_uri": "https://localhost:8080/",
     "height": 1000
    },
    "id": "dMH-T5-Yu9Q0",
    "outputId": "d7823adc-4410-4d17-fe3a-c7c2ddc6176c"
   },
   "outputs": [
    {
     "name": "stderr",
     "output_type": "stream",
     "text": [
      "/usr/local/lib/python3.6/dist-packages/lightgbm/engine.py:118: UserWarning: Found `n_estimators` in params. Will use it instead of argument\n",
      "  warnings.warn(\"Found `{}` in params. Will use it instead of argument\".format(alias))\n"
     ]
    },
    {
     "name": "stdout",
     "output_type": "stream",
     "text": [
      "Training until validation scores don't improve for 100 rounds.\n",
      "[100]\tvalid_0's l2: 0.957386\n",
      "[200]\tvalid_0's l2: 0.510193\n",
      "[300]\tvalid_0's l2: 0.391787\n",
      "[400]\tvalid_0's l2: 0.337653\n",
      "[500]\tvalid_0's l2: 0.304282\n",
      "[600]\tvalid_0's l2: 0.28093\n",
      "[700]\tvalid_0's l2: 0.263413\n",
      "[800]\tvalid_0's l2: 0.250693\n",
      "[900]\tvalid_0's l2: 0.240125\n",
      "[1000]\tvalid_0's l2: 0.231508\n",
      "[1100]\tvalid_0's l2: 0.223911\n",
      "[1200]\tvalid_0's l2: 0.216183\n",
      "[1300]\tvalid_0's l2: 0.2099\n",
      "[1400]\tvalid_0's l2: 0.203158\n",
      "[1500]\tvalid_0's l2: 0.197349\n",
      "[1600]\tvalid_0's l2: 0.191906\n",
      "[1700]\tvalid_0's l2: 0.187203\n",
      "[1800]\tvalid_0's l2: 0.18255\n",
      "[1900]\tvalid_0's l2: 0.178412\n",
      "[2000]\tvalid_0's l2: 0.174171\n",
      "[2100]\tvalid_0's l2: 0.17027\n",
      "[2200]\tvalid_0's l2: 0.166436\n",
      "[2300]\tvalid_0's l2: 0.163269\n",
      "[2400]\tvalid_0's l2: 0.160035\n",
      "[2500]\tvalid_0's l2: 0.157085\n",
      "[2600]\tvalid_0's l2: 0.154473\n",
      "[2700]\tvalid_0's l2: 0.151831\n",
      "[2800]\tvalid_0's l2: 0.149462\n",
      "[2900]\tvalid_0's l2: 0.147084\n",
      "[3000]\tvalid_0's l2: 0.14496\n",
      "[3100]\tvalid_0's l2: 0.142554\n",
      "[3200]\tvalid_0's l2: 0.140412\n",
      "[3300]\tvalid_0's l2: 0.138222\n",
      "[3400]\tvalid_0's l2: 0.136487\n",
      "[3500]\tvalid_0's l2: 0.134651\n",
      "[3600]\tvalid_0's l2: 0.132608\n",
      "[3700]\tvalid_0's l2: 0.130982\n",
      "[3800]\tvalid_0's l2: 0.129539\n",
      "[3900]\tvalid_0's l2: 0.128203\n",
      "[4000]\tvalid_0's l2: 0.126638\n",
      "[4100]\tvalid_0's l2: 0.125038\n",
      "[4200]\tvalid_0's l2: 0.123651\n",
      "[4300]\tvalid_0's l2: 0.122276\n",
      "[4400]\tvalid_0's l2: 0.120935\n",
      "[4500]\tvalid_0's l2: 0.119542\n",
      "[4600]\tvalid_0's l2: 0.118207\n",
      "[4700]\tvalid_0's l2: 0.117082\n",
      "[4800]\tvalid_0's l2: 0.116007\n",
      "[4900]\tvalid_0's l2: 0.114835\n",
      "[5000]\tvalid_0's l2: 0.113708\n",
      "[5100]\tvalid_0's l2: 0.112695\n",
      "[5200]\tvalid_0's l2: 0.111766\n",
      "[5300]\tvalid_0's l2: 0.110828\n",
      "[5400]\tvalid_0's l2: 0.109874\n",
      "[5500]\tvalid_0's l2: 0.109043\n",
      "[5600]\tvalid_0's l2: 0.10811\n",
      "[5700]\tvalid_0's l2: 0.107277\n",
      "[5900]\tvalid_0's l2: 0.105596\n",
      "[6000]\tvalid_0's l2: 0.104775\n",
      "[6100]\tvalid_0's l2: 0.104052\n",
      "[6200]\tvalid_0's l2: 0.103451\n",
      "[6300]\tvalid_0's l2: 0.102635\n",
      "[6400]\tvalid_0's l2: 0.101879\n",
      "[6500]\tvalid_0's l2: 0.101104\n",
      "[6600]\tvalid_0's l2: 0.10034\n",
      "[6700]\tvalid_0's l2: 0.0996592\n",
      "[6800]\tvalid_0's l2: 0.0990069\n",
      "[6900]\tvalid_0's l2: 0.0983816\n",
      "[7000]\tvalid_0's l2: 0.0976894\n",
      "[7100]\tvalid_0's l2: 0.0970722\n",
      "[7200]\tvalid_0's l2: 0.0965213\n",
      "[7300]\tvalid_0's l2: 0.0959842\n",
      "[7400]\tvalid_0's l2: 0.0954374\n",
      "[7500]\tvalid_0's l2: 0.0948902\n",
      "[7600]\tvalid_0's l2: 0.0943153\n",
      "[7700]\tvalid_0's l2: 0.0937787\n",
      "[7800]\tvalid_0's l2: 0.0931816\n",
      "[7900]\tvalid_0's l2: 0.0926568\n",
      "[8000]\tvalid_0's l2: 0.092137\n",
      "[8100]\tvalid_0's l2: 0.0916255\n",
      "[8200]\tvalid_0's l2: 0.0911706\n",
      "[8300]\tvalid_0's l2: 0.0907382\n",
      "[8400]\tvalid_0's l2: 0.0902469\n",
      "[8500]\tvalid_0's l2: 0.0898256\n",
      "[8600]\tvalid_0's l2: 0.0894251\n",
      "[8700]\tvalid_0's l2: 0.0890062\n",
      "[8800]\tvalid_0's l2: 0.0885737\n",
      "[8900]\tvalid_0's l2: 0.0881403\n",
      "[9000]\tvalid_0's l2: 0.0876767\n",
      "[9100]\tvalid_0's l2: 0.0872603\n",
      "[9200]\tvalid_0's l2: 0.0868744\n",
      "[9300]\tvalid_0's l2: 0.0865108\n",
      "[9400]\tvalid_0's l2: 0.0861532\n",
      "[9500]\tvalid_0's l2: 0.0858098\n",
      "[9600]\tvalid_0's l2: 0.0854374\n",
      "[9700]\tvalid_0's l2: 0.0850764\n",
      "[9800]\tvalid_0's l2: 0.084762\n",
      "[9900]\tvalid_0's l2: 0.0843716\n",
      "[10000]\tvalid_0's l2: 0.0840416\n",
      "Did not meet early stopping. Best iteration is:\n",
      "[10000]\tvalid_0's l2: 0.0840416\n",
      "lightgbm model time :  579.851893901825\n"
     ]
    }
   ],
   "source": [
    "start = time.time()\n",
    "model_lgb = lgb.train(params, train_ds, 10000, test_ds, verbose_eval=100, early_stopping_rounds=100)\n",
    "print(\"lightgbm model time : \", time.time() - start)"
   ]
  },
  {
   "cell_type": "markdown",
   "metadata": {
    "id": "yqCbH0Pxedc6"
   },
   "source": [
    "* Feature importance\n",
    "\n",
    ">   * 하나의 decision tree에서 각각의 attribute로 이루어진 split point에 의해 얼마나 트리의 성능이 올라가는지를 계산함.  \n",
    ">   * instance가 split point에 의해 영향을 받는지 숫자만큼 가중치를 두어 성능 향상치를 계산함.   \n",
    ">   * 앙상블 모델(RF)은 모든 decision tree에 대해 구하고 평균을 냄.   \n",
    ">   * 성능 측정은 지니계수 또는 information gain을 사용\n",
    "\n",
    "![image.png](data:image/png;base64,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)   \n",
    "<< Feature importance 원리 >>"
   ]
  },
  {
   "cell_type": "code",
   "execution_count": null,
   "metadata": {
    "colab": {
     "base_uri": "https://localhost:8080/",
     "height": 421
    },
    "id": "hGYDr51dxeIV",
    "outputId": "8ff1192f-1c5a-4afd-dd8d-10fdb9ffe896"
   },
   "outputs": [
    {
     "data": {
      "text/plain": [
       "<matplotlib.axes._subplots.AxesSubplot at 0x7fc506b9a0f0>"
      ]
     },
     "execution_count": 69,
     "metadata": {
      "tags": []
     },
     "output_type": "execute_result"
    },
    {
     "data": {
      "image/png": "[encoded data removed]",
      "text/plain": [
       "<Figure size 720x432 with 1 Axes>"
      ]
     },
     "metadata": {
      "needs_background": "light",
      "tags": []
     },
     "output_type": "display_data"
    }
   ],
   "source": [
    "import matplotlib.pyplot as plt\n",
    "from lightgbm import plot_importance\n",
    "fig,ax = plt.subplots(figsize = (10,6))\n",
    "plot_importance(model_lgb,ax=ax)"
   ]
  },
  {
   "cell_type": "code",
   "execution_count": null,
   "metadata": {
    "id": "TEUPrEKgx8Qx"
   },
   "outputs": [],
   "source": [
    "lgb_y_predict_train = model_lgb.predict(train_x)\n",
    "lgb_y_predict_test = model_lgb.predict(test_x)"
   ]
  },
  {
   "cell_type": "code",
   "execution_count": null,
   "metadata": {
    "id": "GiEhGg7Xx8mz"
   },
   "outputs": [],
   "source": [
    "from sklearn.metrics import mean_squared_error, r2_score\n",
    "\n",
    "lgb_mse = mean_squared_error(test_y, lgb_y_predict_test)\n",
    "lgb_r2 = r2_score(test_y, lgb_y_predict_test)"
   ]
  },
  {
   "cell_type": "code",
   "execution_count": null,
   "metadata": {
    "colab": {
     "base_uri": "https://localhost:8080/",
     "height": 51
    },
    "id": "QHKqZArwx_dr",
    "outputId": "29690fa2-f6b5-4bad-aef8-7dd13dae0071"
   },
   "outputs": [
    {
     "name": "stdout",
     "output_type": "stream",
     "text": [
      "lightgbm Mean squared error:  0.0840416112105818\n",
      "lightgbm R2 score:  0.9757575089449554\n"
     ]
    }
   ],
   "source": [
    "print('lightgbm Mean squared error: ', lgb_mse)\n",
    "print('lightgbm R2 score: ', lgb_r2)"
   ]
  },
  {
   "cell_type": "code",
   "execution_count": null,
   "metadata": {
    "id": "MkCBbWezyBKS"
   },
   "outputs": [],
   "source": [
    "final_result = pd.concat([test_y.reset_index(drop=True), pd.DataFrame(lgb_y_predict_test)], axis = 1)"
   ]
  },
  {
   "cell_type": "code",
   "execution_count": null,
   "metadata": {
    "id": "Lq9gg8QwyCjR"
   },
   "outputs": [],
   "source": [
    "final_result.columns = ['test_y','predict']"
   ]
  },
  {
   "cell_type": "code",
   "execution_count": null,
   "metadata": {
    "colab": {
     "base_uri": "https://localhost:8080/",
     "height": 297
    },
    "id": "tTI126LKyFN-",
    "outputId": "894da976-4db2-461c-e28e-e50bbc4f0874"
   },
   "outputs": [
    {
     "data": {
      "text/plain": [
       "<matplotlib.axes._subplots.AxesSubplot at 0x7fc506ae8588>"
      ]
     },
     "execution_count": 75,
     "metadata": {
      "tags": []
     },
     "output_type": "execute_result"
    },
    {
     "data": {
      "image/png": "[encoded data removed]",
      "text/plain": [
       "<Figure size 432x288 with 1 Axes>"
      ]
     },
     "metadata": {
      "needs_background": "light",
      "tags": []
     },
     "output_type": "display_data"
    }
   ],
   "source": [
    "import seaborn as sns\n",
    "sns.regplot(x = 'test_y', y = 'predict', data = final_result)"
   ]
  },
  {
   "cell_type": "code",
   "execution_count": null,
   "metadata": {
    "colab": {
     "base_uri": "https://localhost:8080/",
     "height": 282
    },
    "id": "b1VH_ye6y1yt",
    "outputId": "ee2784ff-b3d0-4d63-b5cb-fb743c5a326a"
   },
   "outputs": [
    {
     "data": {
      "text/plain": [
       "<matplotlib.axes._subplots.AxesSubplot at 0x7fc506ae27f0>"
      ]
     },
     "execution_count": 76,
     "metadata": {
      "tags": []
     },
     "output_type": "execute_result"
    },
    {
     "data": {
      "image/png": "[encoded data removed]",
      "text/plain": [
       "<Figure size 432x288 with 1 Axes>"
      ]
     },
     "metadata": {
      "needs_background": "light",
      "tags": []
     },
     "output_type": "display_data"
    }
   ],
   "source": [
    "test_y.hist()"
   ]
  },
  {
   "cell_type": "code",
   "execution_count": null,
   "metadata": {
    "colab": {
     "base_uri": "https://localhost:8080/",
     "height": 282
    },
    "id": "Qw8vt3w5-h4M",
    "outputId": "48b0b81e-8a1a-4f9a-dd3c-873b6184237f"
   },
   "outputs": [
    {
     "data": {
      "text/plain": [
       "<matplotlib.axes._subplots.AxesSubplot at 0x7fc5069eda58>"
      ]
     },
     "execution_count": 77,
     "metadata": {
      "tags": []
     },
     "output_type": "execute_result"
    },
    {
     "data": {
      "image/png": "[encoded data removed]",
      "text/plain": [
       "<Figure size 432x288 with 1 Axes>"
      ]
     },
     "metadata": {
      "needs_background": "light",
      "tags": []
     },
     "output_type": "display_data"
    }
   ],
   "source": [
    "pd.Series(lgb_y_predict_test).hist()"
   ]
  },
  {
   "cell_type": "markdown",
   "metadata": {
    "id": "SdhTsb2SQWT1"
   },
   "source": [
    "### MLP model 사용"
   ]
  },
  {
   "cell_type": "code",
   "execution_count": null,
   "metadata": {
    "colab": {
     "base_uri": "https://localhost:8080/",
     "height": 419
    },
    "id": "tYeX8HANQnc0",
    "outputId": "e9649e90-fea1-4ca4-be38-5bd349e2a17f"
   },
   "outputs": [
    {
     "data": {
      "text/html": [
       "<div>\n",
       "<style scoped>\n",
       "    .dataframe tbody tr th:only-of-type {\n",
       "        vertical-align: middle;\n",
       "    }\n",
       "\n",
       "    .dataframe tbody tr th {\n",
       "        vertical-align: top;\n",
       "    }\n",
       "\n",
       "    .dataframe thead th {\n",
       "        text-align: right;\n",
       "    }\n",
       "</style>\n",
       "<table border=\"1\" class=\"dataframe\">\n",
       "  <thead>\n",
       "    <tr style=\"text-align: right;\">\n",
       "      <th></th>\n",
       "      <th>ambient</th>\n",
       "      <th>coolant</th>\n",
       "      <th>u_d</th>\n",
       "      <th>u_q</th>\n",
       "      <th>motor_speed</th>\n",
       "      <th>i_d</th>\n",
       "      <th>x_PCA</th>\n",
       "    </tr>\n",
       "  </thead>\n",
       "  <tbody>\n",
       "    <tr>\n",
       "      <th>339259</th>\n",
       "      <td>-0.220472</td>\n",
       "      <td>-0.180476</td>\n",
       "      <td>-0.403790</td>\n",
       "      <td>1.546530</td>\n",
       "      <td>0.941941</td>\n",
       "      <td>-0.112864</td>\n",
       "      <td>-0.095223</td>\n",
       "    </tr>\n",
       "    <tr>\n",
       "      <th>327317</th>\n",
       "      <td>-0.459517</td>\n",
       "      <td>0.377016</td>\n",
       "      <td>0.315849</td>\n",
       "      <td>-1.330556</td>\n",
       "      <td>-1.222431</td>\n",
       "      <td>1.029147</td>\n",
       "      <td>0.349897</td>\n",
       "    </tr>\n",
       "    <tr>\n",
       "      <th>369436</th>\n",
       "      <td>-0.139411</td>\n",
       "      <td>0.323597</td>\n",
       "      <td>1.177675</td>\n",
       "      <td>0.139803</td>\n",
       "      <td>-0.348314</td>\n",
       "      <td>0.570178</td>\n",
       "      <td>1.917082</td>\n",
       "    </tr>\n",
       "    <tr>\n",
       "      <th>797124</th>\n",
       "      <td>-1.022138</td>\n",
       "      <td>-0.355820</td>\n",
       "      <td>0.848799</td>\n",
       "      <td>-0.518742</td>\n",
       "      <td>-0.729976</td>\n",
       "      <td>0.473903</td>\n",
       "      <td>2.150307</td>\n",
       "    </tr>\n",
       "    <tr>\n",
       "      <th>498</th>\n",
       "      <td>-0.802005</td>\n",
       "      <td>-1.054030</td>\n",
       "      <td>0.183145</td>\n",
       "      <td>1.676523</td>\n",
       "      <td>2.024118</td>\n",
       "      <td>-0.818369</td>\n",
       "      <td>0.362874</td>\n",
       "    </tr>\n",
       "    <tr>\n",
       "      <th>...</th>\n",
       "      <td>...</td>\n",
       "      <td>...</td>\n",
       "      <td>...</td>\n",
       "      <td>...</td>\n",
       "      <td>...</td>\n",
       "      <td>...</td>\n",
       "      <td>...</td>\n",
       "    </tr>\n",
       "    <tr>\n",
       "      <th>192476</th>\n",
       "      <td>-1.212341</td>\n",
       "      <td>-1.076090</td>\n",
       "      <td>0.286822</td>\n",
       "      <td>-1.168538</td>\n",
       "      <td>-1.189990</td>\n",
       "      <td>0.924248</td>\n",
       "      <td>-0.320327</td>\n",
       "    </tr>\n",
       "    <tr>\n",
       "      <th>17730</th>\n",
       "      <td>-0.581731</td>\n",
       "      <td>-1.057742</td>\n",
       "      <td>-0.955778</td>\n",
       "      <td>0.646803</td>\n",
       "      <td>-0.140251</td>\n",
       "      <td>0.386204</td>\n",
       "      <td>-1.530400</td>\n",
       "    </tr>\n",
       "    <tr>\n",
       "      <th>28030</th>\n",
       "      <td>0.074134</td>\n",
       "      <td>-1.094394</td>\n",
       "      <td>0.310154</td>\n",
       "      <td>-0.707684</td>\n",
       "      <td>-0.951874</td>\n",
       "      <td>1.029142</td>\n",
       "      <td>0.349658</td>\n",
       "    </tr>\n",
       "    <tr>\n",
       "      <th>277869</th>\n",
       "      <td>-2.749614</td>\n",
       "      <td>-1.090646</td>\n",
       "      <td>0.167840</td>\n",
       "      <td>0.403517</td>\n",
       "      <td>-0.410789</td>\n",
       "      <td>1.013982</td>\n",
       "      <td>0.144918</td>\n",
       "    </tr>\n",
       "    <tr>\n",
       "      <th>773630</th>\n",
       "      <td>0.391753</td>\n",
       "      <td>-0.608527</td>\n",
       "      <td>0.341855</td>\n",
       "      <td>-1.316392</td>\n",
       "      <td>-1.222430</td>\n",
       "      <td>1.029164</td>\n",
       "      <td>0.349895</td>\n",
       "    </tr>\n",
       "  </tbody>\n",
       "</table>\n",
       "<p>668706 rows × 7 columns</p>\n",
       "</div>"
      ],
      "text/plain": [
       "         ambient   coolant       u_d       u_q  motor_speed       i_d     x_PCA\n",
       "339259 -0.220472 -0.180476 -0.403790  1.546530     0.941941 -0.112864 -0.095223\n",
       "327317 -0.459517  0.377016  0.315849 -1.330556    -1.222431  1.029147  0.349897\n",
       "369436 -0.139411  0.323597  1.177675  0.139803    -0.348314  0.570178  1.917082\n",
       "797124 -1.022138 -0.355820  0.848799 -0.518742    -0.729976  0.473903  2.150307\n",
       "498    -0.802005 -1.054030  0.183145  1.676523     2.024118 -0.818369  0.362874\n",
       "...          ...       ...       ...       ...          ...       ...       ...\n",
       "192476 -1.212341 -1.076090  0.286822 -1.168538    -1.189990  0.924248 -0.320327\n",
       "17730  -0.581731 -1.057742 -0.955778  0.646803    -0.140251  0.386204 -1.530400\n",
       "28030   0.074134 -1.094394  0.310154 -0.707684    -0.951874  1.029142  0.349658\n",
       "277869 -2.749614 -1.090646  0.167840  0.403517    -0.410789  1.013982  0.144918\n",
       "773630  0.391753 -0.608527  0.341855 -1.316392    -1.222430  1.029164  0.349895\n",
       "\n",
       "[668706 rows x 7 columns]"
      ]
     },
     "execution_count": 78,
     "metadata": {
      "tags": []
     },
     "output_type": "execute_result"
    }
   ],
   "source": [
    "train_x"
   ]
  },
  {
   "cell_type": "code",
   "execution_count": null,
   "metadata": {
    "colab": {
     "base_uri": "https://localhost:8080/",
     "height": 221
    },
    "id": "dQKmeA3GQpMc",
    "outputId": "74535933-444a-4e5b-cd59-1b75afb26987"
   },
   "outputs": [
    {
     "data": {
      "text/plain": [
       "339259   -0.560281\n",
       "327317   -1.505569\n",
       "369436    0.500476\n",
       "797124   -2.812158\n",
       "498      -2.305082\n",
       "            ...   \n",
       "192476   -2.067085\n",
       "17730    -2.270284\n",
       "28030    -3.230032\n",
       "277869   -2.842089\n",
       "773630   -1.056901\n",
       "Name: y_PCA1, Length: 668706, dtype: float64"
      ]
     },
     "execution_count": 79,
     "metadata": {
      "tags": []
     },
     "output_type": "execute_result"
    }
   ],
   "source": [
    "train_y"
   ]
  },
  {
   "cell_type": "code",
   "execution_count": null,
   "metadata": {
    "id": "sUfV3RLPQYjq"
   },
   "outputs": [],
   "source": [
    "from sklearn.neural_network import MLPRegressor\n",
    "\n",
    "mlp = MLPRegressor(hidden_layer_sizes = (256,16),max_iter=50)"
   ]
  },
  {
   "cell_type": "code",
   "execution_count": null,
   "metadata": {
    "colab": {
     "base_uri": "https://localhost:8080/",
     "height": 68
    },
    "id": "HZtAjLv6QZwz",
    "outputId": "dadb382b-e04f-4b5f-fe23-a872f0a8cd66"
   },
   "outputs": [
    {
     "name": "stderr",
     "output_type": "stream",
     "text": [
      "/usr/local/lib/python3.6/dist-packages/sklearn/neural_network/_multilayer_perceptron.py:571: ConvergenceWarning: Stochastic Optimizer: Maximum iterations (50) reached and the optimization hasn't converged yet.\n",
      "  % self.max_iter, ConvergenceWarning)\n"
     ]
    },
    {
     "name": "stdout",
     "output_type": "stream",
     "text": [
      "MLP model time :  478.24735403060913\n"
     ]
    }
   ],
   "source": [
    "start = time.time()\n",
    "\n",
    "mlp.fit(train_x,train_y)\n",
    "mlp_predict = mlp.predict(test_x)\n",
    "print(\"MLP model time : \", time.time() - start)"
   ]
  },
  {
   "cell_type": "code",
   "execution_count": null,
   "metadata": {
    "colab": {
     "base_uri": "https://localhost:8080/",
     "height": 51
    },
    "id": "g4DjQR2IROeV",
    "outputId": "393967e5-8bd5-4c7d-eaca-15661044ffd0"
   },
   "outputs": [
    {
     "name": "stdout",
     "output_type": "stream",
     "text": [
      "MLP Mean squared error:  0.30405704242542386\n",
      "MLP R2 score:  0.9122922558831956\n"
     ]
    }
   ],
   "source": [
    "mlp_mse = mean_squared_error(test_y, mlp_predict)\n",
    "mlp_r2 = r2_score(test_y, mlp_predict)\n",
    "print('MLP Mean squared error: ', mlp_mse)\n",
    "print('MLP R2 score: ', mlp_r2)"
   ]
  },
  {
   "cell_type": "code",
   "execution_count": null,
   "metadata": {
    "colab": {
     "base_uri": "https://localhost:8080/",
     "height": 282
    },
    "id": "6hFjXy-diE3U",
    "outputId": "341f2050-a6c3-4dbf-811f-a0d1a52d299d"
   },
   "outputs": [
    {
     "data": {
      "text/plain": [
       "<matplotlib.axes._subplots.AxesSubplot at 0x7fc5069ac828>"
      ]
     },
     "execution_count": 83,
     "metadata": {
      "tags": []
     },
     "output_type": "execute_result"
    },
    {
     "data": {
      "image/png": "[encoded data removed]",
      "text/plain": [
       "<Figure size 432x288 with 1 Axes>"
      ]
     },
     "metadata": {
      "needs_background": "light",
      "tags": []
     },
     "output_type": "display_data"
    }
   ],
   "source": [
    "pd.Series(mlp_predict).hist()"
   ]
  },
  {
   "cell_type": "code",
   "execution_count": null,
   "metadata": {
    "colab": {
     "base_uri": "https://localhost:8080/",
     "height": 282
    },
    "id": "QFaRcsHsiME6",
    "outputId": "2e93c663-de29-439c-87ea-09fc1b639861"
   },
   "outputs": [
    {
     "data": {
      "text/plain": [
       "<matplotlib.axes._subplots.AxesSubplot at 0x7fc5068ba400>"
      ]
     },
     "execution_count": 84,
     "metadata": {
      "tags": []
     },
     "output_type": "execute_result"
    },
    {
     "data": {
      "image/png": "[encoded data removed]",
      "text/plain": [
       "<Figure size 432x288 with 1 Axes>"
      ]
     },
     "metadata": {
      "needs_background": "light",
      "tags": []
     },
     "output_type": "display_data"
    }
   ],
   "source": [
    "test_y.hist()"
   ]
  },
  {
   "cell_type": "markdown",
   "metadata": {
    "id": "2Dxb4SnqrGpo"
   },
   "source": [
    "- 여러 실험을 진행했으나, layer가 깊으면 좋은 결과를 배출하긴 함\n",
    "- 하지만 기하급수적으로 계산시간이 증가함 (레이어 4개, 최대 5470초 소요)\n",
    "- 빈도가 높은 값들은 잘 맞추나, 빈도가 낮은 값들은 맞추지 못함"
   ]
  },
  {
   "cell_type": "markdown",
   "metadata": {
    "id": "rBNiAw14raSY"
   },
   "source": [
    "## 실험결과 요약"
   ]
  },
  {
   "cell_type": "markdown",
   "metadata": {
    "id": "0HZKZRnGdGYz"
   },
   "source": [
    "* linear regression model   \n",
    "MSE : 1.090, RMSE : 1.044   \n",
    "Variance score : 0.685   \n",
    "R2 score : 0.687   \n",
    "\n",
    "* Decision tree model   \n",
    "MSE : 0.091, RMSE : 1.044   \n",
    "Variance score : 0.974   \n",
    "R2 score : 1.000   \n",
    "Decision Tree model time :  13.966539144515991   \n",
    "\n",
    "* Random Forest model   \n",
    "MSE : 0.045, RMSE : 1.044   \n",
    "Variance score : 0.987   \n",
    "R2 score : 0.998   \n",
    "Randomforest model time :  631.9166750907898   \n",
    "\n",
    "* lightgbm model    \n",
    "mse:  0.08   \n",
    "R2 score:  0.96   \n",
    "lightgbm model time :  590.7603940963745\n",
    "\n",
    "* MLP model   \n",
    "mse:  0.31414954216636365   \n",
    "R2 score:  0.91   \n",
    "MLP model time :  637.8875794410706"
   ]
  },
  {
   "cell_type": "markdown",
   "metadata": {
    "id": "1X04cvYY-pAn"
   },
   "source": [
    "### 실험결과\n",
    "\n",
    "- 데이터 셋 소개에서 주요 변수로 삼았던 PM , stator_yoke, stator_tooth, stator_winding과는 달리 ambient(모터 주변온도), coolant(냉각수 온도) 또한 주요한 변수로 선정\n",
    "- 종속 변수와 같이 온도라는 도메인에서 높은 점수를 얻었다고 추정.\n"
   ]
  }
 ],
 "metadata": {
  "colab": {
   "collapsed_sections": [],
   "name": "Electric Motor Temperature.ipynb",
   "provenance": []
  },
  "kernelspec": {
   "display_name": "Python 3",
   "language": "python",
   "name": "python3"
  },
  "language_info": {
   "codemirror_mode": {
    "name": "ipython",
    "version": 3
   },
   "file_extension": ".py",
   "mimetype": "text/x-python",
   "name": "python",
   "nbconvert_exporter": "python",
   "pygments_lexer": "ipython3",
   "version": "3.7.6"
  }
 },
 "nbformat": 4,
 "nbformat_minor": 1
}
